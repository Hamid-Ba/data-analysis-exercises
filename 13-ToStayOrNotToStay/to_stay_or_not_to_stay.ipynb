{
 "cells": [
  {
   "cell_type": "markdown",
   "id": "4fc6a194",
   "metadata": {},
   "source": [
    "<h1 align=center style=\"line-height:200%;font-family:vazir;color:#0099cc\">\n",
    "<font face=\"vazir\" color=\"#0099cc\">\n",
    "ماندن یا نماندن؛ مسئله اینست\n",
    "</font>\n",
    "</h1>"
   ]
  },
  {
   "cell_type": "markdown",
   "id": "75a70eeb",
   "metadata": {},
   "source": [
    "<h3 align=right style=\"line-height:200%;font-family:vazir;color:#0099cc\">\n",
    "<font face=\"vazir\" color=\"#0099cc\">\n",
    "    توضیحات ابتدایی\n",
    "</font>\n",
    "</h3>\n",
    "\n",
    "<p dir=rtl style=\"direction: rtl;text-align: right;line-height:200%;font-family:vazir;font-size:medium\">\n",
    "<font face=\"vazir\" size=3>\n",
    "    در درسنامه‌های گذشته با حذف مقادیر از داده و مدیریت مقادیر گمشده آشنا شدیم. حال در این تمرین قصد داریم با تمرین و کد زدن مهارت خود را به چالش بکشیم!\n",
    "    <br>\n",
    "    فایل migration_rate.csv آمار مهاجرت به و مهاجرت از کشور‌های مختلف را از سال ۱۹۹۰ تا ۲۰۲۰ نشان می‌دهد. هدف این تمرین، تحلیل نرخ مهاجرت تعدادی از کشورهای موجود در این فایل است.\n",
    "</font>\n",
    "</p>"
   ]
  },
  {
   "cell_type": "markdown",
   "id": "5f547b9e",
   "metadata": {},
   "source": [
    "<div dir=rtl style=\"direction: rtl;text-align: right;line-height:200%;font-family:vazir;font-size:medium\">\n",
    "<font face=\"vazir\" size=3>\n",
    "    \n",
    "| نام ستون| توضیح ستون|\n",
    "|:------------------:|:------------------:|\n",
    "| Country | نام کشور |\n",
    "| 1990   | در این ستون نرخ مهاجرت هر کشور در سال ۱۹۹۰ آمده‌است.|\n",
    "| 1995   |در این ستون نرخ مهاجرت هر کشور در سال ۱۹۹۵ آمده‌است.|\n",
    "| 2000   |در این ستون نرخ مهاجرت هر کشور در سال ۲۰۰۰ آمده‌است.|\n",
    "| 2005   |در این ستون نرخ مهاجرت هر کشور در سال ۲۰۰۵ آمده‌است.|\n",
    "| 2010   |در این ستون نرخ مهاجرت هر کشور در سال ۲۰۱۰ آمده‌است.|\n",
    "| 2015   |در این ستون نرخ مهاجرت هر کشور در سال ۲۰۱۵ آمده‌است.|\n",
    "| 2020   |در این ستون نرخ مهاجرت هر کشور در سال ۲۰۲۰ آمده‌است.|\n",
    "\n",
    "</font>\n",
    "</div>"
   ]
  },
  {
   "cell_type": "markdown",
   "id": "365be803",
   "metadata": {},
   "source": [
    "<h3 align=right style=\"line-height:200%;font-family:vazir;color:#0099cc\">\n",
    "<font face=\"vazir\" color=\"#0099cc\">\n",
    "    فرمول محاسبه نرخ مهاجرت\n",
    "</font>\n",
    "</h3>\n",
    "\n",
    "<p dir=rtl style=\"direction: rtl;text-align: right;line-height:200%;font-family:vazir;font-size:medium\">\n",
    "<font face=\"vazir\" size=3>\n",
    "    شاید برایتان سوال شده باشد، نرخ مهاجرت هر کشور چگونه محاسبه شده است!\n",
    "    <br>\n",
    "    نرخ مهاجرت حاصل نسبت تفاوت مهاجران به کشور و مهاجران از کشور، به جمعیت کشور در آن سال به ازای هر ۱۰۰۰ نفر است. به فرمول زیر توجه کنید.\n",
    "    </font>\n",
    "</p>\n",
    "\n",
    "\n",
    "<p dir=rtl style=\"text-align: center;line-height:200%;font-family:vazir;font-size:medium\">\n",
    "<font face=\"vazir\" size=5>\n",
    "    $\\frac{(migration in - migration out) * 1000 }{population}$\n",
    "</font>\n",
    "</p>\n",
    "\n",
    "<p dir=rtl style=\"direction:trl; text-align: right;line-height:200%;font-family:vazir;font-size:medium\">\n",
    "<font face=\"vazir\" size=3>\n",
    "    این فرمول در حل مسئله هیچ تاثیری ندارد، بلکه فقط برای درک بهتر آورده شده‌است.\n",
    "</font>\n",
    "</p>"
   ]
  },
  {
   "cell_type": "code",
   "execution_count": 274,
   "id": "6411a592",
   "metadata": {},
   "outputs": [],
   "source": [
    "import numpy as np\n",
    "import pandas as pd "
   ]
  },
  {
   "cell_type": "code",
   "execution_count": 275,
   "id": "0dc3abd5",
   "metadata": {},
   "outputs": [],
   "source": [
    "# read csv file in df\n",
    "df = pd.read_csv('./migration_rate.csv')"
   ]
  },
  {
   "cell_type": "markdown",
   "id": "883c753f",
   "metadata": {},
   "source": [
    "\n",
    "<p dir=rtl style=\"direction: rtl;text-align: right;line-height:200%;font-family:vazir;font-size:medium\">\n",
    "<font face=\"vazir\" size=3>\n",
    "این تمرین در دو بخش آماده شده‌است. بخش اول به منظور پیش‌پردازش و بخش دوم برای پاسخدهی به تعدادی سوال تحلیلی از داده طراحی شده‌است.    \n",
    "</font>\n",
    "</p>\n",
    "\n"
   ]
  },
  {
   "cell_type": "markdown",
   "id": "6ef94595",
   "metadata": {},
   "source": [
    "<h3 align=right style=\"line-height:200%;font-family:vazir;color:#0099cc\">\n",
    "<font face=\"vazir\" color=\"#0099cc\">\n",
    "بخش اول : پیش‌پردازش\n",
    "</font>\n",
    "</h3>\n",
    "\n",
    "<div dir=rtl style=\"direction: rtl;text-align: right;line-height:200%;font-family:vazir;font-size:medium\">\n",
    "<font face=\"vazir\" size=3>\n",
    "    پیش از تحلیل باید مقادیر گم‌شده در داده را مدیریت کنید و برخی از اطلاعات را نیز از بین ببرید.\n",
    "<br>\n",
    "در گام پیش‌پردازش به ترتیب مراحل زیر را انجام دهید.\n",
    "<ul>\n",
    "    <li>\n",
    "کشور‌هایی را که نرخ‌ مهاجرت در هر ۷ سال آن‌ها گم‌شده است از دیتاست برای همیشه حذف کنید.\n",
    "    </li>\n",
    "    <li>\n",
    "مقادیر گمشده کشور‌هایی که اطلاعات برخی از سال‌ها را از دست داده‌اند را با میانگین آن کشور پر کنید. به‌عنوان مثال اگر نرخ مهاجرت کشوری از سال ۱۹۹۵ تا ۲۰۲۰ به ترتیب 5.2-، 3.4-، 0.7-، 0.9، 1.3 و 2.5 باشد، نرخ مهاجرت سال ۱۹۹۰ که گمشده بود را باید با عدد 0.76- پر کنید.\n",
    "    </li>\n",
    "</ul>\n",
    "    </font>\n",
    "</div>\n",
    "\n"
   ]
  },
  {
   "cell_type": "markdown",
   "id": "e781cde6",
   "metadata": {},
   "source": [
    "<h3 align=right style=\"line-height:200%;font-family:vazir;color:#0099cc\">\n",
    "<font face=\"vazir\" color=\"#0099cc\">\n",
    "گام اول پیش‌پردازش\n",
    "</font>\n",
    "</h3>\n",
    "\n",
    "<div dir=rtl style=\"direction: rtl;text-align: right;line-height:200%;font-family:vazir;font-size:medium\">\n",
    "<font face=\"vazir\" size=3>\n",
    "        سطرهایی که نرخ هر ۷ سال در آن‌ها گمشده اند را حذف کنید.\n",
    "</font>\n",
    "</div>\n",
    "\n"
   ]
  },
  {
   "cell_type": "code",
   "execution_count": 276,
   "id": "35a42ee5",
   "metadata": {},
   "outputs": [],
   "source": [
    "# TODO: drop some rows\n",
    "df.dropna(thresh=2,inplace=True)"
   ]
  },
  {
   "cell_type": "markdown",
   "id": "ecd9f826",
   "metadata": {},
   "source": [
    "<h3 align=right style=\"line-height:200%;font-family:vazir;color:#0099cc\">\n",
    "<font face=\"vazir\" color=\"#0099cc\">\n",
    "گام دوم پیش‌پردازش\n",
    "</font>\n",
    "</h3>\n",
    "\n",
    "<div dir=rtl style=\"direction: rtl;text-align: right;line-height:200%;font-family:vazir;font-size:medium\">\n",
    "<font face=\"vazir\" size=3>\n",
    "    مقادیر گمشده هر سطر را با میانگین آن سطر پر کنید.\n",
    "</font>\n",
    "</div>\n"
   ]
  },
  {
   "cell_type": "code",
   "execution_count": 277,
   "id": "3d1d5777",
   "metadata": {},
   "outputs": [],
   "source": [
    "# TODO: fill null values of rows\n",
    "def fill_NaN(keys,df):\n",
    "    for key in keys:\n",
    "        df[str(key)].fillna(df.mean(axis=1,numeric_only=True),inplace=True)\n",
    "\n",
    "fill_NaN([i for i in range(1990,2025,5)],df)"
   ]
  },
  {
   "cell_type": "markdown",
   "id": "8818886d",
   "metadata": {},
   "source": [
    "<div dir=rtl id=\"start\" style=\"direction:rtl;line-height:200%;\">\n",
    "\t<font face=\"vazir\" size=3>\n",
    "        بعد از اتمام هر دو مرحله پیش‌پردازش، تعداد مقادیر گمشده همه ستون‌ها باید 0 باشد.\n",
    "    </font>\n",
    "</div>"
   ]
  },
  {
   "cell_type": "code",
   "execution_count": 278,
   "id": "33d43dac",
   "metadata": {},
   "outputs": [
    {
     "data": {
      "text/plain": [
       "Country    0\n",
       "1990       0\n",
       "1995       0\n",
       "2000       0\n",
       "2005       0\n",
       "2010       0\n",
       "2015       0\n",
       "2020       0\n",
       "dtype: int64"
      ]
     },
     "execution_count": 278,
     "metadata": {},
     "output_type": "execute_result"
    }
   ],
   "source": [
    "df.isna().sum()"
   ]
  },
  {
   "cell_type": "markdown",
   "id": "0a16a62e",
   "metadata": {},
   "source": [
    "<div dir=rtl id=\"start\" style=\"direction:rtl;line-height:200%;\">\n",
    "\t<font face=\"vazir\" size=3>\n",
    "        متغیر <code>df</code> مورد داوری قرار خواهد گرفت، بنابراین به‌غیر از دو گام پیش‌پردازشی، هیچ‌گونه تغییری روی آن اعمال نکنید!\n",
    "    </font>\n",
    "</div>"
   ]
  },
  {
   "cell_type": "markdown",
   "id": "7dc2ab30",
   "metadata": {},
   "source": [
    "<h3 align=right style=\"line-height:200%;font-family:vazir;color:#0099cc\">\n",
    "<font face=\"vazir\" color=\"#0099cc\">\n",
    "بخش دوم : تحلیل\n",
    "</font>\n",
    "</h3>\n",
    "\n",
    "<div dir=rtl style=\"direction: rtl;text-align: right;line-height:200%;font-family:vazir;font-size:medium\">\n",
    "<font face=\"vazir\" size=3>\n",
    "پس از اینکه ۲ مرحله بالا را انجام دادید به سوالات زیر پاسخ دهید.\n",
    "    <br>\n",
    "    قصد داریم با پاسخ به سوالات زیر، شهود دقیقی نسبت به وضع مهاجرت در برخی کشور‌ها به‌دست آوریم.\n",
    "</font>\n",
    "</div>\n",
    "\n"
   ]
  },
  {
   "cell_type": "markdown",
   "id": "89d472c5",
   "metadata": {},
   "source": [
    "<h3 align=right style=\"line-height:200%;font-family:vazir;color:#0099cc\">\n",
    "<font face=\"vazir\" color=\"#0099cc\">\n",
    "سوال اول\n",
    "</font>\n",
    "</h3>\n",
    "\n",
    "<div dir=rtl style=\"direction: rtl;text-align: right;line-height:200%;font-family:vazir;font-size:medium\">\n",
    "<font face=\"vazir\" size=3>\n",
    "    در سال ۲۰۲۰، <b>اسم</b> سه کشوری که بیشترین نرخ پذیرش مهاجر را دارند پیدا کنید. جواب خود را درون لیست <code>top_countries</code> ذخیره کنید. عنصر اول، دوم و سوم این لیست به ترتیب کشورهایی هستند که در رتبه اول تا سوم جذب مهاجر قرار می‌گیرند.\n",
    "</font>\n",
    "</div>\n",
    "\n"
   ]
  },
  {
   "cell_type": "code",
   "execution_count": 279,
   "id": "c210f7d1",
   "metadata": {},
   "outputs": [
    {
     "name": "stdout",
     "output_type": "stream",
     "text": [
      "['Bahrain' 'Maldives' 'Oman']\n"
     ]
    }
   ],
   "source": [
    "top_countries = df.sort_values(['2020'],ascending=False)[:3]['Country'].values\n",
    "print(top_countries)"
   ]
  },
  {
   "cell_type": "markdown",
   "id": "1310dcec",
   "metadata": {},
   "source": [
    "<h3 align=right style=\"line-height:200%;font-family:vazir;color:#0099cc\">\n",
    "<font face=\"vazir\" color=\"#0099cc\">\n",
    "سوال دوم\n",
    "</font>\n",
    "</h3>\n",
    "\n",
    "<div dir=rtl style=\"direction: rtl;text-align: right;line-height:200%;font-family:vazir;font-size:medium\">\n",
    "<font face=\"vazir\" size=3>\n",
    "    میانگین نرخ مهاجرت کشور ایران در این بازه ۳۰ ساله محاسبه کرده و جواب را در متغیر <code>iran_mean</code> بنویسید. جنس این متغیر باید <code>numpy.float64</code> باشد.\n",
    "    <br>\n",
    "    اسم کشور ایران در این مجموعه داده به صورت <code>Iran (Islamic Republic of)</code> آمده‌است.\n",
    "</font>\n",
    "</div>\n",
    "\n"
   ]
  },
  {
   "cell_type": "code",
   "execution_count": 280,
   "id": "56df3669",
   "metadata": {},
   "outputs": [
    {
     "name": "stdout",
     "output_type": "stream",
     "text": [
      "39   -0.228571\n",
      "dtype: float64\n"
     ]
    }
   ],
   "source": [
    "iran_mean = df[df.Country==\"Iran (Islamic Republic of)\"].mean(axis=1,numeric_only=True)\n",
    "print(iran_mean)"
   ]
  },
  {
   "cell_type": "markdown",
   "id": "b4572529",
   "metadata": {},
   "source": [
    "<h3 align=right style=\"line-height:200%;font-family:vazir;color:#0099cc\">\n",
    "<font face=\"vazir\" color=\"#0099cc\">\n",
    "سوال سوم\n",
    "</font>\n",
    "</h3>\n",
    "\n",
    "<div dir=rtl style=\"direction: rtl;text-align: right;line-height:200%;font-family:vazir;font-size:medium\">\n",
    "<font face=\"vazir\" size=3>\n",
    "    <b>اسم</b> کشوری که در این بازه ۳۰ ساله، بیشترین رشد را داشته است در متغیر <code>highest_growth</code> بنویسید. این متغیر از نوع <i>str</i> است. منظور از رشد، تفاضل نرخ سال ۲۰۲۰ از سال ۱۹۹۰ است.\n",
    "\n",
    "</font>\n",
    "</div>\n",
    "\n"
   ]
  },
  {
   "cell_type": "code",
   "execution_count": 281,
   "id": "fcbf7a10",
   "metadata": {},
   "outputs": [
    {
     "name": "stdout",
     "output_type": "stream",
     "text": [
      "Liberia\n"
     ]
    }
   ],
   "source": [
    "df['high_growth'] = df['2020'] - df['1990']\n",
    "highest_growth = df.sort_values('high_growth',ascending=False).iloc[0]['Country']\n",
    "print(highest_growth)\n",
    "df.drop(columns={'high_growth'},inplace=True)"
   ]
  },
  {
   "cell_type": "markdown",
   "id": "eeca036a",
   "metadata": {},
   "source": [
    "<h3 align=right style=\"line-height:200%;font-family:vazir;color:#0099cc\">\n",
    "<font face=\"vazir\" color=\"#0099cc\">\n",
    "    سلول جواب‌ساز\n",
    "</font>\n",
    "</h3>\n"
   ]
  },
  {
   "cell_type": "code",
   "execution_count": 282,
   "id": "b10ef49e",
   "metadata": {},
   "outputs": [
    {
     "name": "stdout",
     "output_type": "stream",
     "text": [
      "File Paths:\n",
      "['df.csv', 'top_countries', 'iran_mean', 'highest_growth', 'to_stay_or_not_to_stay.ipynb']\n"
     ]
    }
   ],
   "source": [
    "import zipfile\n",
    "import joblib\n",
    "\n",
    "df.to_csv('./df.csv', index=False)\n",
    "joblib.dump(top_countries,\"top_countries\")\n",
    "joblib.dump(iran_mean,\"iran_mean\")\n",
    "joblib.dump(highest_growth, \"highest_growth\")\n",
    "\n",
    "\n",
    "def compress(file_names):\n",
    "    print(\"File Paths:\")\n",
    "    print(file_names)\n",
    "    # Select the compression mode ZIP_DEFLATED for compression\n",
    "    # or zipfile.ZIP_STORED to just store the file\n",
    "    compression = zipfile.ZIP_DEFLATED\n",
    "    # create the zip file first parameter path/name, second mode\n",
    "    with zipfile.ZipFile(\"result.zip\", mode=\"w\") as zf:\n",
    "        for file_name in file_names:\n",
    "            # Add file to the zip file\n",
    "            # first parameter file to zip, second filename in zip\n",
    "            zf.write('./' + file_name, file_name, compress_type=compression)\n",
    "\n",
    "\n",
    "file_names = [\"df.csv\", \"top_countries\", \"iran_mean\", \"highest_growth\", \"to_stay_or_not_to_stay.ipynb\"]\n",
    "compress(file_names)"
   ]
  }
 ],
 "metadata": {
  "kernelspec": {
   "display_name": "Python 3",
   "language": "python",
   "name": "python3"
  },
  "language_info": {
   "codemirror_mode": {
    "name": "ipython",
    "version": 3
   },
   "file_extension": ".py",
   "mimetype": "text/x-python",
   "name": "python",
   "nbconvert_exporter": "python",
   "pygments_lexer": "ipython3",
   "version": "3.8.15"
  }
 },
 "nbformat": 4,
 "nbformat_minor": 5
}
