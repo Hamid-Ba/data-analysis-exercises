{
 "cells": [
  {
   "cell_type": "markdown",
   "metadata": {},
   "source": [
    "\n",
    "<h1 align=center style=\"line-height:200%;font-family:vazir;color:#0099cc\">\n",
    "<font face=\"vazir\" color=\"#0099cc\">\n",
    "بر باد رفته\n",
    "</font>\n",
    "</h1>\n",
    "\n",
    "\n"
   ]
  },
  {
   "cell_type": "markdown",
   "metadata": {
    "id": "FKkOFNssZr-2"
   },
   "source": [
    "\n",
    "\n",
    "<p dir=rtl style=\"direction: rtl;text-align: right;line-height:200%;font-family:vazir;font-size:medium\">\n",
    "<font face=\"vazir\" size=3>\n",
    "راضیه ده سال است که روزانه به طور متوسط ۶ ساعت فیفا بازی می‌کند. مدتیست که تکنیک علی اصغری (سانتٰر، کله) دیگر کار ساز نیست و راضیه متحمل شکست‌های سنگینی می‌شود. او حس می کند که در این ده سال بازیکنان کوتاه‌قد‌تر و سنگین‌تر شده‌اند و این گونه باخت خود را توجیه می‌کند. در این تمرین با بررسی دادگان بازی فیفا ۱۱ و فیفا ۲۱ بررسی می‌کنیم که آیا راضیه راست می‌گوید یا نه.\n",
    "</font>\n",
    "</p>\n"
   ]
  },
  {
   "cell_type": "code",
   "execution_count": 1,
   "metadata": {
    "id": "-BuIRyxBnIt6"
   },
   "outputs": [],
   "source": [
    "import matplotlib.pyplot as plt\n",
    "import pandas as pd\n",
    "import numpy as np"
   ]
  },
  {
   "cell_type": "markdown",
   "metadata": {
    "id": "ttXQP0lmtgtu"
   },
   "source": [
    "<h2 align=right style=\"line-height:200%;font-family:vazir;color:#0099cc\">\n",
    "<font face=\"vazir\" color=\"#0099cc\">\n",
    "قسمت اول\n",
    "</font>\n",
    "\n",
    "</h2>\n",
    "<p dir=rtl style=\"direction: rtl;text-align: right;line-height:200%;font-family:vazir;font-size:medium\">\n",
    "<font face=\"vazir\" size=3>\n",
    "برای این کار به چهار صفحه محور نیاز داریم. در سلول زیر یک شکل با ۴ صفحه محور (دو در دو) ایجاد کنید. طول و عرض شکل را برابر ۱۰ اینچ قرار دهید.\n",
    "\n",
    "<ul dir=rtl style=\"direction: rtl;text-align: right;\">\n",
    "  <li>\n",
    "عنوان شکل را <code>fifa11 vs fifa21</code> قرار دهید.\n",
    "</li>\n",
    "  <li>\n",
    "اندازه فونت عنوان شکل را برابر با <code>xx-large</code> قرار دهید.\n",
    "</li>\n",
    "</font>\n",
    "</p>\n",
    "\n",
    "\n"
   ]
  },
  {
   "cell_type": "code",
   "execution_count": 2,
   "metadata": {
    "colab": {
     "base_uri": "https://localhost:8080/",
     "height": 681
    },
    "id": "ZwTnQtUIrlFC",
    "outputId": "527aeb4c-29eb-48f1-c0e7-f180da93304c"
   },
   "outputs": [
    {
     "data": {
      "text/plain": [
       "Text(0.5, 0.98, 'fifa11 vs fifa21')"
      ]
     },
     "execution_count": 2,
     "metadata": {},
     "output_type": "execute_result"
    }
   ],
   "source": [
    "fig, axes = plt.subplots(2,2,figsize=(10,10))\n",
    "fig.suptitle(\"fifa11 vs fifa21\",fontsize=\"xx-large\")"
   ]
  },
  {
   "cell_type": "markdown",
   "metadata": {
    "id": "vfsidbeuBeOJ"
   },
   "source": [
    "\n",
    "\n",
    "<h2 align=right style=\"line-height:200%;font-family:vazir;color:#0099cc\">\n",
    "<font face=\"vazir\" color=\"#0099cc\">\n",
    "قسمت دوم\n",
    "</font>\n",
    "\n",
    "</h2>\n",
    "<p dir=rtl style=\"direction: rtl;text-align: right;line-height:200%;font-family:vazir;font-size:medium\">\n",
    "<font face=\"vazir\" size=3>\n",
    "در این مرحله باید داده لازم برای رسم نمودار‌ها را ایجاد کنیم. برای اینکار داده‌های فیفا ۱۱ و فیفا ۲۰ را بخوانید و از هر دادگان، دو ستون <code>weight</code> و <code>height</code> را در دیتافریمی جدید به نام <code>plot_df</code> بریزید.\n",
    "پس از ایجاد دیتافریم جدید، با تابع <code>head</code> بررسی کنید که دو سطر اول به شکل زیر باشد. (نام ستون‌ها باید عینا مانند شکل زیر باشد.)\n",
    "</font>\n",
    "</p>\n",
    "\n",
    "\n",
    "\n"
   ]
  },
  {
   "cell_type": "markdown",
   "metadata": {
    "id": "PO6hG2e6hsF9"
   },
   "source": [
    "<div style=\"line-height:200%;font-family:vazir;font-size:medium\">\n",
    "<p style=\"direction: rtl;text-align: right;\">\n",
    "<table align = center dir=ltr>\n",
    "\n",
    "\n",
    "<tr>\n",
    "<th>  </th>\n",
    "<th><font face=\"vazir\" size=3>weight2011</th>\n",
    "<th><font face=\"vazir\" size=3>weight2021</th>\n",
    "<th><font face=\"vazir\" size=3>height2011</th>\n",
    "<th><font face=\"vazir\" size=3>height2021</th>\n",
    "\n",
    "</tr>\n",
    "\n",
    "<tr>\n",
    "<td><font face=\"vazir\" size=3>0</td>\n",
    "<td><font face=\"vazir\" size=3>75.0</td>\n",
    "<td><font face=\"vazir\" size=3>68</td>\n",
    "<td><font face=\"vazir\" size=3>188.0</td>\n",
    "<td><font face=\"vazir\" size=3>184</td>\n",
    "</tr>\n",
    "\n",
    "<tr>\n",
    "<td>1</td>\n",
    "<td>69.0</td>\n",
    "<td>75</td>\n",
    "<td>172.0</td>\n",
    "<td>185</td>\n",
    "</tr>\n",
    "\n",
    "\n",
    "</table>\n",
    "</div</p>\n",
    "</div>\n",
    "\n"
   ]
  },
  {
   "cell_type": "markdown",
   "metadata": {
    "id": "Wx7TDSeAj4G8"
   },
   "source": [
    "<div style=\"line-height:200%;font-family:vazir;font-size:medium\">\n",
    "<p style=\"direction: rtl;text-align: right;\">\n",
    "دقت کنید که در فیفا ۱۱ تعداد بازیکنان کمتر از فیفا ۲۱ می‌باشد و در نتیجه هنگام ایجاد دیتا فریم <code>plot_df</code> ، مقدار بعضی از خانه‌ها خالی می‌ماند. \n",
    "<br>\n",
    "(راهنمایی بزرگ!) از دستور <code>concat</code> استفاده کنید.\n",
    "</p>\n",
    "</div>"
   ]
  },
  {
   "cell_type": "code",
   "execution_count": 3,
   "metadata": {},
   "outputs": [
    {
     "data": {
      "text/html": [
       "<div>\n",
       "<style scoped>\n",
       "    .dataframe tbody tr th:only-of-type {\n",
       "        vertical-align: middle;\n",
       "    }\n",
       "\n",
       "    .dataframe tbody tr th {\n",
       "        vertical-align: top;\n",
       "    }\n",
       "\n",
       "    .dataframe thead th {\n",
       "        text-align: right;\n",
       "    }\n",
       "</style>\n",
       "<table border=\"1\" class=\"dataframe\">\n",
       "  <thead>\n",
       "    <tr style=\"text-align: right;\">\n",
       "      <th></th>\n",
       "      <th>id</th>\n",
       "      <th>Fullname</th>\n",
       "      <th>current_rating</th>\n",
       "      <th>potential_rating</th>\n",
       "      <th>height</th>\n",
       "      <th>weight</th>\n",
       "      <th>preferred_foot</th>\n",
       "      <th>birth_date</th>\n",
       "      <th>preferred_positions</th>\n",
       "      <th>work_rate</th>\n",
       "      <th>...</th>\n",
       "      <th>long_shots</th>\n",
       "      <th>curve</th>\n",
       "      <th>fk_acc</th>\n",
       "      <th>penalties</th>\n",
       "      <th>volleys</th>\n",
       "      <th>gk_positioning</th>\n",
       "      <th>gk_diving</th>\n",
       "      <th>gk_handling</th>\n",
       "      <th>gk_kicking</th>\n",
       "      <th>gk_reflexes</th>\n",
       "    </tr>\n",
       "  </thead>\n",
       "  <tbody>\n",
       "    <tr>\n",
       "      <th>0</th>\n",
       "      <td>3721</td>\n",
       "      <td>Nenad Dzodic</td>\n",
       "      <td>72</td>\n",
       "      <td>75</td>\n",
       "      <td>188</td>\n",
       "      <td>75</td>\n",
       "      <td>Right</td>\n",
       "      <td>04/01/1977</td>\n",
       "      <td>CB-RB-SW</td>\n",
       "      <td>NaN</td>\n",
       "      <td>...</td>\n",
       "      <td>51</td>\n",
       "      <td>12</td>\n",
       "      <td>57</td>\n",
       "      <td>17</td>\n",
       "      <td>5</td>\n",
       "      <td>13</td>\n",
       "      <td>5</td>\n",
       "      <td>11</td>\n",
       "      <td>8.0</td>\n",
       "      <td>NaN</td>\n",
       "    </tr>\n",
       "    <tr>\n",
       "      <th>1</th>\n",
       "      <td>192989</td>\n",
       "      <td>Fanol Perdedaj</td>\n",
       "      <td>60</td>\n",
       "      <td>78</td>\n",
       "      <td>172</td>\n",
       "      <td>69</td>\n",
       "      <td>Right</td>\n",
       "      <td>16/07/1991</td>\n",
       "      <td>CDM-CM</td>\n",
       "      <td>NaN</td>\n",
       "      <td>...</td>\n",
       "      <td>39</td>\n",
       "      <td>49</td>\n",
       "      <td>31</td>\n",
       "      <td>49</td>\n",
       "      <td>9</td>\n",
       "      <td>9</td>\n",
       "      <td>13</td>\n",
       "      <td>14</td>\n",
       "      <td>13.0</td>\n",
       "      <td>NaN</td>\n",
       "    </tr>\n",
       "    <tr>\n",
       "      <th>2</th>\n",
       "      <td>199296</td>\n",
       "      <td>Kliment Taseski</td>\n",
       "      <td>52</td>\n",
       "      <td>68</td>\n",
       "      <td>180</td>\n",
       "      <td>75</td>\n",
       "      <td>Right</td>\n",
       "      <td>27/05/1991</td>\n",
       "      <td>CAM-ST-RW-CM</td>\n",
       "      <td>NaN</td>\n",
       "      <td>...</td>\n",
       "      <td>50</td>\n",
       "      <td>50</td>\n",
       "      <td>56</td>\n",
       "      <td>57</td>\n",
       "      <td>12</td>\n",
       "      <td>14</td>\n",
       "      <td>15</td>\n",
       "      <td>13</td>\n",
       "      <td>5.0</td>\n",
       "      <td>NaN</td>\n",
       "    </tr>\n",
       "    <tr>\n",
       "      <th>3</th>\n",
       "      <td>150655</td>\n",
       "      <td>Gilles Yapi Yapo</td>\n",
       "      <td>73</td>\n",
       "      <td>82</td>\n",
       "      <td>171</td>\n",
       "      <td>63</td>\n",
       "      <td>Right</td>\n",
       "      <td>30/01/1982</td>\n",
       "      <td>CM-RM-CDM</td>\n",
       "      <td>NaN</td>\n",
       "      <td>...</td>\n",
       "      <td>49</td>\n",
       "      <td>68</td>\n",
       "      <td>78</td>\n",
       "      <td>63</td>\n",
       "      <td>5</td>\n",
       "      <td>7</td>\n",
       "      <td>10</td>\n",
       "      <td>12</td>\n",
       "      <td>11.0</td>\n",
       "      <td>NaN</td>\n",
       "    </tr>\n",
       "    <tr>\n",
       "      <th>4</th>\n",
       "      <td>157190</td>\n",
       "      <td>John Russell</td>\n",
       "      <td>55</td>\n",
       "      <td>63</td>\n",
       "      <td>174</td>\n",
       "      <td>71</td>\n",
       "      <td>Right</td>\n",
       "      <td>18/05/1985</td>\n",
       "      <td>CM-RM-RW</td>\n",
       "      <td>NaN</td>\n",
       "      <td>...</td>\n",
       "      <td>42</td>\n",
       "      <td>42</td>\n",
       "      <td>57</td>\n",
       "      <td>46</td>\n",
       "      <td>5</td>\n",
       "      <td>6</td>\n",
       "      <td>8</td>\n",
       "      <td>14</td>\n",
       "      <td>13.0</td>\n",
       "      <td>NaN</td>\n",
       "    </tr>\n",
       "  </tbody>\n",
       "</table>\n",
       "<p>5 rows × 48 columns</p>\n",
       "</div>"
      ],
      "text/plain": [
       "       id          Fullname  current_rating  potential_rating  height  weight  \\\n",
       "0    3721      Nenad Dzodic              72                75     188      75   \n",
       "1  192989    Fanol Perdedaj              60                78     172      69   \n",
       "2  199296   Kliment Taseski              52                68     180      75   \n",
       "3  150655  Gilles Yapi Yapo              73                82     171      63   \n",
       "4  157190      John Russell              55                63     174      71   \n",
       "\n",
       "  preferred_foot  birth_date preferred_positions  work_rate  ...  long_shots  \\\n",
       "0          Right  04/01/1977            CB-RB-SW        NaN  ...          51   \n",
       "1          Right  16/07/1991              CDM-CM        NaN  ...          39   \n",
       "2          Right  27/05/1991        CAM-ST-RW-CM        NaN  ...          50   \n",
       "3          Right  30/01/1982           CM-RM-CDM        NaN  ...          49   \n",
       "4          Right  18/05/1985            CM-RM-RW        NaN  ...          42   \n",
       "\n",
       "   curve  fk_acc  penalties  volleys  gk_positioning  gk_diving  gk_handling  \\\n",
       "0     12      57         17        5              13          5           11   \n",
       "1     49      31         49        9               9         13           14   \n",
       "2     50      56         57       12              14         15           13   \n",
       "3     68      78         63        5               7         10           12   \n",
       "4     42      57         46        5               6          8           14   \n",
       "\n",
       "   gk_kicking  gk_reflexes  \n",
       "0         8.0          NaN  \n",
       "1        13.0          NaN  \n",
       "2         5.0          NaN  \n",
       "3        11.0          NaN  \n",
       "4        13.0          NaN  \n",
       "\n",
       "[5 rows x 48 columns]"
      ]
     },
     "execution_count": 3,
     "metadata": {},
     "output_type": "execute_result"
    }
   ],
   "source": [
    "fifa_11 = pd.read_csv(\"fifa11.csv\")\n",
    "fifa_21 = pd.read_csv(\"fifa21.csv\")\n",
    "\n",
    "fifa_11.head()"
   ]
  },
  {
   "cell_type": "code",
   "execution_count": 4,
   "metadata": {},
   "outputs": [],
   "source": [
    "merged_fifa = pd.merge(fifa_11,fifa_21,left_on='id',right_on='id',how='outer')"
   ]
  },
  {
   "cell_type": "code",
   "execution_count": 5,
   "metadata": {
    "colab": {
     "base_uri": "https://localhost:8080/",
     "height": 197
    },
    "id": "oJZXCx7dApTY",
    "outputId": "3c7ce7f3-d39f-4e58-9b7b-c62aac33235c"
   },
   "outputs": [],
   "source": [
    "plot_df = pd.DataFrame(columns=[\"weight2011\",\"weight2021\",'height2011','height2021'])\n",
    "plot_df['weight2011'] = merged_fifa['weight_x']\n",
    "plot_df['weight2021'] = merged_fifa['weight_y']\n",
    "plot_df['height2011'] = merged_fifa['height_x']\n",
    "plot_df['height2021'] = merged_fifa['height_y']"
   ]
  },
  {
   "cell_type": "markdown",
   "metadata": {
    "id": "GHgXkzEuD6R9"
   },
   "source": [
    "<h2 align=right style=\"line-height:200%;font-family:vazir;color:#0099cc\">\n",
    "<font face=\"vazir\" color=\"#0099cc\">\n",
    "قسمت سوم\n",
    "</font>\n",
    "\n",
    "</h2>\n",
    "<p dir=rtl style=\"direction: rtl;text-align: right;line-height:200%;font-family:vazir;font-size:medium\">\n",
    "<font face=\"vazir\" size=3>\n",
    "در صفحه محور اول، با استفاده از دو ستون <code>height2011</code> و <code>height2021</code> یک نمودار هیستوگرام بکشید. برای اینکار دو ستون گفته شده را از دیتافریم <code>plot_df</code> را در یک دیتافریم جدید قرار دهید و با استفاده از واسط پانداس، نمودار هیستوگرام را بر روی صفحه محور اول رسم کنید. دقت کنید که فقط یک بار باید متد <code>plot</code> را فراخوانی کنید تا بازه سطل‌ها برای هر دو ستون، یک‌ بار محاسبه شود.\n",
    "<br>\n",
    "\n",
    "<ul style=\"direction: rtl;text-align: right;\">\n",
    "    <li>متغیر <code>alpha</code> شفافیت میله ها را مشخص می کند. برای اینکه هر دو هیستوگرام قابل تفکیک باشند،‌ مقدار <code>alpha</code> را برابر 0.5 قرار دهید.\n",
    "</li>\n",
    "  <li>هیستوگرام در حالت عادی به مقادیر حساس است. یعنی چون تعداد بازیکنان فیفا ۲۱ بیشتر از فیفا ۱۱ است، هیستوگرام آن بالاتر از فیفا ۱۱ قرار می گیرد. برای حل این مشکل می‌توان هیستوگرام را نرمال کرد. در این حالت همه مقادیر بین صفر و یک قرار می گیرند و دیگر و وابسته به تعداد‌ نمونه‌ها نیستند. برای فعال کردن این ویژگی، متغیر <code>density</code> را برابر <code>True</code> قرار دهید.\n",
    "</li>\n",
    "  <li>\n",
    "  عنوان نمودار را برابر <code>height histogram</code> قرار دهید.\n",
    "</li>\n",
    "</ul>\n",
    "</font>\n",
    "</p>\n"
   ]
  },
  {
   "cell_type": "code",
   "execution_count": 6,
   "metadata": {},
   "outputs": [
    {
     "data": {
      "image/png": "[encoded data removed]",
      "text/plain": [
       "<Figure size 1000x1000 with 4 Axes>"
      ]
     },
     "execution_count": 6,
     "metadata": {},
     "output_type": "execute_result"
    }
   ],
   "source": [
    "height_df = pd.DataFrame({'height2011' : plot_df['height2011'] , 'height2021' : plot_df['height2021']})\n",
    "\n",
    "height_df.plot(kind='hist',ax = axes[0,0],alpha=.5)\n",
    "\n",
    "fig"
   ]
  },
  {
   "cell_type": "code",
   "execution_count": 302,
   "metadata": {
    "colab": {
     "base_uri": "https://localhost:8080/",
     "height": 663
    },
    "id": "xxpomlrnCPHM",
    "outputId": "663c3607-0c01-4ae5-c2f2-b4a3ce7c4b46"
   },
   "outputs": [
    {
     "data": {
      "image/png": "[encoded data removed]",
      "text/plain": [
       "<Figure size 1000x1000 with 4 Axes>"
      ]
     },
     "execution_count": 302,
     "metadata": {},
     "output_type": "execute_result"
    }
   ],
   "source": [
    "# to do\n",
    "\n",
    "fig"
   ]
  },
  {
   "cell_type": "markdown",
   "metadata": {
    "id": "TH-Nisk4GDOo"
   },
   "source": [
    "\n",
    "\n",
    "<h2 align=right style=\"line-height:200%;font-family:vazir;color:#0099cc\">\n",
    "<font face=\"vazir\" color=\"#0099cc\">\n",
    "قسمت چهارم\n",
    "</font>\n",
    "\n",
    "</h2>\n",
    "<p dir=rtl style=\"direction: rtl;text-align: right;line-height:200%;font-family:vazir;font-size:medium\">\n",
    "<font face=\"vazir\" size=3>\n",
    "در صفحه محور دوم، تابع چگالی را رسم کنید. برای این کار دو ستون سوال قبل را  انتخاب کنید و در واسط پانداس نوع نمودار را بر روی <code>kde</code> قرار دهید. در این نمودار هم مقدار <code>alpha</code> را برابر 0.5 قرار دهید تا تفکیک پذیری خطوط بهتر شود.\n",
    "<br>\n",
    "\n",
    "<ul style=\"direction: rtl;text-align: right;\">\n",
    "  <li>\n",
    "در این نمودار هم مقدار <code>alpha</code> را برابر 0.5 قرار دهید تا تفکیک پذیری خطوط بهتر شود.\n",
    "</li>\n",
    "\n",
    "  <li>\n",
    "  عنوان نمودار را برابر <code>height density plot</code> قرار دهید.\n",
    "</li>\n",
    "\n",
    "</ul>\n",
    "</font>\n",
    "</p>\n",
    "\n",
    "\n"
   ]
  },
  {
   "cell_type": "code",
   "execution_count": null,
   "metadata": {
    "colab": {
     "base_uri": "https://localhost:8080/",
     "height": 663
    },
    "id": "WR8vtaHGEXdu",
    "outputId": "4eda2934-5b02-45ec-e5f1-0bea6a3c88ae"
   },
   "outputs": [],
   "source": [
    "# to do\n",
    "\n",
    "fig"
   ]
  },
  {
   "cell_type": "markdown",
   "metadata": {
    "id": "soXJtITspoVH"
   },
   "source": [
    "\n",
    "\n",
    "<h2 align=right style=\"line-height:200%;font-family:vazir;color:#0099cc\">\n",
    "<font face=\"vazir\" color=\"#0099cc\">\n",
    "قسمت پنجم\n",
    "</font>\n",
    "\n",
    "</h2>\n",
    "<p dir=rtl style=\"direction: rtl;text-align: right;line-height:200%;font-family:vazir;font-size:medium\">\n",
    "<font face=\"vazir\" size=3>\n",
    "مراحل طی شده در قدم سوم و چهارم را این‌ بار بر روی ستون‌های وزن انجام دهید. در صفحه محور سوم تابع هیستوگرام و در صفحه محور چهارم تابع چگالی وزن فیفا ۱۱ و فیفا ۲۱ را رسم کنید.\n",
    "<br>\n",
    "مقدار آلفا را برابر 0.5 قرار داده و عنوان نمودار‌ها را مانند مراحل قبل بنویسید و به جای <code>height</code>، عبارت <code>weight</code> را قرار دهید.\n",
    "</font>\n",
    "</p>\n",
    "\n"
   ]
  },
  {
   "cell_type": "code",
   "execution_count": null,
   "metadata": {
    "colab": {
     "base_uri": "https://localhost:8080/",
     "height": 663
    },
    "id": "23G3J-N-GMmE",
    "outputId": "0cec5e35-e06a-4505-b10f-dd202ae1e5d4"
   },
   "outputs": [],
   "source": [
    "# to do\n",
    "\n",
    "fig"
   ]
  },
  {
   "cell_type": "markdown",
   "metadata": {},
   "source": [
    "\n",
    "<p dir=rtl style=\"direction: rtl;text-align: right;line-height:200%;font-family:vazir;font-size:medium\">\n",
    "<font face=\"vazir\" size=3>\n",
    "خروجی نهایی باید به شکل زیر باشد.\n",
    "\n",
    "</font>\n",
    "</p>\n"
   ]
  },
  {
   "cell_type": "markdown",
   "metadata": {},
   "source": [
    "<p style=\"text-align:center;\"><img src=\"output.png\" alt=\"Logo\"></p>"
   ]
  },
  {
   "cell_type": "markdown",
   "metadata": {},
   "source": [
    "<h2 align=right style=\"line-height:200%;font-family:vazir;color:#0099cc\">\n",
    "<font face=\"vazir\" color=\"#0099cc\">\n",
    "<b>سلول جواب‌ساز</b>\n",
    "</font>\n",
    "</h2>\n"
   ]
  },
  {
   "cell_type": "code",
   "execution_count": null,
   "metadata": {
    "id": "Gg9gVwMALICV"
   },
   "outputs": [],
   "source": [
    "import zlib\n",
    "import zipfile\n",
    "import joblib\n",
    "\n",
    "joblib.dump(fig,\"fig\")\n",
    "joblib.dump(plot_df,\"plot_df\")\n",
    "\n",
    "def compress(file_names):\n",
    "    print(\"File Paths:\")\n",
    "    print(file_names)\n",
    "    # Select the compression mode ZIP_DEFLATED for compression\n",
    "    # or zipfile.ZIP_STORED to just store the file\n",
    "    compression = zipfile.ZIP_DEFLATED\n",
    "    # create the zip file first parameter path/name, second mode\n",
    "    with zipfile.ZipFile(\"result.zip\", mode=\"w\") as zf:\n",
    "        for file_name in file_names:\n",
    "            # Add file to the zip file\n",
    "            # first parameter file to zip, second filename in zip\n",
    "            zf.write('./' + file_name, file_name, compress_type=compression)\n",
    "\n",
    "\n",
    "file_names = [\"plot_df\",\"fig\", \"gone_with_the_wind.ipynb\"]\n",
    "compress(file_names)"
   ]
  }
 ],
 "metadata": {
  "colab": {
   "collapsed_sections": [],
   "name": "Football girl.ipynb",
   "provenance": []
  },
  "interpreter": {
   "hash": "243856ee5aa5cfcf7c7fc5e27ace1f0d0cf471c324fa5d741db742eb1bed0a33"
  },
  "kernelspec": {
   "display_name": "Python 3",
   "language": "python",
   "name": "python3"
  },
  "language_info": {
   "codemirror_mode": {
    "name": "ipython",
    "version": 3
   },
   "file_extension": ".py",
   "mimetype": "text/x-python",
   "name": "python",
   "nbconvert_exporter": "python",
   "pygments_lexer": "ipython3",
   "version": "3.8.15"
  }
 },
 "nbformat": 4,
 "nbformat_minor": 4
}
