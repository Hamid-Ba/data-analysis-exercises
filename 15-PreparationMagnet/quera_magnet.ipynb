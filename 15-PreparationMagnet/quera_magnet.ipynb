{
 "cells": [
  {
   "cell_type": "markdown",
   "id": "14af8c96",
   "metadata": {},
   "source": [
    "<h1 align=center style=\"line-height:200%;font-family:vazir;color:#0099cc\">\n",
    "<font face=\"vazir\" color=\"#0099cc\">\n",
    "مگنت\n",
    "</font>\n",
    "</h1>"
   ]
  },
  {
   "cell_type": "markdown",
   "id": "3be49070",
   "metadata": {},
   "source": [
    "<p dir=rtl style=\"direction: rtl;text-align: justify;line-height:200%;font-family:vazir;font-size:medium\">\n",
    "<font face=\"vazir\" size=3>\n",
    "    در تمرین آخر فصل «آماده‌سازی داده» قصد داریم پس از انجام چندین گام پیش‌پردازش، داده‌های آگهی‌های شغلی کوئرا را تحلیل کنیم.\n",
    "آنچه در این تمرین تحلیل می‌کنیم مطمئناً بخش بسیار کوچکی از حقایق پنهان در دل داده‌هاست. پس پیشنهاد می‌کنیم علاوه بر آنچه این تمرین از شما می‌خواهد، خود نیز سعی کنید حقایق دیگری از داده‌ها استخراج کنید.\n",
    "این دیتاست شامل آگهی‌های شغلی است که در کوئرا ثبت شده‌اند. برای حفظ حریم شخصی شرکت‌ها، شناسه شرکت‌های ثبت‌کننده آگهی از داده حذف شده است. هر سطر از این دیتاست اطلاعات یک آگهی‌ شغلی است که شرکتی قصد جذب نیرو متناسب با آن را داشته است.\n",
    "</font>\n",
    "</p>"
   ]
  },
  {
   "cell_type": "code",
   "execution_count": 222,
   "id": "6169940f",
   "metadata": {},
   "outputs": [],
   "source": [
    "import numpy as np\n",
    "import pandas as pd\n",
    "from pandas import to_datetime\n",
    "from datetime import datetime\n",
    "from datetime import time"
   ]
  },
  {
   "cell_type": "markdown",
   "id": "01fb5664",
   "metadata": {},
   "source": [
    "<h2 align=right style=\"line-height:200%;font-family:vazir;color:#0099cc\">\n",
    "<font face=\"vazir\" color=\"#0099cc\">\n",
    "مجموعه داده\n",
    "</font>\n",
    "</h2>\n",
    "\n",
    "<p dir=rtl style=\"direction: rtl;text-align: right;line-height:200%;font-family:vazir;font-size:medium\">\n",
    "<font face=\"vazir\" size=3>\n",
    "    مجموعه داده این سوال دارای ۸ ستون است که در جدول زیر به شرح ستون‌های آن پرداخته شده‌است.\n",
    "</font>\n",
    "</p>\n",
    "\n",
    "<center>\n",
    "<div dir=rtl style=\"direction: rtl;text-align: right;line-height:200%;font-family:vazir;font-size:medium\">\n",
    "<font face=\"vazir\" size=3>\n",
    "\n",
    "| نام ستون| توضیح ستون|\n",
    "|:------------------:|:------------------:|\n",
    "|Level|سطح نیرویی که شرکت قصد جذب داشته. این ستون دارای ۴ مقدار منحصر به فرد است. (Junior) S (Senior)، M (Mid level)، J و (Intern) I|\n",
    "|Offers Remote|نشان می‌دهد آیا شرکت امکان دورکاری برای موقعیت شغلی را فراهم کرده‌است یا خیر.|\n",
    "|Publish Time|تاریخ و ساعتی که آگهی شغلی منتشر شده است.|\n",
    "|Salary|حقوقی که شرکت برای یک موقعیت شغلی خاص در نظر گرفته‌است. MT آخر هر عبارت نشان دهنده «میلیون تومان» است. و علامت‌های > و < حد بالا و حد پایین حقوق نوشته شده را نشان می‌دهد.|\n",
    "|Title|عنوانی که شرکت برای یک آگهی شغلی خاص ثبت کرده است.|\n",
    "|Close Time|تاریخ و ساعتی که آگهی شغلی بسته شده است.|\n",
    "|State|وضعیت فعلی آگهی شغلی را نشان می‌دهد. دارای سه مقدار منحصر به فرد است. A (Archived)، C (Closed) و PB (Published)|\n",
    "|Collaboration Type|وضعیت همکاری را نشان می‌دهد که آیا FT (Full Time / تمام‌وقت) است یا PT (Part Time / پاره‌وقت)|\n",
    "\n",
    "    \n",
    "</font>\n",
    "</div>\n",
    "</center>\n"
   ]
  },
  {
   "cell_type": "markdown",
   "id": "6a302c1d",
   "metadata": {},
   "source": [
    "<p dir=rtl style=\"direction: rtl;text-align: right;line-height:200%;font-family:vazir;font-size:medium\">\n",
    "<font face=\"vazir\" size=3>\n",
    "    این سوال در دو بخش تدوین شده است: پیش‌پردازش و تحلیل.\n",
    "    در ابتدا مراحل پیش‌پردازش را شرح خواهیم‌داد، سپس سراغ مرحله تحلیل می‌رویم.\n",
    "</font>\n",
    "</p>\n"
   ]
  },
  {
   "cell_type": "code",
   "execution_count": 223,
   "id": "5f58ddfb",
   "metadata": {
    "scrolled": true
   },
   "outputs": [],
   "source": [
    "df = pd.read_csv('./job_posts.csv')"
   ]
  },
  {
   "cell_type": "markdown",
   "id": "04617399",
   "metadata": {},
   "source": [
    "<h2 align=right style=\"line-height:200%;font-family:vazir;color:#0099cc\">\n",
    "<font face=\"vazir\" color=\"#0099cc\">\n",
    "پیش‌پردازش\n",
    "</font>\n",
    "</h2>\n",
    "\n",
    "<p dir=rtl style=\"direction: rtl;text-align: right;line-height:200%;font-family:vazir;font-size:medium\">\n",
    "<font face=\"vazir\" size=3>\n",
    "پیش‌پردازش این سوال، شامل سه گام است که پس از اعمال آن‌ها، دادگان ما برای تحلیل آماده می‌شود.    \n",
    "</font>\n",
    "</p>\n"
   ]
  },
  {
   "cell_type": "markdown",
   "id": "f7dde16b",
   "metadata": {},
   "source": [
    "\n",
    "<h3 align=right style=\"line-height:200%;font-family:vazir;color:#0099cc\">\n",
    "<font face=\"vazir\" color=\"#0099cc\">\n",
    "گام اول پیش‌پردازش\n",
    "</font>\n",
    "</h3>\n",
    "\n",
    "<p dir=rtl style=\"direction: rtl;text-align: justify;line-height:200%;font-family:vazir;font-size:medium\">\n",
    "<font face=\"vazir\" size=3>\n",
    "    سطرهایی که <b>هر ۳ ستون </b> <code>Level</code> ،<code>Salary</code> و <code>Collaboration Type</code> در آن‌ها گم‌شده‌اند (NaN هستند) را کلاً از دادگان حذف کنید. با داده‌ای که از این مرحله به‌دست می‌آورید سراغ گام دوم بروید.\n",
    "</font>\n",
    "</p>\n"
   ]
  },
  {
   "cell_type": "code",
   "execution_count": 224,
   "id": "fd7be7d7",
   "metadata": {},
   "outputs": [],
   "source": [
    "# TO-DO: first step preprocessing\n",
    "df.dropna(subset=['Salary','Level','Collaboration Type'],how='all',inplace=True)"
   ]
  },
  {
   "cell_type": "markdown",
   "id": "e72433fe",
   "metadata": {},
   "source": [
    "\n",
    "<h3 align=right style=\"line-height:200%;font-family:vazir;color:#0099cc\">\n",
    "<font face=\"vazir\" color=\"#0099cc\">\n",
    "گام دوم پیش‌پردازش\n",
    "</font>\n",
    "</h3>\n",
    "\n",
    "<p dir=rtl style=\"direction: rtl;text-align: right;line-height:200%;font-family:vazir;font-size:medium\">\n",
    "<font face=\"vazir\" size=3>\n",
    "    مقادیر ستون <code>Salary</code> را با عددی که دارند جایگزین کنید.\n",
    "    مثلا مقداری مثل >6MT را به 6 تبدیل کنید.\n",
    "    یا >12MT را به 12 و ... تبدیل کنید.\n",
    "    <br>\n",
    "    به صورت کلی، عدد هر رشته  از ستون <code>Salary</code> را جدا کرده و جایگزین همان رشته درون دیتاست کنید.\n",
    "    </font>\n",
    "</p>"
   ]
  },
  {
   "cell_type": "code",
   "execution_count": 225,
   "id": "2a9fd319",
   "metadata": {},
   "outputs": [],
   "source": [
    "# TO-DO: second step preprocessing\n",
    "def pure_salary(salary):    \n",
    "    replaced_char = ['<','>','MT']\n",
    "    for rep_char in replaced_char:\n",
    "        salary = str(salary).replace(rep_char,'')\n",
    "    \n",
    "    return str(salary).strip()"
   ]
  },
  {
   "cell_type": "code",
   "execution_count": 226,
   "id": "d17b3490",
   "metadata": {},
   "outputs": [],
   "source": [
    "df['Salary'] = df['Salary'].apply(pure_salary).astype('float64')"
   ]
  },
  {
   "cell_type": "markdown",
   "id": "7015fd3d",
   "metadata": {},
   "source": [
    "\n",
    "<h3 align=right style=\"line-height:200%;font-family:vazir;color:#0099cc\">\n",
    "<font face=\"vazir\" color=\"#0099cc\">\n",
    "گام سوم پیش‌پردازش\n",
    "</font>\n",
    "</h3>\n",
    "\n",
    "<p dir=rtl style=\"direction: rtl;text-align: justify;line-height:200%;font-family:vazir;font-size:medium\">\n",
    "<font face=\"vazir\" size=3>\n",
    "    مقادیر گم‌شده‌ی ستون <code>Salary</code> را با میانگین حقوق‌ها <b>به تفکیک سطح</b> پر کنید. یعنی اگر <code>Salary</code> یک آگهی جونیور (<code>J</code>) گم‌شده بود، آن را با میانگین همه جونیورها پر کنید؛ اگر <code>Salary</code> یک آگهی سینیور (<code>S</code>) گم‌شده بود، آن را با میانگین همه سنیورها پر کنید؛ اگر <code>Salary</code> یک آگهی میدلول (<code>M</code>) گمشده بود، آن را با میانگین همه میدلول‌ها پر کنید؛ اگر <code>Salary</code> یک آگهی اینترن (<code>I</code>) گمشده بود، آن را با میانگین همه اینترن‌ها پر کنید.\n",
    "</font>\n",
    "</p>"
   ]
  },
  {
   "cell_type": "code",
   "execution_count": 227,
   "id": "9e2228c5",
   "metadata": {},
   "outputs": [],
   "source": [
    "# TO-DO: third step preprocessing\n",
    "j_mean = df[df.Level == 'J']['Salary'].mean()\n",
    "s_mean = df[df.Level == 'S']['Salary'].mean()\n",
    "m_mean = df[df.Level == 'M']['Salary'].mean()\n",
    "i_mean = df[df.Level == 'I']['Salary'].mean()\n",
    "\n",
    "df[df.Level == 'J'] = df[df.Level == 'J'].fillna({'Salary':j_mean})\n",
    "df[df.Level == 'S'] = df[df.Level == 'S'].fillna({'Salary':s_mean})\n",
    "df[df.Level == 'M'] = df[df.Level == 'M'].fillna({'Salary':m_mean})\n",
    "df[df.Level == 'I'] = df[df.Level == 'I'].fillna({'Salary':i_mean})"
   ]
  },
  {
   "cell_type": "markdown",
   "id": "3f187efb",
   "metadata": {},
   "source": [
    "<p dir=rtl style=\"direction: rtl;text-align: right;line-height:200%;font-family:vazir;font-size:medium\">\n",
    "<font face=\"vazir\" size=3>\n",
    "با داده‌ای که پس از این مراحل به دست آورده‌اید به حل سوالات بعدی بپردازید.\n",
    "</font>\n",
    "</p>"
   ]
  },
  {
   "cell_type": "markdown",
   "id": "e96a54aa",
   "metadata": {},
   "source": [
    "<h2 align=right style=\"line-height:200%;font-family:vazir;color:#0099cc\">\n",
    "<font face=\"vazir\" color=\"#0099cc\">\n",
    "تحلیل    \n",
    "</font>\n",
    "</h2>\n",
    "\n",
    "<p dir=rtl style=\"direction: rtl;text-align: right;line-height:200%;font-family:vazir;font-size:medium\">\n",
    "<font face=\"vazir\" size=3>\n",
    "    بخش تحلیل تمرین مگنت نیز از سه گام تشکیل شده‌است:\n",
    "    <ul dir=rtl>\n",
    "    <li>در گام اول می‌خواهیم تاثیر کرونا بر دورکاری در ایران را بسنجیم.</li>\n",
    "    <li>در سوال دوم تاثیر زمان بر انتشار آگهی‌های شغلی را اندازه می‌گیریم.</li>\n",
    "    <li>و نهایتاً در گام سوم میانگین دریافتی فعالان حوزه داده را به‌دست خواهیم آورد.</li>\n",
    "    </ul>\n",
    "</font>\n",
    "</p>\n"
   ]
  },
  {
   "cell_type": "markdown",
   "id": "d4655aa6",
   "metadata": {},
   "source": [
    "\n",
    "<h3 align=right style=\"line-height:200%;font-family:vazir;color:#0099cc\">\n",
    "<font face=\"vazir\" color=\"#0099cc\">\n",
    "گام اول تحلیل\n",
    "</font>\n",
    "</h3>\n",
    "\n",
    "<p dir=rtl style=\"direction: rtl;text-align: justify;line-height:200%;font-family:vazir;font-size:medium\">\n",
    "<font face=\"vazir\" size=3>\n",
    "    نرخ آگهی‌های شغلی که پیشنهاد دورکاری دارند، چقدر نسبت به قبل از اولین مورد رسمی کرونا در ایران بیشتر شده است؟ منظور از «نرخ آگهی‌های شغلی که پیشنهاد دورکاری دارند» حاصل تقسیم آگهی‌های شغلی که پیشنهاد دورکاری دارند بر تعداد کل آگهی‌هاست (تعداد ردیف‌های دیتافریم). هدف این سوال این است که بفهمیم کرونا چقدر در دورکاری موثر بوده‌است. برای این حل سوال، نرخ آگهی‌های دورکار پیش از کرونا را از نرخ آگهی‌های دورکار پس از کرونا کم کنید (یا تعدادشان را از همدیگر کم کرده و نهایتاً بر تعداد کل آگهی‌ها تقسیم کنید).\n",
    "    اولین مورد رسمی کرونا در ایران را می‌توانید از متغیر <code>start_of_corona</code> که در سلول زیر گذاشته شده است پیدا کنید.\n",
    "    توجه داشته باشید اولین روزی که کرونا به ایران آمد را نیز جزو روزهای <u>پس از کرونا</u> لحاظ <b>کنید</b>.\n",
    "    <br>\n",
    "    جواب این سوال را درون متغیر <code>remote_growth</code> ذخیره کنید. جنس این متغیر از نوع <code>float</code> است. \n",
    "    <br>\n",
    "    <b>راهنمایی:</b>\n",
    "    به عنوان مثال برای محاسبه‌ی نرخ آگهی‌های پیش از کرونا باید تعداد آگهی‌هایی که هم از نوع دورکاری هستند و هم تاریخ ثبت (<code>Publish Time</code>) آن‌ها پیش از تاریخ شروع کرونا بوده است را شمارش کرده و سپس حاصل را بر تعداد کل آگهی‌ها (از هر نوعی و در هر تاریخی) تقسیم کنید.\n",
    "</font>\n",
    "</p>"
   ]
  },
  {
   "cell_type": "code",
   "execution_count": 228,
   "id": "7acd7b6b",
   "metadata": {},
   "outputs": [],
   "source": [
    "start_of_corona = datetime.strptime(\"2020-02-19\", \"%Y-%m-%d\")"
   ]
  },
  {
   "cell_type": "code",
   "execution_count": 229,
   "id": "7822220d",
   "metadata": {},
   "outputs": [],
   "source": [
    "\"\"\" Make Publish Times One Of Date Type By to_datetime of Pandas \"\"\"\n",
    "df['Publish Time'] = df['Publish Time'].apply(to_datetime)"
   ]
  },
  {
   "cell_type": "code",
   "execution_count": 230,
   "id": "195f89c0",
   "metadata": {},
   "outputs": [],
   "source": [
    "\"\"\" Calculate Remote Jobs Before COVID \"\"\"\n",
    "is_before_covid = (df['Offers Remote'] == True) & (df['Publish Time'] < start_of_corona)\n",
    "remote_job_before_covid = df[is_before_covid]"
   ]
  },
  {
   "cell_type": "code",
   "execution_count": 231,
   "id": "cfb4598b",
   "metadata": {},
   "outputs": [],
   "source": [
    "\"\"\" Calculate Remote Jobs After COVID \"\"\"\n",
    "is_after_covid = (df['Offers Remote'] == True) & (df['Publish Time'] >= start_of_corona)\n",
    "remote_job_after_covid = df[is_after_covid]"
   ]
  },
  {
   "cell_type": "code",
   "execution_count": 232,
   "id": "b0d63c67",
   "metadata": {
    "scrolled": true
   },
   "outputs": [],
   "source": [
    "remote_growth = (len(remote_job_after_covid) - len(remote_job_before_covid)) / len(df)"
   ]
  },
  {
   "cell_type": "markdown",
   "id": "90290347",
   "metadata": {},
   "source": [
    "\n",
    "<h3 align=right style=\"line-height:200%;font-family:vazir;color:#0099cc\">\n",
    "<font face=\"vazir\" color=\"#0099cc\">\n",
    "گام دوم تحلیل\n",
    "</font>\n",
    "</h3>\n",
    "\n",
    "<p dir=rtl style=\"direction: rtl;text-align: right;line-height:200%;font-family:vazir;font-size:medium\">\n",
    "<font face=\"vazir\" size=3>\n",
    "در این گام قصد داریم به گسسته‌سازی زمان بپردازیم و باید ۲۴ ساعت شبانه‌روز را طبق جدول پایین به ۴ دسته بشکنید.\n",
    "</font>\n",
    "</p>\n",
    "\n",
    "<center>\n",
    "<div dir=rtl style=\"direction: rtl;line-height:200%;font-family:vazir;font-size:medium\">\n",
    "<font face=\"vazir\" size=3>\n",
    "    \n",
    "|اسم|بازه زمانی|\n",
    "|:-------:|:-----:|\n",
    "|dawn| ۰۰:۰۰ تا ۵:۵۹:۵۹|\n",
    "|morning|۶:۰۰ تا ۱۱:۵۹:۵۹|\n",
    "|noon|۱۲:۰۰ تا ۱۷:۵۹:۵۹|\n",
    "|night|۱۸:۰۰ تا ۲۳:۵۹:۵۹|\n",
    "    \n",
    "</font>\n",
    "</div>\n",
    "</center>\n",
    "\n",
    "<p dir=rtl style=\"direction: rtl;text-align: justify;line-height:200%;font-family:vazir;font-size:medium\">\n",
    "<font face=\"vazir\" size=3>\n",
    " حال محاسبه کنید در هر کدام از این ۴ بازه چه تعداد آگهی شغلی منتشر شده است؟ جواب شما باید درون متغیری به اسم <code>discrete_time</code> ذخیره شده باشد. این متغیر یک دیتاسری است که نمایه‌های (<code>index</code>) آن <code>dawn</code>, <code>morning</code>, <code>noon</code> و <code>night</code> هستند و مقدار متناظر با هر کدام از این نمایه‌ها، تعداد آگهی‌های شغلی منتشرشده است.\n",
    "</font>\n",
    "</p>\n"
   ]
  },
  {
   "cell_type": "code",
   "execution_count": 233,
   "id": "1f4a3e58",
   "metadata": {},
   "outputs": [],
   "source": [
    "df_times = df['Publish Time'].dt.time"
   ]
  },
  {
   "cell_type": "code",
   "execution_count": 234,
   "id": "e237e380",
   "metadata": {},
   "outputs": [],
   "source": [
    "discrete_time = pd.Series(index=['dawn','morning','noon','night'],dtype='int64')\n",
    "\n",
    "discrete_time['dawn'] = len(df[(df_times >= time(0,0,0)) & (df_times < time(6,0,0))])\n",
    "discrete_time['morning'] = len(df[(df_times >= time(6,0,0)) & (df_times < time(12,0,0))])\n",
    "discrete_time['noon'] = len(df[(df_times >= time(12,0,0)) & (df_times < time(18,0,0))])\n",
    "discrete_time['night'] = len(df[(df_times >= time(18,0,0)) & (df_times <= time(23,59,59))])"
   ]
  },
  {
   "cell_type": "markdown",
   "id": "25fa766a",
   "metadata": {},
   "source": [
    "\n",
    "<h3 align=right style=\"line-height:200%;font-family:vazir;color:#0099cc\">\n",
    "<font face=\"vazir\" color=\"#0099cc\">\n",
    "گام سوم تحلیل\n",
    "</font>\n",
    "</h3>\n",
    "\n",
    "<p dir=rtl style=\"direction: rtl;text-align: justify;line-height:200%;font-family:vazir;font-size:medium\">\n",
    "<font face=\"vazir\" size=3>\n",
    "در این سوال می‌خواهیم میزان پرداختی شرکت‌ها به افراد فعال در حوزه‌ی دیتا را بررسی کنیم. برای اینکه بتوانیم آگهی‌های شغلی این حوزه را فیلتر کنیم، لیستی از کلیدواژه‌ها در سلول زیر قرار داده شده است. فرض می‌کنیم همه آگهی‌های شغلی که در عنوان (<code>Title</code>) خود یکی از این کلمات به‌کار رفته است، به حوزه‌ی داده مربوط می‌شود. لازم نیست تیتر یک آگهی تماماً یکی از کلید‌های موجود در لیست کلیدواژه‌ها باشد؛ صرفا اگر یک کلید بخشی از تیتر یک آگهی شغلی باشد نیز ما آن آگهی شغلی را مرتبط به داده فرض می‌کنیم. مثلاً اگر کلیدی به اسم <i>Data Analyst</i> درون لیست کلیدواژه‌ها حضور داشته باشد، آنگاه یک آگهی با تیتر <i>\"استخدام Data Analyst\"</i> را مرتبط با حوزه‌ی داده در نظر می‌گیریم.\n",
    "    <br>\n",
    "    حال پس از مقدمه‌گویی‌های بسیار، سوال را این‌گونه تعریف می‌کنیم (!): میانگین میزان پرداختی شرکت‌ها به افراد حاضر در حوزه‌ی داده به تفکیک سطح‌شان چقدر است؟ جواب خود را درون یک دیتاسری به اسم <code>data_mean</code> بریزید. نمایه‌های این سری حروف <code>S</code>, <code>J</code>, <code>I</code> و <code>M</code> هستند و مقدار متناظر با هر کدام از این نمایه‌ها، میانگین حقوق پرداختی شرکت‌ها به آن سطح خاص است.    \n",
    "</font>\n",
    "</p>\n",
    "\n",
    "<p dir=rtl style=\"direction: rtl;text-align: justify;line-height:200%;font-family:vazir;font-size:medium\">\n",
    "<font color=#0099cc>\n",
    "<b>راهنمایی بزرگ:</b>\n",
    "</font>\n",
    "<font face=\"vazir\" size=3>\n",
    "فراموش نکنید که پیش از انجام محاسبات، ستون <code>Title</code> را به حروف کوچک تبدیل کنید. دلیل چنین کاری این است که اگر مثلاً عنوان یک آگهی <i> Senior Data Engineer</i> باشد، کد شما باید آن را به حروف کوچک تبدیل کرده تا بتواند کلیدواژه‌ی <i>data engineer</i> را در آن پیدا کرده و آگهی را در حوزه‌ی داده تشخیص دهد.\n",
    "</font>\n",
    "</p>\n"
   ]
  },
  {
   "cell_type": "code",
   "execution_count": 235,
   "id": "1319e12e",
   "metadata": {},
   "outputs": [],
   "source": [
    "keywords = ['machine learning', 'machinelearning', 'داده' , 'data scientist' ,  'datascientist' ,\\\n",
    "        'هوش مصنوعی' ,'پردازش ویدئو' , 'data engineer' , 'dataengineer' ,'بینایی ماشین' , 'یادگیری ماشین' ,\\\n",
    "        'deep learning', 'deeplearning', 'یادگیری عمیق', 'دیتاساینتیست' , 'artificial intelligence' \\\n",
    "        ,'artificialintelligence', 'هوش' , 'data analysis' , 'dataanalysis' , 'پردازش تصویر' , 'شبکه‌های عمیق', 'علم‌داده']\n"
   ]
  },
  {
   "cell_type": "code",
   "execution_count": 254,
   "id": "38711af9",
   "metadata": {},
   "outputs": [
    {
     "data": {
      "text/html": [
       "<div>\n",
       "<style scoped>\n",
       "    .dataframe tbody tr th:only-of-type {\n",
       "        vertical-align: middle;\n",
       "    }\n",
       "\n",
       "    .dataframe tbody tr th {\n",
       "        vertical-align: top;\n",
       "    }\n",
       "\n",
       "    .dataframe thead th {\n",
       "        text-align: right;\n",
       "    }\n",
       "</style>\n",
       "<table border=\"1\" class=\"dataframe\">\n",
       "  <thead>\n",
       "    <tr style=\"text-align: right;\">\n",
       "      <th></th>\n",
       "      <th>Level</th>\n",
       "      <th>Offers Remote</th>\n",
       "      <th>Publish Time</th>\n",
       "      <th>Salary</th>\n",
       "      <th>Title</th>\n",
       "      <th>Close Time</th>\n",
       "      <th>State</th>\n",
       "      <th>Collaboration Type</th>\n",
       "    </tr>\n",
       "  </thead>\n",
       "  <tbody>\n",
       "    <tr>\n",
       "      <th>19</th>\n",
       "      <td>S</td>\n",
       "      <td>False</td>\n",
       "      <td>2020-02-15 10:13:21</td>\n",
       "      <td>12.000000</td>\n",
       "      <td>senior data engineer</td>\n",
       "      <td>2020-04-16 03:00:06</td>\n",
       "      <td>C</td>\n",
       "      <td>FT</td>\n",
       "    </tr>\n",
       "    <tr>\n",
       "      <th>41</th>\n",
       "      <td>S</td>\n",
       "      <td>True</td>\n",
       "      <td>2020-02-15 10:14:50</td>\n",
       "      <td>8.790408</td>\n",
       "      <td>کارشناس هوش مصنوعی</td>\n",
       "      <td>2020-03-10 09:42:19</td>\n",
       "      <td>C</td>\n",
       "      <td>FT</td>\n",
       "    </tr>\n",
       "    <tr>\n",
       "      <th>66</th>\n",
       "      <td>S</td>\n",
       "      <td>False</td>\n",
       "      <td>2019-12-17 10:44:51</td>\n",
       "      <td>8.790408</td>\n",
       "      <td>کارشناس پایگاه داده</td>\n",
       "      <td>2020-02-16 03:00:05</td>\n",
       "      <td>C</td>\n",
       "      <td>FT</td>\n",
       "    </tr>\n",
       "    <tr>\n",
       "      <th>72</th>\n",
       "      <td>S</td>\n",
       "      <td>False</td>\n",
       "      <td>2020-04-13 12:57:18</td>\n",
       "      <td>4.000000</td>\n",
       "      <td>کارشناس بینایی ماشین و یادگیری ماشین</td>\n",
       "      <td>2020-06-13 03:00:06</td>\n",
       "      <td>C</td>\n",
       "      <td>FT</td>\n",
       "    </tr>\n",
       "    <tr>\n",
       "      <th>150</th>\n",
       "      <td>S</td>\n",
       "      <td>False</td>\n",
       "      <td>2020-02-15 10:13:29</td>\n",
       "      <td>8.790408</td>\n",
       "      <td>کارشناس پایگاه داده</td>\n",
       "      <td>2020-04-16 03:00:06</td>\n",
       "      <td>C</td>\n",
       "      <td>FT</td>\n",
       "    </tr>\n",
       "    <tr>\n",
       "      <th>...</th>\n",
       "      <td>...</td>\n",
       "      <td>...</td>\n",
       "      <td>...</td>\n",
       "      <td>...</td>\n",
       "      <td>...</td>\n",
       "      <td>...</td>\n",
       "      <td>...</td>\n",
       "      <td>...</td>\n",
       "    </tr>\n",
       "    <tr>\n",
       "      <th>7575</th>\n",
       "      <td>J</td>\n",
       "      <td>False</td>\n",
       "      <td>2021-05-11 13:56:21</td>\n",
       "      <td>5.620080</td>\n",
       "      <td>data scientist</td>\n",
       "      <td>2021-05-31 16:38:24</td>\n",
       "      <td>C</td>\n",
       "      <td>FT</td>\n",
       "    </tr>\n",
       "    <tr>\n",
       "      <th>7617</th>\n",
       "      <td>S</td>\n",
       "      <td>False</td>\n",
       "      <td>2021-06-19 15:49:25</td>\n",
       "      <td>8.000000</td>\n",
       "      <td>متخصص پایگاه داده آقا</td>\n",
       "      <td>NaN</td>\n",
       "      <td>PB</td>\n",
       "      <td>FT</td>\n",
       "    </tr>\n",
       "    <tr>\n",
       "      <th>7622</th>\n",
       "      <td>S</td>\n",
       "      <td>False</td>\n",
       "      <td>2021-06-19 16:30:55</td>\n",
       "      <td>8.000000</td>\n",
       "      <td>متخصص کلان داده bigdata آقا</td>\n",
       "      <td>NaN</td>\n",
       "      <td>PB</td>\n",
       "      <td>FT</td>\n",
       "    </tr>\n",
       "    <tr>\n",
       "      <th>7626</th>\n",
       "      <td>S</td>\n",
       "      <td>False</td>\n",
       "      <td>2021-06-19 16:32:32</td>\n",
       "      <td>8.000000</td>\n",
       "      <td>متخصص داده کاوی آقا</td>\n",
       "      <td>NaN</td>\n",
       "      <td>PB</td>\n",
       "      <td>FT</td>\n",
       "    </tr>\n",
       "    <tr>\n",
       "      <th>7667</th>\n",
       "      <td>S</td>\n",
       "      <td>False</td>\n",
       "      <td>2021-05-17 08:17:06</td>\n",
       "      <td>8.790408</td>\n",
       "      <td>کارشناس هوش مصنوعی</td>\n",
       "      <td>2021-06-27 04:04:50</td>\n",
       "      <td>C</td>\n",
       "      <td>FT</td>\n",
       "    </tr>\n",
       "  </tbody>\n",
       "</table>\n",
       "<p>251 rows × 8 columns</p>\n",
       "</div>"
      ],
      "text/plain": [
       "     Level  Offers Remote        Publish Time     Salary  \\\n",
       "19       S          False 2020-02-15 10:13:21  12.000000   \n",
       "41       S           True 2020-02-15 10:14:50   8.790408   \n",
       "66       S          False 2019-12-17 10:44:51   8.790408   \n",
       "72       S          False 2020-04-13 12:57:18   4.000000   \n",
       "150      S          False 2020-02-15 10:13:29   8.790408   \n",
       "...    ...            ...                 ...        ...   \n",
       "7575     J          False 2021-05-11 13:56:21   5.620080   \n",
       "7617     S          False 2021-06-19 15:49:25   8.000000   \n",
       "7622     S          False 2021-06-19 16:30:55   8.000000   \n",
       "7626     S          False 2021-06-19 16:32:32   8.000000   \n",
       "7667     S          False 2021-05-17 08:17:06   8.790408   \n",
       "\n",
       "                                     Title           Close Time State  \\\n",
       "19                    senior data engineer  2020-04-16 03:00:06     C   \n",
       "41                      کارشناس هوش مصنوعی  2020-03-10 09:42:19     C   \n",
       "66                     کارشناس پایگاه داده  2020-02-16 03:00:05     C   \n",
       "72    کارشناس بینایی ماشین و یادگیری ماشین  2020-06-13 03:00:06     C   \n",
       "150                    کارشناس پایگاه داده  2020-04-16 03:00:06     C   \n",
       "...                                    ...                  ...   ...   \n",
       "7575                        data scientist  2021-05-31 16:38:24     C   \n",
       "7617                 متخصص پایگاه داده آقا                  NaN    PB   \n",
       "7622           متخصص کلان داده bigdata آقا                  NaN    PB   \n",
       "7626                   متخصص داده کاوی آقا                  NaN    PB   \n",
       "7667                    کارشناس هوش مصنوعی  2021-06-27 04:04:50     C   \n",
       "\n",
       "     Collaboration Type  \n",
       "19                   FT  \n",
       "41                   FT  \n",
       "66                   FT  \n",
       "72                   FT  \n",
       "150                  FT  \n",
       "...                 ...  \n",
       "7575                 FT  \n",
       "7617                 FT  \n",
       "7622                 FT  \n",
       "7626                 FT  \n",
       "7667                 FT  \n",
       "\n",
       "[251 rows x 8 columns]"
      ]
     },
     "execution_count": 254,
     "metadata": {},
     "output_type": "execute_result"
    }
   ],
   "source": [
    "dev_df = df.copy()\n",
    "dev_df['Title'] = dev_df['Title'].apply(lambda title : title.lower())\n",
    "dev_df = dev_df[dev_df['Title'].str.contains('|'.join(keywords))]\n",
    "dev_df"
   ]
  },
  {
   "cell_type": "code",
   "execution_count": 255,
   "id": "ddaeb23f",
   "metadata": {
    "scrolled": true
   },
   "outputs": [
    {
     "data": {
      "text/plain": [
       "Level\n",
       "I     2.256501\n",
       "J     5.750707\n",
       "M    12.000000\n",
       "S     8.891994\n",
       "Name: Salary, dtype: float64"
      ]
     },
     "execution_count": 255,
     "metadata": {},
     "output_type": "execute_result"
    }
   ],
   "source": [
    "# data_mean = pd.Series(index=['I','J','S','M'],dtype='float64')\n",
    "data_mean = dev_df.groupby('Level')['Salary'].mean()\n",
    "# data_mean['I'] = dev_df[dev_df.Level == 'I']['Salary'].mean()\n",
    "# data_mean['J'] = dev_df[dev_df.Level == 'J']['Salary'].mean()\n",
    "# data_mean['S'] = dev_df[dev_df.Level == 'S']['Salary'].mean()\n",
    "# data_mean['M'] = dev_df[dev_df.Level == 'M']['Salary'].mean()\n",
    "data_mean"
   ]
  },
  {
   "cell_type": "markdown",
   "id": "42bf4780",
   "metadata": {},
   "source": [
    "<h2 align=right style=\"line-height:200%;font-family:vazir;color:#0099cc\">\n",
    "<font face=\"vazir\" color=\"#0099cc\">\n",
    "<b>سلول جواب‌ساز</b>\n",
    "</font>\n",
    "</h2>\n"
   ]
  },
  {
   "cell_type": "code",
   "execution_count": 256,
   "id": "8d94f5f9",
   "metadata": {},
   "outputs": [
    {
     "name": "stdout",
     "output_type": "stream",
     "text": [
      "File Paths:\n",
      "['df.csv', 'remote_growth', 'discrete_time', 'data_mean', 'quera_magnet.ipynb']\n"
     ]
    }
   ],
   "source": [
    "import zipfile\n",
    "import joblib\n",
    "\n",
    "pd.DataFrame.to_csv(df, 'df.csv')\n",
    "joblib.dump(remote_growth, \"remote_growth\")\n",
    "joblib.dump(discrete_time, \"discrete_time\")\n",
    "joblib.dump(data_mean, \"data_mean\")\n",
    "\n",
    "def compress(file_names):\n",
    "    print(\"File Paths:\")\n",
    "    print(file_names)\n",
    "    # Select the compression mode ZIP_DEFLATED for compression\n",
    "    # or zipfile.ZIP_STORED to just store the file\n",
    "    compression = zipfile.ZIP_DEFLATED\n",
    "    # create the zip file first parameter path/name, second mode\n",
    "    with zipfile.ZipFile(\"result.zip\", mode=\"w\") as zf:\n",
    "        for file_name in file_names:\n",
    "            # Add file to the zip file\n",
    "            # first parameter file to zip, second filename in zip\n",
    "            zf.write('./' + file_name, file_name, compress_type=compression)\n",
    "\n",
    "file_names = [\"df.csv\", \"remote_growth\", \"discrete_time\", \"data_mean\", \"quera_magnet.ipynb\"]\n",
    "compress(file_names)"
   ]
  },
  {
   "cell_type": "code",
   "execution_count": null,
   "id": "722223d6",
   "metadata": {},
   "outputs": [],
   "source": []
  }
 ],
 "metadata": {
  "kernelspec": {
   "display_name": "Python 3",
   "language": "python",
   "name": "python3"
  },
  "language_info": {
   "codemirror_mode": {
    "name": "ipython",
    "version": 3
   },
   "file_extension": ".py",
   "mimetype": "text/x-python",
   "name": "python",
   "nbconvert_exporter": "python",
   "pygments_lexer": "ipython3",
   "version": "3.8.15"
  },
  "vscode": {
   "interpreter": {
    "hash": "ad2bdc8ecc057115af97d19610ffacc2b4e99fae6737bb82f5d7fb13d2f2c186"
   }
  }
 },
 "nbformat": 4,
 "nbformat_minor": 5
}
