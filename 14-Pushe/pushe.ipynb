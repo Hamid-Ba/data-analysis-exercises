{
 "cells": [
  {
   "cell_type": "markdown",
   "id": "ed01da47",
   "metadata": {},
   "source": [
    "<h1 align=center style=\"line-height:200%;font-family:vazir;color:#0099cc\">\n",
    "<font face=\"vazir\" color=\"#0099cc\">\n",
    "پوشه\n",
    "</font>\n",
    "</h1>"
   ]
  },
  {
   "cell_type": "markdown",
   "id": "a589e19f",
   "metadata": {},
   "source": [
    "<p dir=rtl style=\"direction: rtl;text-align: right;line-height:200%;font-family:vazir;font-size:medium\">\n",
    "<font face=\"vazir\" size=3>\n",
    "    هدف این تمرین، دوره کردن مطالب درسنامه‌های قبلی  به کمک تحلیل داده پوشه است.\n",
    "</font>\n",
    "</p>\n",
    "    "
   ]
  },
  {
   "cell_type": "markdown",
   "id": "1015b1a9",
   "metadata": {},
   "source": [
    "<h3 align=right style=\"line-height:200%;font-family:vazir;color:#0099cc\">\n",
    "<font face=\"vazir\" color=\"#0099cc\">\n",
    "   نوتیفیکیشن چیست؟\n",
    "<br>\n",
    "    به نقل از وبسایت پوشه\n",
    "    </font>\n",
    "</h3>\n",
    "\n",
    "<p dir=rtl style=\"direction: rtl;text-align: right;line-height:200%;font-family:vazir;font-size:medium\">\n",
    "<font face=\"vazir\" size=3>\n",
    "  نوتیفیکیشن یا همان پوش نوتیفیکیشن، یک راه ارتباطی بین مالک اپلیکیشن موبایل یا وب با کاربرانش است. نوتیفیکیشن این اجازه را میدهد که صاحب اپلیکیشن خبر یا اتفاقی جدید را به کاربران خود برساند حتی اگر در آن هنگام کاربر در حال استفاده از اپلیکیشن نباشد.\n",
    "برای مثال توسعه دهنده می خواهد به کاربران خود بگوید که اپلیکیشن را آپدیت کنند یا او می تواند به راحتی از طریق نوتیفیکیشن این اطلاع را به کاربران خود بدهد و همچنین لینک آپدیت را در آن قرار دهد. \n",
    "</font>\n",
    "</p>"
   ]
  },
  {
   "cell_type": "markdown",
   "id": "1250df3f",
   "metadata": {},
   "source": [
    "<h3 align=right style=\"line-height:200%;font-family:vazir;color:#0099cc\">\n",
    "<font face=\"vazir\" color=\"#0099cc\">\n",
    "   پوشه چیست؟\n",
    "<br>\n",
    "    به نقل از وبسایت پوشه\n",
    "    </font>\n",
    "</h3>\n",
    "\n",
    "<p dir=rtl style=\"direction: rtl;text-align: right;line-height:200%;font-family:vazir;font-size:medium\">\n",
    "<font face=\"vazir\" size=3>\n",
    "    پوشه یک سرویس ارسال پوش نوتیفیکیشن برای نرم افزارهای موبایل و وب است. کسب‌وکارها و توسعه‌دهندگان موبایل و وب به هنگام نوشتن برنامه، ازSDK پوشه در نرم افزار خودشان استفاده می‌کنند تا از طریق آن نرخ بازگشت و میزان درگیر شدن کاربرانشان با برنامه را افزایش دهند و از آمار و فیلترهایی که پوشه در اختیارشان قرار می‌دهد برای بهبود برنامه و افزایش رضایت کاربران بهره ببرند.\n",
    "</font>\n",
    "</p>"
   ]
  },
  {
   "cell_type": "markdown",
   "id": "22c300d7",
   "metadata": {},
   "source": [
    "<h2 align=right style=\"line-height:200%;font-family:vazir;color:#0099cc\">\n",
    "<font face=\"vazir\" color=\"#0099cc\">\n",
    "توضیح داده\n",
    "</font>\n",
    "</h2>\n",
    "\n",
    "<p dir=rtl style=\"direction: rtl;text-align: right;line-height:200%;font-family:vazir;font-size:medium\">\n",
    "<font face=\"vazir\" size=3>\n",
    "    حال داده‌ای که ما در اختیار داریم، اطلاعاتی از نوتیفیکیشن‌هایی که به تلفن همراه کاربران ارسال شده‌است را به دست می‌دهد.\n",
    "    <br>\n",
    "    هر سطر از این دیتافریم مشخص می‌کند چه نوتیفیکیشنی، در چه زمانی، توسط چه برنامه‌ای به چه کاربری فرستاده شده‌است و واکنش کاربر نسبت به آن چه بوده‌است.\n",
    "    در جدول زیر ستون‌های داده‌ای که در فایل <i>notifications.csv</i> موجود هست را بررسی می‌کنیم.\n",
    "</font>\n",
    "</p>"
   ]
  },
  {
   "cell_type": "markdown",
   "id": "8c48b422",
   "metadata": {},
   "source": [
    "<div dir=rtl style=\"direction: rtl;text-align: right;line-height:200%;font-family:vazir;font-size:medium\">\n",
    "    <font face=\"vazir\" size=3>\n",
    "    \n",
    "| ستون | توضیح |\n",
    "| ----------- | ------|\n",
    "| action|کلیک کردن (C)، رد کردن (F)|\n",
    "| application_id| شناسه‌ی برنامه|\n",
    "| interaction_time|زمان دریافت پیام|\n",
    "| notification_id| شناسه‌ی نوتیفیکیشن|\n",
    "| user_id| شناسه‌ی کاربر|\n",
    "    </font>\n",
    "</div>"
   ]
  },
  {
   "cell_type": "markdown",
   "id": "db267864",
   "metadata": {},
   "source": [
    "<h3 align=right style=\"line-height:200%;font-family:vazir;color:#0099cc\">\n",
    "<font face=\"vazir\" color=\"#0099cc\">\n",
    "توجه\n",
    "</font>\n",
    "</h3>\n",
    "\n",
    "<p dir=rtl style=\"direction: rtl;text-align: right;line-height:200%;font-family:vazir;font-size:medium\">\n",
    "<font face=\"vazir\" size=3>\n",
    "    عددی که در ستون <i>interaction_time</i> آمده‌است بر حسب ثانیه است. این عدد نشان می‌دهد چند ثانیه از تاریخ <b>۲۰۱۹/۶/۱</b> گذشته است.\n",
    "    <br>\n",
    "       به عنوان مثال، زمان ۵۲۵۸۷۰۰ به معنی گذشتن ۵۲۵۸۷۰۰ ثانیه از ۲۰۱۹/۶/۱ است. \n",
    "</font>\n",
    "</p>"
   ]
  },
  {
   "cell_type": "markdown",
   "id": "ba177aeb",
   "metadata": {},
   "source": [
    "<h2 align=right style=\"line-height:200%;font-family:vazir;color:#0099cc\">\n",
    "<font face=\"vazir\" color=\"#0099cc\">\n",
    "بخش اول: پیش‌پردازش\n",
    "</font>\n",
    "</h2>\n",
    "\n",
    "<p dir=rtl style=\"direction: rtl;text-align: right;line-height:200%;font-family:vazir;font-size:medium\">\n",
    "<font face=\"vazir\" size=3>\n",
    "    در این مرحله باید با استفاده از ستون <i>interaction_time</i> و تاریخ <b>۲۰۱۹/۶/۱</b>، روزی که نوتیفیکیشن ارسال شده‌است را به دست آوریم.\n",
    "    <br>\n",
    "    روزی که نوتیفیکیشن ارسال شده‌است را در ستون جدیدی به اسم <i>date</i> به دیتافریم اضافه کنید.\n",
    "</font>\n",
    "</p>"
   ]
  },
  {
   "cell_type": "markdown",
   "id": "38ec4e79",
   "metadata": {},
   "source": [
    "<h3 dir=rtl align=right style=\"direction: rtl;text-align: right;line-height:200%;font-family:vazir;color:#0099cc\">\n",
    "<font face=\"vazir\" color=\"#0099cc\">\n",
    "    راهنمایی : معرفی تابع <code>timedelta</code>\n",
    "</font>\n",
    "</h3>\n",
    "\n",
    "<p dir=rtl style=\"direction: rtl;text-align: right;line-height:200%;font-family:vazir;font-size:medium\">\n",
    "<font face=\"vazir\" size=3>\n",
    "   این تابع برای نشان دادن فاصله زمانی به کار می‌رود. مثلا اگر بخواهیم بدانیم ۱۰ روز و ۵۰ ثانیه بعد از زمانی که در متغیر <code>example_time</code> ذخیره شده‌است، چه زمانی است می‌توانیم به شکل زیر عمل کنیم. \n",
    "</font>\n",
    "</p>"
   ]
  },
  {
   "cell_type": "code",
   "execution_count": 107,
   "id": "a5eaa828",
   "metadata": {},
   "outputs": [
    {
     "data": {
      "text/plain": [
       "datetime.datetime(2021, 10, 1, 0, 0, 50)"
      ]
     },
     "execution_count": 107,
     "metadata": {},
     "output_type": "execute_result"
    }
   ],
   "source": [
    "import datetime \n",
    "from datetime import timedelta\n",
    "\n",
    "example_time = datetime.datetime(2021,9,21)\n",
    "example_time + timedelta(days=10, seconds=50)"
   ]
  },
  {
   "cell_type": "markdown",
   "id": "e0e3db9d",
   "metadata": {},
   "source": [
    "<p dir=rtl style=\"direction: rtl;text-align: right;line-height:200%;font-family:vazir;font-size:medium\">\n",
    "<font face=\"vazir\" size=3>\n",
    "   اگر بخواهیم بدانیم ۱۰ روز و ۵۰ ثانیه قبل از زمانی که در متغیر <code>example_time</code> ذخیره شده‌است، چه زمانی است می‌توانیم به شکل زیر عمل کنیم. \n",
    "</font>\n",
    "</p>"
   ]
  },
  {
   "cell_type": "code",
   "execution_count": 108,
   "id": "17b3beae",
   "metadata": {},
   "outputs": [
    {
     "data": {
      "text/plain": [
       "datetime.datetime(2021, 9, 10, 23, 59, 10)"
      ]
     },
     "execution_count": 108,
     "metadata": {},
     "output_type": "execute_result"
    }
   ],
   "source": [
    "example_time - timedelta(days=10, seconds=50)"
   ]
  },
  {
   "cell_type": "code",
   "execution_count": 109,
   "id": "bc6dc617",
   "metadata": {},
   "outputs": [],
   "source": [
    "import pandas as pd\n",
    "import numpy as np\n",
    "from pandas import to_datetime"
   ]
  },
  {
   "cell_type": "code",
   "execution_count": 114,
   "id": "620704d2",
   "metadata": {},
   "outputs": [
    {
     "data": {
      "text/html": [
       "<div>\n",
       "<style scoped>\n",
       "    .dataframe tbody tr th:only-of-type {\n",
       "        vertical-align: middle;\n",
       "    }\n",
       "\n",
       "    .dataframe tbody tr th {\n",
       "        vertical-align: top;\n",
       "    }\n",
       "\n",
       "    .dataframe thead th {\n",
       "        text-align: right;\n",
       "    }\n",
       "</style>\n",
       "<table border=\"1\" class=\"dataframe\">\n",
       "  <thead>\n",
       "    <tr style=\"text-align: right;\">\n",
       "      <th></th>\n",
       "      <th>action</th>\n",
       "      <th>application_id</th>\n",
       "      <th>interaction_time</th>\n",
       "      <th>notification_id</th>\n",
       "      <th>user_id</th>\n",
       "    </tr>\n",
       "  </thead>\n",
       "  <tbody>\n",
       "    <tr>\n",
       "      <th>0</th>\n",
       "      <td>F</td>\n",
       "      <td>1</td>\n",
       "      <td>4489200</td>\n",
       "      <td>79</td>\n",
       "      <td>665</td>\n",
       "    </tr>\n",
       "    <tr>\n",
       "      <th>1</th>\n",
       "      <td>F</td>\n",
       "      <td>1</td>\n",
       "      <td>4489200</td>\n",
       "      <td>79</td>\n",
       "      <td>6280</td>\n",
       "    </tr>\n",
       "    <tr>\n",
       "      <th>2</th>\n",
       "      <td>F</td>\n",
       "      <td>1</td>\n",
       "      <td>4388400</td>\n",
       "      <td>78</td>\n",
       "      <td>14774</td>\n",
       "    </tr>\n",
       "    <tr>\n",
       "      <th>3</th>\n",
       "      <td>F</td>\n",
       "      <td>1</td>\n",
       "      <td>4410000</td>\n",
       "      <td>78</td>\n",
       "      <td>3152</td>\n",
       "    </tr>\n",
       "    <tr>\n",
       "      <th>4</th>\n",
       "      <td>C</td>\n",
       "      <td>1</td>\n",
       "      <td>4410000</td>\n",
       "      <td>72</td>\n",
       "      <td>3633</td>\n",
       "    </tr>\n",
       "    <tr>\n",
       "      <th>...</th>\n",
       "      <td>...</td>\n",
       "      <td>...</td>\n",
       "      <td>...</td>\n",
       "      <td>...</td>\n",
       "      <td>...</td>\n",
       "    </tr>\n",
       "    <tr>\n",
       "      <th>140723</th>\n",
       "      <td>F</td>\n",
       "      <td>0</td>\n",
       "      <td>993600</td>\n",
       "      <td>13</td>\n",
       "      <td>14760</td>\n",
       "    </tr>\n",
       "    <tr>\n",
       "      <th>140724</th>\n",
       "      <td>F</td>\n",
       "      <td>0</td>\n",
       "      <td>928800</td>\n",
       "      <td>13</td>\n",
       "      <td>2096</td>\n",
       "    </tr>\n",
       "    <tr>\n",
       "      <th>140725</th>\n",
       "      <td>F</td>\n",
       "      <td>0</td>\n",
       "      <td>900000</td>\n",
       "      <td>13</td>\n",
       "      <td>11308</td>\n",
       "    </tr>\n",
       "    <tr>\n",
       "      <th>140726</th>\n",
       "      <td>F</td>\n",
       "      <td>0</td>\n",
       "      <td>885600</td>\n",
       "      <td>13</td>\n",
       "      <td>5975</td>\n",
       "    </tr>\n",
       "    <tr>\n",
       "      <th>140727</th>\n",
       "      <td>F</td>\n",
       "      <td>0</td>\n",
       "      <td>907200</td>\n",
       "      <td>13</td>\n",
       "      <td>15272</td>\n",
       "    </tr>\n",
       "  </tbody>\n",
       "</table>\n",
       "<p>140728 rows × 5 columns</p>\n",
       "</div>"
      ],
      "text/plain": [
       "       action  application_id  interaction_time  notification_id  user_id\n",
       "0           F               1           4489200               79      665\n",
       "1           F               1           4489200               79     6280\n",
       "2           F               1           4388400               78    14774\n",
       "3           F               1           4410000               78     3152\n",
       "4           C               1           4410000               72     3633\n",
       "...       ...             ...               ...              ...      ...\n",
       "140723      F               0            993600               13    14760\n",
       "140724      F               0            928800               13     2096\n",
       "140725      F               0            900000               13    11308\n",
       "140726      F               0            885600               13     5975\n",
       "140727      F               0            907200               13    15272\n",
       "\n",
       "[140728 rows x 5 columns]"
      ]
     },
     "execution_count": 114,
     "metadata": {},
     "output_type": "execute_result"
    }
   ],
   "source": [
    "# read csv file in df\n",
    "df = pd.read_csv('./notifications_pushe.csv')\n",
    "df"
   ]
  },
  {
   "cell_type": "code",
   "execution_count": 118,
   "id": "5a58787c",
   "metadata": {},
   "outputs": [],
   "source": [
    "# calculate date and add it to dateframe as a new column\n",
    "start_date = datetime.datetime(2019,6,1)\n",
    "df['date'] = df.interaction_time.apply(lambda time : start_date + timedelta(seconds=time))\n",
    "\n",
    "dev_df = df.copy()\n",
    "dev_df['date2'] = df.interaction_time.apply(lambda time : start_date + timedelta(seconds=time)).dt.day"
   ]
  },
  {
   "cell_type": "markdown",
   "id": "4a34dc09",
   "metadata": {},
   "source": [
    "<h2 align=right style=\"line-height:200%;font-family:vazir;color:#0099cc\">\n",
    "<font face=\"vazir\" color=\"#0099cc\">\n",
    "بخش دوم: تحلیل اپلیکیشن‌ها\n",
    "</font>\n",
    "</h2>\n",
    "\n",
    "<p dir=rtl style=\"direction: rtl;text-align: right;line-height:200%;font-family:vazir;font-size:medium\">\n",
    "<font face=\"vazir\" size=3>\n",
    "    می‌خواهیم بدانیم کدام اپلیکیشن، در ارسال نوتیفیکیشن‌ موفق‌ عمل کرده است.\n",
    "    <br>\n",
    "    به ازای هر اپلیکیشن، نرخ کلیک‌شدن به کلیک نشدن نوتیفیکیشن‌ها را به دست آورید. به عنوان مثال اگر اپلیکیشن شماره ۱۰، از مجموع ۱۰۰ نوتیفیکیشنی که ارسال کرده‌است، ۱۰ نوتیفیکیشن توسط کاربران کلیک شده‌باشد، نرخ کلیک‌شدن نوتیفیکیشن‌های اپلیکیشن‌شماره ۱۰، عدد ۰/۱ خواهدبود.\n",
    "    <br>\n",
    "    موفق‌ترین اپلیکیشن، اپلیکیشنی است که نرخ کلیک‌شدن نوتیفیکیشن‌هایش از همه بیشتر باشد.\n",
    "    <br>\n",
    "    موفق‌ترین اپلیکیشن‌ را به همراه نرخ‌کلیک‌شدنش در تاپلی به اسم <code>tuple_appid_successrate</code> ذخیره کنید. به صورتی که عنصر اول تاپل، شناسه اپلیکیشن موفق و عنصر دوم تاپل، نرخ کلیک‌شدن نوتیفیکیشن‌هایش باشد.\n",
    "    <br>\n",
    "    اعدادی که در مثال بالا اشاره شد، هیچ اعتباری ندارند و کاملا تصادفی تولید شده‌اند. بنابراین جوابی که شما به دست خواهید‌آورد، ممکن است با این اعداد تفاوت داشته باشد.\n",
    "</font>\n",
    "</p>"
   ]
  },
  {
   "cell_type": "code",
   "execution_count": 119,
   "id": "423575a2",
   "metadata": {},
   "outputs": [],
   "source": [
    "grouped = df.groupby(['application_id','action'])['action'].count().unstack()\n",
    "\n",
    "grouped['rate'] = grouped['C'] + grouped['F']\n",
    "grouped['c_rate'] = grouped['C'] / grouped['rate']\n",
    "\n",
    "grouped.sort_values('c_rate',ascending=False,inplace=True)\n",
    "most_succeeded_app = grouped[:1]"
   ]
  },
  {
   "cell_type": "code",
   "execution_count": 120,
   "id": "f93ae162",
   "metadata": {},
   "outputs": [],
   "source": [
    "tuple_appid_successrate = (most_succeeded_app.index[0],most_succeeded_app['c_rate'].values[0])"
   ]
  },
  {
   "cell_type": "markdown",
   "id": "a22f87a7",
   "metadata": {},
   "source": [
    "<h2 align=right style=\"line-height:200%;font-family:vazir;color:#0099cc\">\n",
    "<font face=\"vazir\" color=\"#0099cc\">\n",
    "بخش سوم: تحلیل نوتیفیکیشن‌ها\n",
    "</font>\n",
    "</h2>\n",
    "\n",
    "<p dir=rtl style=\"direction: rtl;text-align: right;line-height:200%;font-family:vazir;font-size:medium\">\n",
    "<font face=\"vazir\" size=3>\n",
    "    می‌خواهیم بدانیم کدام نوتیفیکیشن در کلیک‌شدن موفق ظاهر شده‌است.\n",
    "    <br>\n",
    "    <br>\n",
    "    موفق‌ترین نوتیفیکیشن نوتیفیکیشنی است که نرخ کلیک‌شدنش از همه بیشتر باشد.\n",
    "    <br>\n",
    "    موفق‌ترین نوتیفیکیشن‌ را به همراه روزی از هفته که در آن، نوتیفیکیشن بیشتر کلیلک شده، در تاپلی به اسم <code>tuple_notifid_day</code> ذخیره کنید. به صورتی که عنصر اول تاپل، شناسه نوتیفیکیشن موفق و عنصر دوم تاپل، نام روزی از هفته باشد.\n",
    "    <br>\n",
    "    تصویر کنید نوتیفیکیشنی با شناسه ۱۱۰۰ در روز شنبه ۱۰۰ کلیک، یکشنبه ۱۳۰ کلیک، دوشنبه ۳۰ کلیک، سه‌شنبه ۹۰ کلیک، چهارشنبه ۴۵ کلیک، پنج‌شنبه ۴ کلیک و جمعه هیچ‌کلیکی نداشته باشد.\n",
    "    <br>\n",
    "    در این صورت، یکشنبه (Sunday) روزی است که نوتیفیکیشنی با شناسه ۱۱۰۰، بیشترین کلیک‌ را خورده است.\n",
    "    <br>\n",
    "    با فرض اینکه، نوتیفیکیشنی با شناسه ۱۱۰۰، موفق‌ترین نوتیفیکیشن بوده‌است، تاپل <code>tuple_notifid_day</code> به صورت زیر باید مقداردهی شود.  \n",
    "</font>\n",
    "</p>\n",
    "\n",
    "```python\n",
    "tuple_notifid_day = (1100, \"Sunday\")\n",
    "```\n",
    "<p dir=rtl style=\"direction: rtl;text-align: right;line-height:200%;font-family:vazir;font-size:medium\">\n",
    "<font face=\"vazir\" size=3>\n",
    "   اسامی روز‌ها باید بر اساس نام انگلیسی آن‌ها باشد.\n",
    "    <br>\n",
    "    مانند مثال بالا، برای روز یکشنبه کلمه Sunday، روز دوشنبه کلمه Monday و ... در نظر بگیرید.\n",
    "</font>\n",
    "</p>\n",
    "\n",
    "<p dir=rtl style=\"direction: rtl;text-align: right;line-height:200%;font-family:vazir;font-size:medium\">\n",
    "<font face=\"vazir\" size=3>\n",
    "    اعدادی که در مثال بالا اشاره شد، هیچ اعتباری ندارند و کاملا تصادفی تولید شده‌اند. بنابراین جوابی که شما به دست خواهید‌آورد، ممکن است با این اعداد تفاوت داشته باشد. \n",
    "</font>\n",
    "</p>\n"
   ]
  },
  {
   "cell_type": "code",
   "execution_count": 121,
   "id": "4d597654",
   "metadata": {},
   "outputs": [],
   "source": [
    "# Find The Most Succeeded Notification Approach\n",
    "action_grouped = df.groupby(['notification_id','action'])['action'].count().unstack()\n",
    "\n",
    "action_grouped['rate'] = action_grouped['C'] + action_grouped['F']\n",
    "action_grouped['c_rate'] = action_grouped['C'] / action_grouped['rate']\n",
    "\n",
    "action_grouped.sort_values('c_rate',ascending=False,inplace=True)\n",
    "most_succeeded_not = action_grouped[:1]\n",
    "\n",
    "notif_id = most_succeeded_not.index[0]"
   ]
  },
  {
   "cell_type": "code",
   "execution_count": 122,
   "id": "0d683d83",
   "metadata": {},
   "outputs": [],
   "source": [
    "# Find The Most Succeeded Notification Date Approach\n",
    "date_grouped = df.groupby(['action','notification_id','date'])['action'].count().unstack()\n",
    "date_grouped = date_grouped.filter(items=[('C',notif_id)],axis=0)\n",
    "\n",
    "date_grouped.dropna(axis=1,inplace=True)\n",
    "date_grouped.columns.name=None\n",
    "date_grouped.index.name=None\n",
    "date_grouped\n",
    "the_best_day = date_grouped.max().sort_values()[-1:]\n",
    "\n",
    "# date_grouped\n",
    "# res = date_grouped.apply(lambda x : timedelta(int(the_best_day + 1)) + start_date).dt.day_name()\n",
    "\n",
    "# the_best_day\n",
    "# date_grouped\n",
    "# the_best_day = start_date + timedelta(days=int(the_best_day))\n",
    "# the_best_day = pd.to_datetime(df[df['date'] == the_best_day]['date']).dt.day_name()[0]"
   ]
  },
  {
   "cell_type": "code",
   "execution_count": 123,
   "id": "c4fa9e45",
   "metadata": {},
   "outputs": [
    {
     "data": {
      "text/plain": [
       "(79, 'Monday')"
      ]
     },
     "execution_count": 123,
     "metadata": {},
     "output_type": "execute_result"
    }
   ],
   "source": [
    "# 2019-04-10 is the date\n",
    "tuple_notifid_day = (notif_id,to_datetime(the_best_day.index).day_name()[0])\n",
    "tuple_notifid_day"
   ]
  },
  {
   "cell_type": "markdown",
   "id": "d78c84d0",
   "metadata": {},
   "source": [
    "<h2 align=right style=\"line-height:200%;font-family:vazir;color:#0099cc\">\n",
    "<font face=\"vazir\" color=\"#0099cc\">\n",
    "بخش چهارم: تحلیل روز‌ها\n",
    "</font>\n",
    "</h2>\n",
    "\n",
    "<p dir=rtl style=\"direction: rtl;text-align: right;line-height:200%;font-family:vazir;font-size:medium\">\n",
    "<font face=\"vazir\" size=3>\n",
    "   هدف بخش چهارم آن است که بدانیم در چه روز‌هایی از ماه، نرخ کلیک‌شدن نوتیفیکیشن‌ها بیشتر است.\n",
    "    <br>\n",
    "    به عبارت ساده‌تر، دیتافریم را بر اساس روزی که نوتیفیکیشن ارسال شده‌است، گروه‌بندی کنید؛ سپس محاسبه کنید در هر روز، نرخ کلیک‌شدن نوتیفیکیشن‌ها چه مقدار بوده‌است.\n",
    "    <br>\n",
    "    در نهایت روزی که بیشترین نرخ را دارد به همراه نرخ آن روز، در تاپلی به اسم <code>tuple_day_rate</code> ذخیره کنید.\n",
    "    <br>\n",
    "    به عنوان مثال اگر روز ۱۵ ام دارای نرخ ۰/۸۵ باشد (بیشترین نرخ در بین همه ۳۰ روز)، تاپل <code>tuple_day_rate</code> را مانند زیر پر کنید.\n",
    "</font>\n",
    "</p>\n",
    "\n",
    "```python\n",
    "tuple_day_rate = (15, 0.85)\n",
    "```\n",
    "\n",
    "<p dir=rtl style=\"direction: rtl;text-align: right;line-height:200%;font-family:vazir;font-size:medium\">\n",
    "<font face=\"vazir\" size=3>\n",
    "    اعدادی که در مثال بالا اشاره شد، هیچ اعتباری ندارند و کاملا تصادفی تولید شده‌اند. بنابراین جوابی که شما به دست خواهید‌آورد، ممکن است با این اعداد تفاوت داشته باشد. \n",
    "</font>\n",
    "</p>\n"
   ]
  },
  {
   "cell_type": "code",
   "execution_count": 124,
   "id": "c9c64f3a",
   "metadata": {},
   "outputs": [],
   "source": [
    "grouped = dev_df.groupby(['date2','action'])['action'].count().unstack()\n",
    "\n",
    "grouped['rate'] = grouped['C'] + grouped['F']\n",
    "grouped['c_rate'] = grouped['C'] / grouped['rate']\n",
    "\n",
    "grouped.sort_values('c_rate',ascending=False,inplace=True)\n",
    "\n",
    "most_succeeded_app = grouped[:1]\n",
    "\n",
    "most_rate = most_succeeded_app['c_rate'].values[0]\n",
    "most_date = most_succeeded_app.index[0]\n",
    "# most_date -= datetime.date(2019,6,1) - most_date"
   ]
  },
  {
   "cell_type": "code",
   "execution_count": 125,
   "id": "f8a7c648",
   "metadata": {},
   "outputs": [
    {
     "data": {
      "text/plain": [
       "(22, 0.26486013986013984)"
      ]
     },
     "execution_count": 125,
     "metadata": {},
     "output_type": "execute_result"
    }
   ],
   "source": [
    "tuple_day_rate = (most_date,most_rate)\n",
    "tuple_day_rate"
   ]
  },
  {
   "cell_type": "markdown",
   "id": "8335fc74",
   "metadata": {},
   "source": [
    "<h2 align=right style=\"line-height:200%;font-family:vazir;color:#0099cc\">\n",
    "<font face=\"vazir\" color=\"#0099cc\">\n",
    "<b>سلول جواب‌ساز</b>\n",
    "</font>\n",
    "</h2>\n"
   ]
  },
  {
   "cell_type": "code",
   "execution_count": 128,
   "id": "32eeced9",
   "metadata": {},
   "outputs": [
    {
     "name": "stdout",
     "output_type": "stream",
     "text": [
      "File Paths:\n",
      "['date.csv', 'tuple_appid_successrate', 'tuple_notifid_day', 'tuple_day_rate', 'pushe.ipynb']\n"
     ]
    }
   ],
   "source": [
    "import zipfile\n",
    "import joblib\n",
    "\n",
    "df[['date']].to_csv('date.csv', index=False)\n",
    "joblib.dump(tuple_appid_successrate,\"tuple_appid_successrate\")\n",
    "joblib.dump(tuple_notifid_day, 'tuple_notifid_day')\n",
    "joblib.dump(tuple_day_rate, 'tuple_day_rate')\n",
    "\n",
    "def compress(file_names):\n",
    "    print(\"File Paths:\")\n",
    "    print(file_names)\n",
    "    # Select the compression mode ZIP_DEFLATED for compression\n",
    "    # or zipfile.ZIP_STORED to just store the file\n",
    "    compression = zipfile.ZIP_DEFLATED\n",
    "    # create the zip file first parameter path/name, second mode\n",
    "    with zipfile.ZipFile(\"result.zip\", mode=\"w\") as zf:\n",
    "        for file_name in file_names:\n",
    "            # Add file to the zip file\n",
    "            # first parameter file to zip, second filename in zip\n",
    "            zf.write('./' + file_name, file_name, compress_type=compression)\n",
    "\n",
    "\n",
    "file_names = [\"date.csv\", \"tuple_appid_successrate\", \"tuple_notifid_day\", \"tuple_day_rate\", \"pushe.ipynb\"]\n",
    "compress(file_names)"
   ]
  },
  {
   "cell_type": "code",
   "execution_count": null,
   "id": "091cb4e9",
   "metadata": {},
   "outputs": [],
   "source": []
  }
 ],
 "metadata": {
  "kernelspec": {
   "display_name": "Python 3",
   "language": "python",
   "name": "python3"
  },
  "language_info": {
   "codemirror_mode": {
    "name": "ipython",
    "version": 3
   },
   "file_extension": ".py",
   "mimetype": "text/x-python",
   "name": "python",
   "nbconvert_exporter": "python",
   "pygments_lexer": "ipython3",
   "version": "3.8.15"
  }
 },
 "nbformat": 4,
 "nbformat_minor": 5
}
