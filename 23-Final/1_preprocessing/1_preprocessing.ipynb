{
 "cells": [
  {
   "cell_type": "markdown",
   "id": "7f592a97",
   "metadata": {
    "id": "dbd55073"
   },
   "source": [
    "<h1 align=center style=\"line-height:200%;font-family:vazir;color:#0099cc\">\n",
    "<font face=\"vazir\" color=\"#0099cc\">\n",
    "پیش‌پردازش\n",
    "</font>\n",
    "</h1>"
   ]
  },
  {
   "cell_type": "markdown",
   "id": "076e5e90",
   "metadata": {},
   "source": [
    "<h2 align=right style=\"line-height:200%;font-family:vazir;color:#0099cc\">\n",
    "<font face=\"vazir\" color=\"#0099cc\">\n",
    "    توضیحات اولیه\n",
    "</font>\n",
    "</h2>\n",
    "\n",
    "<p dir=rtl style=\"direction: rtl;text-align: right;line-height:200%;font-family:vazir;font-size:medium\">\n",
    "<font face=\"vazir\" size=3>    \n",
    "    در اولین گام از پروژه نهایی، قصد داریم با پیش‌پردازش داده و پاسخ به تعدادی سوال ساده، ضمن دید پیداکردن نسبت به داده، آن را برای مراحل بعدی آماده کنیم.\n",
    "    <br>\n",
    "    مراحل پیش‌پردازش و سوالات ساده، جدا از همدیگر نیستند. یعنی ابتدا چند مرحله پیش‌پردازش داریم، سپس به تعدادی سوال تحلیلی جواب خواهیم داد و مجددا داده را پیش‌پردازش خواهیم‌کرد.\n",
    "    \n",
    "</font>\n",
    "</p>"
   ]
  },
  {
   "cell_type": "markdown",
   "id": "3c0ee8dc",
   "metadata": {
    "id": "ff28bfde"
   },
   "source": [
    "   \n",
    "<h2 align=right style=\"line-height:200%;font-family:vazir;color:#0099cc\">\n",
    "<font face=\"vazir\" color=\"#0099cc\">\n",
    "کتابخانه‌ها\n",
    "</font>\n",
    "</h2>\n",
    "\n",
    "<p dir=rtl style=\"direction: rtl;text-align: right;line-height:200%;font-family:vazir;font-size:medium\">\n",
    "<font face=\"vazir\" size=3>\n",
    "       ابتدا کتاب‌خانه‌های مورد نیاز خود را اضافه کنید.\n",
    "</font>\n",
    "</p>"
   ]
  },
  {
   "cell_type": "code",
   "execution_count": 1,
   "id": "d171f8a8",
   "metadata": {
    "id": "4a1c31c4"
   },
   "outputs": [],
   "source": [
    "# import libraries\n",
    "import numpy as np\n",
    "import pandas as pd"
   ]
  },
  {
   "cell_type": "markdown",
   "id": "5f967579",
   "metadata": {
    "id": "76c16791"
   },
   "source": [
    "\n",
    "<h2 align=right style=\"line-height:200%;font-family:vazir;color:#0099cc\">\n",
    "<font face=\"vazir\" color=\"#0099cc\">\n",
    "خواندن مجموعه داده\n",
    "</font>\n",
    "</h2>\n",
    "\n",
    "<p dir=rtl style=\"direction: rtl;text-align: right;line-height:200%;font-family:vazir;font-size:medium\">\n",
    "<font face=\"vazir\" size=3>\n",
    "    فایل اکسل را بخوانید.\n",
    "</font>\n",
    "</p>"
   ]
  },
  {
   "cell_type": "code",
   "execution_count": 2,
   "id": "d63017b1",
   "metadata": {},
   "outputs": [
    {
     "name": "stdout",
     "output_type": "stream",
     "text": [
      "Collecting package metadata (current_repodata.json): done\n",
      "Solving environment: done\n",
      "\n",
      "\n",
      "==> WARNING: A newer version of conda exists. <==\n",
      "  current version: 4.12.0\n",
      "  latest version: 23.1.0\n",
      "\n",
      "Please update conda by running\n",
      "\n",
      "    $ conda update -n base -c defaults conda\n",
      "\n",
      "\n",
      "\n",
      "# All requested packages already installed.\n",
      "\n"
     ]
    }
   ],
   "source": [
    "import sys\n",
    "!conda install --yes --prefix {sys.prefix} openpyxl"
   ]
  },
  {
   "cell_type": "code",
   "execution_count": 3,
   "id": "dcb58d50",
   "metadata": {
    "id": "b0ad0cab",
    "outputId": "256eb757-521a-4029-a774-826f840578fc"
   },
   "outputs": [],
   "source": [
    "# read the original dataset\n",
    "df = pd.read_excel(\"./sales.xlsx\")"
   ]
  },
  {
   "cell_type": "code",
   "execution_count": 4,
   "id": "22e95c69",
   "metadata": {},
   "outputs": [
    {
     "data": {
      "text/html": [
       "<div>\n",
       "<style scoped>\n",
       "    .dataframe tbody tr th:only-of-type {\n",
       "        vertical-align: middle;\n",
       "    }\n",
       "\n",
       "    .dataframe tbody tr th {\n",
       "        vertical-align: top;\n",
       "    }\n",
       "\n",
       "    .dataframe thead th {\n",
       "        text-align: right;\n",
       "    }\n",
       "</style>\n",
       "<table border=\"1\" class=\"dataframe\">\n",
       "  <thead>\n",
       "    <tr style=\"text-align: right;\">\n",
       "      <th></th>\n",
       "      <th>InvoiceNumber</th>\n",
       "      <th>ProductCode</th>\n",
       "      <th>ProductName</th>\n",
       "      <th>Quantity</th>\n",
       "      <th>InvoiceDate</th>\n",
       "      <th>UnitPrice</th>\n",
       "      <th>CustomerId</th>\n",
       "      <th>Country</th>\n",
       "    </tr>\n",
       "  </thead>\n",
       "  <tbody>\n",
       "    <tr>\n",
       "      <th>0</th>\n",
       "      <td>489434</td>\n",
       "      <td>85048</td>\n",
       "      <td>15CM CHRISTMAS GLASS BALL 20 LIGHTS</td>\n",
       "      <td>12</td>\n",
       "      <td>2009-12-01 07:45:00</td>\n",
       "      <td>6.95</td>\n",
       "      <td>13085.0</td>\n",
       "      <td>United Kingdom</td>\n",
       "    </tr>\n",
       "    <tr>\n",
       "      <th>1</th>\n",
       "      <td>489434</td>\n",
       "      <td>79323P</td>\n",
       "      <td>PINK CHERRY LIGHTS</td>\n",
       "      <td>12</td>\n",
       "      <td>2009-12-01 07:45:00</td>\n",
       "      <td>6.75</td>\n",
       "      <td>13085.0</td>\n",
       "      <td>United Kingdom</td>\n",
       "    </tr>\n",
       "    <tr>\n",
       "      <th>2</th>\n",
       "      <td>489434</td>\n",
       "      <td>79323W</td>\n",
       "      <td>WHITE CHERRY LIGHTS</td>\n",
       "      <td>12</td>\n",
       "      <td>2009-12-01 07:45:00</td>\n",
       "      <td>6.75</td>\n",
       "      <td>13085.0</td>\n",
       "      <td>United Kingdom</td>\n",
       "    </tr>\n",
       "    <tr>\n",
       "      <th>3</th>\n",
       "      <td>489434</td>\n",
       "      <td>22041</td>\n",
       "      <td>RECORD FRAME 7\" SINGLE SIZE</td>\n",
       "      <td>48</td>\n",
       "      <td>2009-12-01 07:45:00</td>\n",
       "      <td>2.10</td>\n",
       "      <td>13085.0</td>\n",
       "      <td>United Kingdom</td>\n",
       "    </tr>\n",
       "    <tr>\n",
       "      <th>4</th>\n",
       "      <td>489434</td>\n",
       "      <td>21232</td>\n",
       "      <td>STRAWBERRY CERAMIC TRINKET BOX</td>\n",
       "      <td>24</td>\n",
       "      <td>2009-12-01 07:45:00</td>\n",
       "      <td>1.25</td>\n",
       "      <td>13085.0</td>\n",
       "      <td>United Kingdom</td>\n",
       "    </tr>\n",
       "  </tbody>\n",
       "</table>\n",
       "</div>"
      ],
      "text/plain": [
       "  InvoiceNumber ProductCode                          ProductName  Quantity  \\\n",
       "0        489434       85048  15CM CHRISTMAS GLASS BALL 20 LIGHTS        12   \n",
       "1        489434      79323P                   PINK CHERRY LIGHTS        12   \n",
       "2        489434      79323W                  WHITE CHERRY LIGHTS        12   \n",
       "3        489434       22041         RECORD FRAME 7\" SINGLE SIZE         48   \n",
       "4        489434       21232       STRAWBERRY CERAMIC TRINKET BOX        24   \n",
       "\n",
       "          InvoiceDate  UnitPrice  CustomerId         Country  \n",
       "0 2009-12-01 07:45:00       6.95     13085.0  United Kingdom  \n",
       "1 2009-12-01 07:45:00       6.75     13085.0  United Kingdom  \n",
       "2 2009-12-01 07:45:00       6.75     13085.0  United Kingdom  \n",
       "3 2009-12-01 07:45:00       2.10     13085.0  United Kingdom  \n",
       "4 2009-12-01 07:45:00       1.25     13085.0  United Kingdom  "
      ]
     },
     "execution_count": 4,
     "metadata": {},
     "output_type": "execute_result"
    }
   ],
   "source": [
    "df.head()"
   ]
  },
  {
   "cell_type": "code",
   "execution_count": 5,
   "id": "c8992ca1",
   "metadata": {},
   "outputs": [
    {
     "name": "stdout",
     "output_type": "stream",
     "text": [
      "<class 'pandas.core.frame.DataFrame'>\n",
      "RangeIndex: 525461 entries, 0 to 525460\n",
      "Data columns (total 8 columns):\n",
      " #   Column         Non-Null Count   Dtype         \n",
      "---  ------         --------------   -----         \n",
      " 0   InvoiceNumber  525461 non-null  object        \n",
      " 1   ProductCode    525461 non-null  object        \n",
      " 2   ProductName    522533 non-null  object        \n",
      " 3   Quantity       525461 non-null  int64         \n",
      " 4   InvoiceDate    525461 non-null  datetime64[ns]\n",
      " 5   UnitPrice      525461 non-null  float64       \n",
      " 6   CustomerId     417534 non-null  float64       \n",
      " 7   Country        525461 non-null  object        \n",
      "dtypes: datetime64[ns](1), float64(2), int64(1), object(4)\n",
      "memory usage: 32.1+ MB\n"
     ]
    }
   ],
   "source": [
    "df.info()"
   ]
  },
  {
   "cell_type": "markdown",
   "id": "f55b5fa9",
   "metadata": {
    "id": "d98bc7ea"
   },
   "source": [
    "<h2 align=right style=\"line-height:200%;font-family:vazir;color:#0099cc\">\n",
    "<font face=\"vazir\" color=\"#0099cc\">\n",
    "قسمت اول    \n",
    "</font>\n",
    "</h2>\n",
    "\n",
    "<p dir=rtl style=\"direction: rtl;text-align: right;line-height:200%;font-family:vazir;font-size:medium\">\n",
    "<font face=\"vazir\" size=3>    \n",
    "    ابتدا فاکتورهایی که شناسه مشتری (<code>CustomerId</code>) آن‌ها موجود نیست را از دادگان حذف کنید. دیتافریم جدید را در متغیر <code>df_no_missing_CustomerId</code> ذخیره کنید.\n",
    "    \n",
    "</font>\n",
    "</p>\n"
   ]
  },
  {
   "cell_type": "code",
   "execution_count": 6,
   "id": "02000a8c",
   "metadata": {},
   "outputs": [
    {
     "data": {
      "text/plain": [
       "107927"
      ]
     },
     "execution_count": 6,
     "metadata": {},
     "output_type": "execute_result"
    }
   ],
   "source": [
    "sum(df.CustomerId.isna())"
   ]
  },
  {
   "cell_type": "code",
   "execution_count": 7,
   "id": "a104e359",
   "metadata": {
    "id": "1269279d"
   },
   "outputs": [],
   "source": [
    "# remove null customer id values\n",
    "\n",
    "df_no_missing_CustomerId = df.copy()\n",
    "df_no_missing_CustomerId.dropna(subset=['CustomerId'],inplace=True)"
   ]
  },
  {
   "cell_type": "code",
   "execution_count": 8,
   "id": "bf499b07",
   "metadata": {},
   "outputs": [
    {
     "data": {
      "text/plain": [
       "0"
      ]
     },
     "execution_count": 8,
     "metadata": {},
     "output_type": "execute_result"
    }
   ],
   "source": [
    "sum(df_no_missing_CustomerId.CustomerId.isna())"
   ]
  },
  {
   "cell_type": "code",
   "execution_count": 9,
   "id": "db1d9668",
   "metadata": {},
   "outputs": [
    {
     "name": "stdout",
     "output_type": "stream",
     "text": [
      "<class 'pandas.core.frame.DataFrame'>\n",
      "Int64Index: 417534 entries, 0 to 525460\n",
      "Data columns (total 8 columns):\n",
      " #   Column         Non-Null Count   Dtype         \n",
      "---  ------         --------------   -----         \n",
      " 0   InvoiceNumber  417534 non-null  object        \n",
      " 1   ProductCode    417534 non-null  object        \n",
      " 2   ProductName    417534 non-null  object        \n",
      " 3   Quantity       417534 non-null  int64         \n",
      " 4   InvoiceDate    417534 non-null  datetime64[ns]\n",
      " 5   UnitPrice      417534 non-null  float64       \n",
      " 6   CustomerId     417534 non-null  float64       \n",
      " 7   Country        417534 non-null  object        \n",
      "dtypes: datetime64[ns](1), float64(2), int64(1), object(4)\n",
      "memory usage: 28.7+ MB\n"
     ]
    }
   ],
   "source": [
    "df_no_missing_CustomerId.info()"
   ]
  },
  {
   "cell_type": "markdown",
   "id": "6dfd6345",
   "metadata": {
    "id": "a63338c3"
   },
   "source": [
    "   \n",
    "<h2 align=right style=\"line-height:200%;font-family:vazir;color:#0099cc\">\n",
    "<font face=\"vazir\" color=\"#0099cc\">\n",
    "قسمت دوم    \n",
    "</font>\n",
    "</h2>\n",
    "\n",
    "<p dir=rtl style=\"direction: rtl;text-align: right;line-height:200%;font-family:vazir;font-size:medium\">\n",
    "<font face=\"vazir\" size=3>    \n",
    "سپس از بین سطر‌هایی که تمامی مقادیر آن‌ها تکراری هستند، فقط یک سطر را نگه دارید. دیتافریم جدید را در متغیر <code>df_no_duplicate</code> ذخیره کنید.\n",
    "</font>\n",
    "</p>\n"
   ]
  },
  {
   "cell_type": "code",
   "execution_count": 10,
   "id": "acc758e5",
   "metadata": {
    "id": "582951c6"
   },
   "outputs": [],
   "source": [
    "# keep only one row per duplicate rows\n",
    "df_no_duplicate = df_no_missing_CustomerId.copy()\n",
    "df_no_duplicate.drop_duplicates(keep='first',inplace=True)"
   ]
  },
  {
   "cell_type": "code",
   "execution_count": 11,
   "id": "c50f6648",
   "metadata": {},
   "outputs": [
    {
     "name": "stdout",
     "output_type": "stream",
     "text": [
      "<class 'pandas.core.frame.DataFrame'>\n",
      "Int64Index: 410763 entries, 0 to 525460\n",
      "Data columns (total 8 columns):\n",
      " #   Column         Non-Null Count   Dtype         \n",
      "---  ------         --------------   -----         \n",
      " 0   InvoiceNumber  410763 non-null  object        \n",
      " 1   ProductCode    410763 non-null  object        \n",
      " 2   ProductName    410763 non-null  object        \n",
      " 3   Quantity       410763 non-null  int64         \n",
      " 4   InvoiceDate    410763 non-null  datetime64[ns]\n",
      " 5   UnitPrice      410763 non-null  float64       \n",
      " 6   CustomerId     410763 non-null  float64       \n",
      " 7   Country        410763 non-null  object        \n",
      "dtypes: datetime64[ns](1), float64(2), int64(1), object(4)\n",
      "memory usage: 28.2+ MB\n"
     ]
    }
   ],
   "source": [
    "df_no_duplicate.info()"
   ]
  },
  {
   "cell_type": "markdown",
   "id": "76a0b25a",
   "metadata": {
    "id": "b6450112"
   },
   "source": [
    "<h2 align=right style=\"line-height:200%;font-family:vazir;color:#0099cc\">\n",
    "<font face=\"vazir\" color=\"#0099cc\">\n",
    "قسمت سوم    \n",
    "</font>\n",
    "</h2>\n",
    "\n",
    "<p dir=rtl style=\"direction: rtl;text-align: right;line-height:200%;font-family:vazir;font-size:medium\">\n",
    "<font face=\"vazir\" size=3>        \n",
    "همچنین سطرهایی که قیمت آن‌ها صفر یا عددی منفی است را نیز از دادگان حذف کنید. دیتافریم جدید را در متغیر <code>df_no_missing_price</code> ذخیره کنید.\n",
    "</font>\n",
    "</p>\n"
   ]
  },
  {
   "cell_type": "code",
   "execution_count": 12,
   "id": "3417093d",
   "metadata": {},
   "outputs": [
    {
     "data": {
      "text/html": [
       "<div>\n",
       "<style scoped>\n",
       "    .dataframe tbody tr th:only-of-type {\n",
       "        vertical-align: middle;\n",
       "    }\n",
       "\n",
       "    .dataframe tbody tr th {\n",
       "        vertical-align: top;\n",
       "    }\n",
       "\n",
       "    .dataframe thead th {\n",
       "        text-align: right;\n",
       "    }\n",
       "</style>\n",
       "<table border=\"1\" class=\"dataframe\">\n",
       "  <thead>\n",
       "    <tr style=\"text-align: right;\">\n",
       "      <th></th>\n",
       "      <th>InvoiceNumber</th>\n",
       "      <th>ProductCode</th>\n",
       "      <th>ProductName</th>\n",
       "      <th>Quantity</th>\n",
       "      <th>InvoiceDate</th>\n",
       "      <th>UnitPrice</th>\n",
       "      <th>CustomerId</th>\n",
       "      <th>Country</th>\n",
       "    </tr>\n",
       "  </thead>\n",
       "  <tbody>\n",
       "    <tr>\n",
       "      <th>178</th>\n",
       "      <td>C489449</td>\n",
       "      <td>22087</td>\n",
       "      <td>PAPER BUNTING WHITE LACE</td>\n",
       "      <td>-12</td>\n",
       "      <td>2009-12-01 10:33:00</td>\n",
       "      <td>2.95</td>\n",
       "      <td>16321.0</td>\n",
       "      <td>Australia</td>\n",
       "    </tr>\n",
       "    <tr>\n",
       "      <th>179</th>\n",
       "      <td>C489449</td>\n",
       "      <td>85206A</td>\n",
       "      <td>CREAM FELT EASTER EGG BASKET</td>\n",
       "      <td>-6</td>\n",
       "      <td>2009-12-01 10:33:00</td>\n",
       "      <td>1.65</td>\n",
       "      <td>16321.0</td>\n",
       "      <td>Australia</td>\n",
       "    </tr>\n",
       "    <tr>\n",
       "      <th>180</th>\n",
       "      <td>C489449</td>\n",
       "      <td>21895</td>\n",
       "      <td>POTTING SHED SOW 'N' GROW SET</td>\n",
       "      <td>-4</td>\n",
       "      <td>2009-12-01 10:33:00</td>\n",
       "      <td>4.25</td>\n",
       "      <td>16321.0</td>\n",
       "      <td>Australia</td>\n",
       "    </tr>\n",
       "    <tr>\n",
       "      <th>181</th>\n",
       "      <td>C489449</td>\n",
       "      <td>21896</td>\n",
       "      <td>POTTING SHED TWINE</td>\n",
       "      <td>-6</td>\n",
       "      <td>2009-12-01 10:33:00</td>\n",
       "      <td>2.10</td>\n",
       "      <td>16321.0</td>\n",
       "      <td>Australia</td>\n",
       "    </tr>\n",
       "    <tr>\n",
       "      <th>182</th>\n",
       "      <td>C489449</td>\n",
       "      <td>22083</td>\n",
       "      <td>PAPER CHAIN KIT RETRO SPOT</td>\n",
       "      <td>-12</td>\n",
       "      <td>2009-12-01 10:33:00</td>\n",
       "      <td>2.95</td>\n",
       "      <td>16321.0</td>\n",
       "      <td>Australia</td>\n",
       "    </tr>\n",
       "    <tr>\n",
       "      <th>183</th>\n",
       "      <td>C489449</td>\n",
       "      <td>21871</td>\n",
       "      <td>SAVE THE PLANET MUG</td>\n",
       "      <td>-12</td>\n",
       "      <td>2009-12-01 10:33:00</td>\n",
       "      <td>1.25</td>\n",
       "      <td>16321.0</td>\n",
       "      <td>Australia</td>\n",
       "    </tr>\n",
       "    <tr>\n",
       "      <th>184</th>\n",
       "      <td>C489449</td>\n",
       "      <td>84946</td>\n",
       "      <td>ANTIQUE SILVER TEA GLASS ETCHED</td>\n",
       "      <td>-12</td>\n",
       "      <td>2009-12-01 10:33:00</td>\n",
       "      <td>1.25</td>\n",
       "      <td>16321.0</td>\n",
       "      <td>Australia</td>\n",
       "    </tr>\n",
       "    <tr>\n",
       "      <th>185</th>\n",
       "      <td>C489449</td>\n",
       "      <td>84970S</td>\n",
       "      <td>HANGING HEART ZINC T-LIGHT HOLDER</td>\n",
       "      <td>-24</td>\n",
       "      <td>2009-12-01 10:33:00</td>\n",
       "      <td>0.85</td>\n",
       "      <td>16321.0</td>\n",
       "      <td>Australia</td>\n",
       "    </tr>\n",
       "    <tr>\n",
       "      <th>186</th>\n",
       "      <td>C489449</td>\n",
       "      <td>22090</td>\n",
       "      <td>PAPER BUNTING RETRO SPOTS</td>\n",
       "      <td>-12</td>\n",
       "      <td>2009-12-01 10:33:00</td>\n",
       "      <td>2.95</td>\n",
       "      <td>16321.0</td>\n",
       "      <td>Australia</td>\n",
       "    </tr>\n",
       "    <tr>\n",
       "      <th>187</th>\n",
       "      <td>489450</td>\n",
       "      <td>22087</td>\n",
       "      <td>PAPER BUNTING WHITE LACE</td>\n",
       "      <td>12</td>\n",
       "      <td>2009-12-01 10:36:00</td>\n",
       "      <td>2.95</td>\n",
       "      <td>16321.0</td>\n",
       "      <td>Australia</td>\n",
       "    </tr>\n",
       "    <tr>\n",
       "      <th>188</th>\n",
       "      <td>489450</td>\n",
       "      <td>85206A</td>\n",
       "      <td>CREAM FELT EASTER EGG BASKET</td>\n",
       "      <td>6</td>\n",
       "      <td>2009-12-01 10:36:00</td>\n",
       "      <td>1.65</td>\n",
       "      <td>16321.0</td>\n",
       "      <td>Australia</td>\n",
       "    </tr>\n",
       "    <tr>\n",
       "      <th>189</th>\n",
       "      <td>489450</td>\n",
       "      <td>21895</td>\n",
       "      <td>POTTING SHED SOW 'N' GROW SET</td>\n",
       "      <td>4</td>\n",
       "      <td>2009-12-01 10:36:00</td>\n",
       "      <td>4.25</td>\n",
       "      <td>16321.0</td>\n",
       "      <td>Australia</td>\n",
       "    </tr>\n",
       "    <tr>\n",
       "      <th>190</th>\n",
       "      <td>489450</td>\n",
       "      <td>21896</td>\n",
       "      <td>POTTING SHED TWINE</td>\n",
       "      <td>6</td>\n",
       "      <td>2009-12-01 10:36:00</td>\n",
       "      <td>2.10</td>\n",
       "      <td>16321.0</td>\n",
       "      <td>Australia</td>\n",
       "    </tr>\n",
       "    <tr>\n",
       "      <th>191</th>\n",
       "      <td>489450</td>\n",
       "      <td>22083</td>\n",
       "      <td>PAPER CHAIN KIT RETRO SPOT</td>\n",
       "      <td>12</td>\n",
       "      <td>2009-12-01 10:36:00</td>\n",
       "      <td>2.95</td>\n",
       "      <td>16321.0</td>\n",
       "      <td>Australia</td>\n",
       "    </tr>\n",
       "    <tr>\n",
       "      <th>192</th>\n",
       "      <td>489450</td>\n",
       "      <td>21871</td>\n",
       "      <td>SAVE THE PLANET MUG</td>\n",
       "      <td>12</td>\n",
       "      <td>2009-12-01 10:36:00</td>\n",
       "      <td>1.25</td>\n",
       "      <td>16321.0</td>\n",
       "      <td>Australia</td>\n",
       "    </tr>\n",
       "    <tr>\n",
       "      <th>193</th>\n",
       "      <td>489450</td>\n",
       "      <td>84946</td>\n",
       "      <td>ANTIQUE SILVER TEA GLASS ETCHED</td>\n",
       "      <td>12</td>\n",
       "      <td>2009-12-01 10:36:00</td>\n",
       "      <td>1.25</td>\n",
       "      <td>16321.0</td>\n",
       "      <td>Australia</td>\n",
       "    </tr>\n",
       "    <tr>\n",
       "      <th>194</th>\n",
       "      <td>489450</td>\n",
       "      <td>84970S</td>\n",
       "      <td>HANGING HEART ZINC T-LIGHT HOLDER</td>\n",
       "      <td>24</td>\n",
       "      <td>2009-12-01 10:36:00</td>\n",
       "      <td>0.85</td>\n",
       "      <td>16321.0</td>\n",
       "      <td>Australia</td>\n",
       "    </tr>\n",
       "    <tr>\n",
       "      <th>195</th>\n",
       "      <td>489450</td>\n",
       "      <td>22090</td>\n",
       "      <td>PAPER BUNTING RETRO SPOTS</td>\n",
       "      <td>12</td>\n",
       "      <td>2009-12-01 10:36:00</td>\n",
       "      <td>2.95</td>\n",
       "      <td>16321.0</td>\n",
       "      <td>Australia</td>\n",
       "    </tr>\n",
       "    <tr>\n",
       "      <th>135099</th>\n",
       "      <td>502275</td>\n",
       "      <td>85206A</td>\n",
       "      <td>CREAM FELT EASTER EGG BASKET</td>\n",
       "      <td>12</td>\n",
       "      <td>2010-03-23 16:01:00</td>\n",
       "      <td>1.65</td>\n",
       "      <td>16321.0</td>\n",
       "      <td>Australia</td>\n",
       "    </tr>\n",
       "    <tr>\n",
       "      <th>135100</th>\n",
       "      <td>502275</td>\n",
       "      <td>22585</td>\n",
       "      <td>PACK OF 6 BIRDY GIFT TAGS</td>\n",
       "      <td>12</td>\n",
       "      <td>2010-03-23 16:01:00</td>\n",
       "      <td>1.25</td>\n",
       "      <td>16321.0</td>\n",
       "      <td>Australia</td>\n",
       "    </tr>\n",
       "  </tbody>\n",
       "</table>\n",
       "</div>"
      ],
      "text/plain": [
       "       InvoiceNumber ProductCode                        ProductName  Quantity  \\\n",
       "178          C489449       22087           PAPER BUNTING WHITE LACE       -12   \n",
       "179          C489449      85206A       CREAM FELT EASTER EGG BASKET        -6   \n",
       "180          C489449       21895      POTTING SHED SOW 'N' GROW SET        -4   \n",
       "181          C489449       21896                 POTTING SHED TWINE        -6   \n",
       "182          C489449       22083         PAPER CHAIN KIT RETRO SPOT       -12   \n",
       "183          C489449       21871                SAVE THE PLANET MUG       -12   \n",
       "184          C489449       84946    ANTIQUE SILVER TEA GLASS ETCHED       -12   \n",
       "185          C489449      84970S  HANGING HEART ZINC T-LIGHT HOLDER       -24   \n",
       "186          C489449       22090          PAPER BUNTING RETRO SPOTS       -12   \n",
       "187           489450       22087           PAPER BUNTING WHITE LACE        12   \n",
       "188           489450      85206A       CREAM FELT EASTER EGG BASKET         6   \n",
       "189           489450       21895      POTTING SHED SOW 'N' GROW SET         4   \n",
       "190           489450       21896                 POTTING SHED TWINE         6   \n",
       "191           489450       22083         PAPER CHAIN KIT RETRO SPOT        12   \n",
       "192           489450       21871                SAVE THE PLANET MUG        12   \n",
       "193           489450       84946    ANTIQUE SILVER TEA GLASS ETCHED        12   \n",
       "194           489450      84970S  HANGING HEART ZINC T-LIGHT HOLDER        24   \n",
       "195           489450       22090          PAPER BUNTING RETRO SPOTS        12   \n",
       "135099        502275      85206A       CREAM FELT EASTER EGG BASKET        12   \n",
       "135100        502275       22585          PACK OF 6 BIRDY GIFT TAGS        12   \n",
       "\n",
       "               InvoiceDate  UnitPrice  CustomerId    Country  \n",
       "178    2009-12-01 10:33:00       2.95     16321.0  Australia  \n",
       "179    2009-12-01 10:33:00       1.65     16321.0  Australia  \n",
       "180    2009-12-01 10:33:00       4.25     16321.0  Australia  \n",
       "181    2009-12-01 10:33:00       2.10     16321.0  Australia  \n",
       "182    2009-12-01 10:33:00       2.95     16321.0  Australia  \n",
       "183    2009-12-01 10:33:00       1.25     16321.0  Australia  \n",
       "184    2009-12-01 10:33:00       1.25     16321.0  Australia  \n",
       "185    2009-12-01 10:33:00       0.85     16321.0  Australia  \n",
       "186    2009-12-01 10:33:00       2.95     16321.0  Australia  \n",
       "187    2009-12-01 10:36:00       2.95     16321.0  Australia  \n",
       "188    2009-12-01 10:36:00       1.65     16321.0  Australia  \n",
       "189    2009-12-01 10:36:00       4.25     16321.0  Australia  \n",
       "190    2009-12-01 10:36:00       2.10     16321.0  Australia  \n",
       "191    2009-12-01 10:36:00       2.95     16321.0  Australia  \n",
       "192    2009-12-01 10:36:00       1.25     16321.0  Australia  \n",
       "193    2009-12-01 10:36:00       1.25     16321.0  Australia  \n",
       "194    2009-12-01 10:36:00       0.85     16321.0  Australia  \n",
       "195    2009-12-01 10:36:00       2.95     16321.0  Australia  \n",
       "135099 2010-03-23 16:01:00       1.65     16321.0  Australia  \n",
       "135100 2010-03-23 16:01:00       1.25     16321.0  Australia  "
      ]
     },
     "execution_count": 12,
     "metadata": {},
     "output_type": "execute_result"
    }
   ],
   "source": [
    "df_no_duplicate[df_no_duplicate.CustomerId == 16321.0]"
   ]
  },
  {
   "cell_type": "code",
   "execution_count": 13,
   "id": "b2d944eb",
   "metadata": {
    "id": "97e5386d"
   },
   "outputs": [],
   "source": [
    "# remove prices not bigger than zero\n",
    "df_no_missing_price = df_no_duplicate.copy()\n",
    "df_no_missing_price = df_no_missing_price[df_no_missing_price['UnitPrice'] > 0]"
   ]
  },
  {
   "cell_type": "code",
   "execution_count": 14,
   "id": "4c023d2f",
   "metadata": {},
   "outputs": [
    {
     "name": "stdout",
     "output_type": "stream",
     "text": [
      "<class 'pandas.core.frame.DataFrame'>\n",
      "Int64Index: 410732 entries, 0 to 525460\n",
      "Data columns (total 8 columns):\n",
      " #   Column         Non-Null Count   Dtype         \n",
      "---  ------         --------------   -----         \n",
      " 0   InvoiceNumber  410732 non-null  object        \n",
      " 1   ProductCode    410732 non-null  object        \n",
      " 2   ProductName    410732 non-null  object        \n",
      " 3   Quantity       410732 non-null  int64         \n",
      " 4   InvoiceDate    410732 non-null  datetime64[ns]\n",
      " 5   UnitPrice      410732 non-null  float64       \n",
      " 6   CustomerId     410732 non-null  float64       \n",
      " 7   Country        410732 non-null  object        \n",
      "dtypes: datetime64[ns](1), float64(2), int64(1), object(4)\n",
      "memory usage: 28.2+ MB\n"
     ]
    }
   ],
   "source": [
    "df_no_missing_price.info()"
   ]
  },
  {
   "cell_type": "markdown",
   "id": "6903a10f",
   "metadata": {
    "id": "8d09f90e"
   },
   "source": [
    "<h2 align=right style=\"line-height:200%;font-family:vazir;color:#0099cc\">\n",
    "<font face=\"vazir\" color=\"#0099cc\">\n",
    "قسمت چهارم\n",
    "</font>\n",
    "</h2>\n",
    "\n",
    "<p dir=rtl style=\"direction: rtl;text-align: right;line-height:200%;font-family:vazir;font-size:medium\">\n",
    "<font face=\"vazir\" size=3>      \n",
    "    محاسبه کنید چند درصد از سفارشات، در داده‌ای که از مرحله قبلی (<code>df_no_missing_price</code>) به دست آوردید، لغو شده‌اند.\n",
    "    <br>\n",
    "    چون ممکن است یک سفارش، شامل بیش از یک محصول باشد، شناسه برخی سفارش‌ها چند بار تکرار شده است. برای محاسبه درصد سفارشات لغوشده، باید هر سفارش را تنها یکبار لحاظ کنید.\n",
    "    <br>\n",
    "    مقداری که به دست آورده‌اید را رند کرده و آن را در متغیر <code>percentage_cancelled_orders</code> بریزید.\n",
    "    <br>\n",
    "    مثلا اگر ۲۹/۸۷ درصد از سفارشات لغو شده بودند، عدد ۳۰ باید در متغیر <code>percentage_cancelled_orders</code> گذاشته شود.\n",
    "    <br>\n",
    "    توجه داشته باشید که عدد ۲۹/۸۷ کاملا تصادفی ذکر شده‌است. بنابراین ممکن است عددی که در نهایت شما به‌دست می‌آورید متفاوت از آن باشد.\n",
    "</font>\n",
    "</p>"
   ]
  },
  {
   "cell_type": "code",
   "execution_count": 15,
   "id": "55c14d0d",
   "metadata": {},
   "outputs": [],
   "source": [
    "def get_negative_order_quantities(seri):\n",
    "    ordered_quant = []\n",
    "    for item in seri:\n",
    "        if np.sum(item[1]) < 0:\n",
    "            ordered_quant.append(item[1])\n",
    "    return ordered_quant"
   ]
  },
  {
   "cell_type": "code",
   "execution_count": 16,
   "id": "258e4ecd",
   "metadata": {},
   "outputs": [],
   "source": [
    "price_grouped = df_no_missing_price.groupby(\"InvoiceNumber\")['Quantity']\n",
    "price_grouped = pd.Series(price_grouped)\n",
    "\n",
    "neg_qua = get_negative_order_quantities(price_grouped)"
   ]
  },
  {
   "cell_type": "code",
   "execution_count": 17,
   "id": "b8ddc0b6",
   "metadata": {},
   "outputs": [],
   "source": [
    "count_of_returned_orders = len(neg_qua)\n",
    "count_of_orders = len(price_grouped)"
   ]
  },
  {
   "cell_type": "code",
   "execution_count": 18,
   "id": "ddf9f6d6",
   "metadata": {
    "id": "d54f4178",
    "outputId": "fa029c4a-a313-4726-a4d3-33f15cc1b59f"
   },
   "outputs": [],
   "source": [
    "# calculate the percentage of cancelled orderes\n",
    "\n",
    "percentage_cancelled_orders = np.round(count_of_returned_orders / count_of_orders * 100)"
   ]
  },
  {
   "cell_type": "markdown",
   "id": "a9a04d3c",
   "metadata": {
    "id": "386781c4"
   },
   "source": [
    "<h2 align=right style=\"line-height:200%;font-family:vazir;color:#0099cc\">\n",
    "<font face=\"vazir\" color=\"#0099cc\">\n",
    "قسمت پنچم</font>\n",
    "</h2>\n",
    "\n",
    "<p dir=rtl style=\"direction: rtl;text-align: right;line-height:200%;font-family:vazir;font-size:medium\">\n",
    "<font face=\"vazir\" size=3>  \n",
    "        شناسه‌های پنج مشتری که بیشترین تعداد دفعات سفارشات خود را لغو کرده‌اند را در قالب یک لیست (به‌ترتیب نزولی) در متغیر <code>top_cancelling_customers</code> قرار دهید. از دیتافریم <code>df_no_missing_price</code> استفاده کنید. \n",
    "        <br>\n",
    "        دقت کنید در این قسمت،<b> لازم نیست </b> هر سفارش را یکبار لحاظ کنید.\n",
    "    <br>\n",
    "    برای اینکه بتوانید شناسه ۵ مشتری با بیشترین سفارشات لغوشده را پیدا کنید، باید ابتدا شناسه آن‌ها را از <code>float</code> به <code>str</code> تبدیل کنید.\n",
    "    <br>\n",
    "    تبدیل مستقیم از <code>float</code> به <code>str</code> در این نسخه از پانداس امکان‌پذیر نیست. بنابراین ابتدا <code>float</code> را به عدد صحیح و سپس عدد صحیح را به رشته تبدیل کنید.\n",
    "</font>\n",
    "</p>"
   ]
  },
  {
   "cell_type": "code",
   "execution_count": 19,
   "id": "10397b9e",
   "metadata": {},
   "outputs": [],
   "source": [
    "df_str = df_no_missing_price.copy()\n",
    "df_str['CustomerId'] = df_str['CustomerId'].astype('int')\n",
    "df_str['CustomerId'] = df_str['CustomerId'].astype('str')\n",
    "df_no_missing_price['CustomerId'] = df_no_missing_price['CustomerId'].astype('int')\n",
    "df_no_missing_price['CustomerId'] = df_no_missing_price['CustomerId'].astype('str')"
   ]
  },
  {
   "cell_type": "code",
   "execution_count": 20,
   "id": "b5957a9c",
   "metadata": {},
   "outputs": [],
   "source": [
    "def is_cancelled(quant):\n",
    "    if quant <= 0: return True\n",
    "    return False"
   ]
  },
  {
   "cell_type": "code",
   "execution_count": 21,
   "id": "8c380608",
   "metadata": {},
   "outputs": [],
   "source": [
    "df_str['Is_Cancelled'] = df_str.Quantity.apply(is_cancelled)"
   ]
  },
  {
   "cell_type": "code",
   "execution_count": 22,
   "id": "0b8c7249",
   "metadata": {},
   "outputs": [],
   "source": [
    "df_str = df_str[df_str.Is_Cancelled == True]"
   ]
  },
  {
   "cell_type": "code",
   "execution_count": 23,
   "id": "7baee6a6",
   "metadata": {},
   "outputs": [
    {
     "data": {
      "text/html": [
       "<div>\n",
       "<style scoped>\n",
       "    .dataframe tbody tr th:only-of-type {\n",
       "        vertical-align: middle;\n",
       "    }\n",
       "\n",
       "    .dataframe tbody tr th {\n",
       "        vertical-align: top;\n",
       "    }\n",
       "\n",
       "    .dataframe thead th {\n",
       "        text-align: right;\n",
       "    }\n",
       "</style>\n",
       "<table border=\"1\" class=\"dataframe\">\n",
       "  <thead>\n",
       "    <tr style=\"text-align: right;\">\n",
       "      <th></th>\n",
       "      <th>InvoiceNumber</th>\n",
       "      <th>ProductCode</th>\n",
       "      <th>ProductName</th>\n",
       "      <th>Quantity</th>\n",
       "      <th>InvoiceDate</th>\n",
       "      <th>UnitPrice</th>\n",
       "      <th>CustomerId</th>\n",
       "      <th>Country</th>\n",
       "      <th>Is_Cancelled</th>\n",
       "    </tr>\n",
       "  </thead>\n",
       "  <tbody>\n",
       "    <tr>\n",
       "      <th>178</th>\n",
       "      <td>C489449</td>\n",
       "      <td>22087</td>\n",
       "      <td>PAPER BUNTING WHITE LACE</td>\n",
       "      <td>-12</td>\n",
       "      <td>2009-12-01 10:33:00</td>\n",
       "      <td>2.95</td>\n",
       "      <td>16321</td>\n",
       "      <td>Australia</td>\n",
       "      <td>True</td>\n",
       "    </tr>\n",
       "    <tr>\n",
       "      <th>179</th>\n",
       "      <td>C489449</td>\n",
       "      <td>85206A</td>\n",
       "      <td>CREAM FELT EASTER EGG BASKET</td>\n",
       "      <td>-6</td>\n",
       "      <td>2009-12-01 10:33:00</td>\n",
       "      <td>1.65</td>\n",
       "      <td>16321</td>\n",
       "      <td>Australia</td>\n",
       "      <td>True</td>\n",
       "    </tr>\n",
       "    <tr>\n",
       "      <th>180</th>\n",
       "      <td>C489449</td>\n",
       "      <td>21895</td>\n",
       "      <td>POTTING SHED SOW 'N' GROW SET</td>\n",
       "      <td>-4</td>\n",
       "      <td>2009-12-01 10:33:00</td>\n",
       "      <td>4.25</td>\n",
       "      <td>16321</td>\n",
       "      <td>Australia</td>\n",
       "      <td>True</td>\n",
       "    </tr>\n",
       "    <tr>\n",
       "      <th>181</th>\n",
       "      <td>C489449</td>\n",
       "      <td>21896</td>\n",
       "      <td>POTTING SHED TWINE</td>\n",
       "      <td>-6</td>\n",
       "      <td>2009-12-01 10:33:00</td>\n",
       "      <td>2.10</td>\n",
       "      <td>16321</td>\n",
       "      <td>Australia</td>\n",
       "      <td>True</td>\n",
       "    </tr>\n",
       "    <tr>\n",
       "      <th>182</th>\n",
       "      <td>C489449</td>\n",
       "      <td>22083</td>\n",
       "      <td>PAPER CHAIN KIT RETRO SPOT</td>\n",
       "      <td>-12</td>\n",
       "      <td>2009-12-01 10:33:00</td>\n",
       "      <td>2.95</td>\n",
       "      <td>16321</td>\n",
       "      <td>Australia</td>\n",
       "      <td>True</td>\n",
       "    </tr>\n",
       "    <tr>\n",
       "      <th>...</th>\n",
       "      <td>...</td>\n",
       "      <td>...</td>\n",
       "      <td>...</td>\n",
       "      <td>...</td>\n",
       "      <td>...</td>\n",
       "      <td>...</td>\n",
       "      <td>...</td>\n",
       "      <td>...</td>\n",
       "      <td>...</td>\n",
       "    </tr>\n",
       "    <tr>\n",
       "      <th>524695</th>\n",
       "      <td>C538123</td>\n",
       "      <td>22956</td>\n",
       "      <td>36 FOIL HEART CAKE CASES</td>\n",
       "      <td>-2</td>\n",
       "      <td>2010-12-09 15:41:00</td>\n",
       "      <td>2.10</td>\n",
       "      <td>12605</td>\n",
       "      <td>Germany</td>\n",
       "      <td>True</td>\n",
       "    </tr>\n",
       "    <tr>\n",
       "      <th>524696</th>\n",
       "      <td>C538124</td>\n",
       "      <td>M</td>\n",
       "      <td>Manual</td>\n",
       "      <td>-4</td>\n",
       "      <td>2010-12-09 15:43:00</td>\n",
       "      <td>0.50</td>\n",
       "      <td>15329</td>\n",
       "      <td>United Kingdom</td>\n",
       "      <td>True</td>\n",
       "    </tr>\n",
       "    <tr>\n",
       "      <th>524697</th>\n",
       "      <td>C538124</td>\n",
       "      <td>22699</td>\n",
       "      <td>ROSES REGENCY TEACUP AND SAUCER</td>\n",
       "      <td>-1</td>\n",
       "      <td>2010-12-09 15:43:00</td>\n",
       "      <td>2.95</td>\n",
       "      <td>15329</td>\n",
       "      <td>United Kingdom</td>\n",
       "      <td>True</td>\n",
       "    </tr>\n",
       "    <tr>\n",
       "      <th>524698</th>\n",
       "      <td>C538124</td>\n",
       "      <td>22423</td>\n",
       "      <td>REGENCY CAKESTAND 3 TIER</td>\n",
       "      <td>-1</td>\n",
       "      <td>2010-12-09 15:43:00</td>\n",
       "      <td>12.75</td>\n",
       "      <td>15329</td>\n",
       "      <td>United Kingdom</td>\n",
       "      <td>True</td>\n",
       "    </tr>\n",
       "    <tr>\n",
       "      <th>525282</th>\n",
       "      <td>C538164</td>\n",
       "      <td>35004B</td>\n",
       "      <td>SET OF 3 BLACK FLYING DUCKS</td>\n",
       "      <td>-1</td>\n",
       "      <td>2010-12-09 17:32:00</td>\n",
       "      <td>1.95</td>\n",
       "      <td>14031</td>\n",
       "      <td>United Kingdom</td>\n",
       "      <td>True</td>\n",
       "    </tr>\n",
       "  </tbody>\n",
       "</table>\n",
       "<p>9816 rows × 9 columns</p>\n",
       "</div>"
      ],
      "text/plain": [
       "       InvoiceNumber ProductCode                       ProductName  Quantity  \\\n",
       "178          C489449       22087          PAPER BUNTING WHITE LACE       -12   \n",
       "179          C489449      85206A      CREAM FELT EASTER EGG BASKET        -6   \n",
       "180          C489449       21895     POTTING SHED SOW 'N' GROW SET        -4   \n",
       "181          C489449       21896                POTTING SHED TWINE        -6   \n",
       "182          C489449       22083        PAPER CHAIN KIT RETRO SPOT       -12   \n",
       "...              ...         ...                               ...       ...   \n",
       "524695       C538123       22956          36 FOIL HEART CAKE CASES        -2   \n",
       "524696       C538124           M                            Manual        -4   \n",
       "524697       C538124       22699  ROSES REGENCY TEACUP AND SAUCER         -1   \n",
       "524698       C538124       22423          REGENCY CAKESTAND 3 TIER        -1   \n",
       "525282       C538164      35004B       SET OF 3 BLACK FLYING DUCKS        -1   \n",
       "\n",
       "               InvoiceDate  UnitPrice CustomerId         Country  Is_Cancelled  \n",
       "178    2009-12-01 10:33:00       2.95      16321       Australia          True  \n",
       "179    2009-12-01 10:33:00       1.65      16321       Australia          True  \n",
       "180    2009-12-01 10:33:00       4.25      16321       Australia          True  \n",
       "181    2009-12-01 10:33:00       2.10      16321       Australia          True  \n",
       "182    2009-12-01 10:33:00       2.95      16321       Australia          True  \n",
       "...                    ...        ...        ...             ...           ...  \n",
       "524695 2010-12-09 15:41:00       2.10      12605         Germany          True  \n",
       "524696 2010-12-09 15:43:00       0.50      15329  United Kingdom          True  \n",
       "524697 2010-12-09 15:43:00       2.95      15329  United Kingdom          True  \n",
       "524698 2010-12-09 15:43:00      12.75      15329  United Kingdom          True  \n",
       "525282 2010-12-09 17:32:00       1.95      14031  United Kingdom          True  \n",
       "\n",
       "[9816 rows x 9 columns]"
      ]
     },
     "execution_count": 23,
     "metadata": {},
     "output_type": "execute_result"
    }
   ],
   "source": [
    "df_str"
   ]
  },
  {
   "cell_type": "code",
   "execution_count": 24,
   "id": "7f672ecd",
   "metadata": {},
   "outputs": [],
   "source": [
    "cancelled_clients = df_str['CustomerId'].value_counts()[:5]"
   ]
  },
  {
   "cell_type": "code",
   "execution_count": 25,
   "id": "bd151887",
   "metadata": {},
   "outputs": [
    {
     "data": {
      "text/plain": [
       "15311    171\n",
       "14911    139\n",
       "17511    110\n",
       "14680    103\n",
       "13798    102\n",
       "Name: CustomerId, dtype: int64"
      ]
     },
     "execution_count": 25,
     "metadata": {},
     "output_type": "execute_result"
    }
   ],
   "source": [
    "cancelled_clients"
   ]
  },
  {
   "cell_type": "code",
   "execution_count": 26,
   "id": "bf69c9b2",
   "metadata": {
    "id": "bf2501b4",
    "outputId": "36051d24-312b-4a56-fdc7-9022c51168d4"
   },
   "outputs": [],
   "source": [
    "# calculate the top 5 cancelling customers\n",
    "\n",
    "top_cancelling_customers = cancelled_clients.index.values\n"
   ]
  },
  {
   "cell_type": "markdown",
   "id": "cd269684",
   "metadata": {
    "id": "aeb7766e"
   },
   "source": [
    "<h2 align=right style=\"line-height:200%;font-family:vazir;color:#0099cc\">\n",
    "<font face=\"vazir\" color=\"#0099cc\">\n",
    "قسمت ششم \n",
    "</font>\n",
    "</h2>\n",
    "\n",
    "<p dir=rtl style=\"direction: rtl;text-align: right;line-height:200%;font-family:vazir;font-size:medium\">\n",
    "<font face=\"vazir\" size=3>  \n",
    "در انتها، سطر‌های مربوط به سفارشات لغو شده را نیز از دیتافریم <code>df_no_missing_price</code> حذف کنید.\n",
    "<br>\n",
    "نتیجه را در دیتافریم <code>df_no_canceled_inovice</code> ذخیره کنید.\n",
    "</font>\n",
    "</p>"
   ]
  },
  {
   "cell_type": "code",
   "execution_count": 27,
   "id": "e4d2ac62",
   "metadata": {
    "id": "1888ca41"
   },
   "outputs": [],
   "source": [
    "# remove the cancelled orderes\n",
    "df_no_canceled_inovice = df_no_missing_price.copy()\n",
    "df_no_canceled_inovice = df_no_canceled_inovice[df_no_canceled_inovice.Quantity > 0]"
   ]
  },
  {
   "cell_type": "markdown",
   "id": "dbde39c0",
   "metadata": {},
   "source": [
    "<h2 align=right style=\"line-height:200%;font-family:vazir;color:#0099cc\">\n",
    "<font face=\"vazir\" color=\"#0099cc\">\n",
    "قسمت هفتم \n",
    "</font>\n",
    "</h2>\n",
    "\n",
    "<p dir=rtl style=\"direction: rtl;text-align: right;line-height:200%;font-family:vazir;font-size:medium\">\n",
    "<font face=\"vazir\" size=3>  \n",
    "    شناسه‌ سفارشات باقی‌مانده (حذف نشده) را با ساختار یک Series در متغیر <code>remaining_invoices</code> قرار بدهید.\n",
    "    <br>\n",
    "    توجه کنید که همه مقادیر موجود در متغیر <code>remaining_invoices</code> باید منحصر به فرد باشند. به عبارت بهتر، شناسه تکراری نباید در این متغیر وجود داشته باشد.\n",
    "</font>\n",
    "</p>"
   ]
  },
  {
   "cell_type": "code",
   "execution_count": 28,
   "id": "8b21f88f",
   "metadata": {
    "id": "bd1240ef"
   },
   "outputs": [],
   "source": [
    "# save the remaining invoice ids: \n",
    "\n",
    "remaining_invoices = pd.Series(df_no_canceled_inovice.InvoiceNumber.unique())"
   ]
  },
  {
   "cell_type": "markdown",
   "id": "505530f6",
   "metadata": {},
   "source": [
    "<p dir=rtl style=\"direction: rtl;text-align: right;line-height:200%;font-family:vazir;font-size:medium\">\n",
    "<font face=\"vazir\" size=3>  \n",
    "    در نهایت، با داده پردازش‌شده به گام بعدی پروژه بروید. (تمامی سوالات بعد از این سوال،‌ با استفاده از دادگان پردازش‌شده خواهند بود).\n",
    "\n",
    "<br>\n",
    "دیتافریم <code>df_no_canceled_inovice</code> را در فایل <code>preprocessed_sales.csv</code>  ذخیره می‌کنیم.\n",
    "</font>\n",
    "</p>\n"
   ]
  },
  {
   "cell_type": "code",
   "execution_count": 29,
   "id": "c64c3a7b",
   "metadata": {},
   "outputs": [],
   "source": [
    "df_no_canceled_inovice.to_csv(\"preprocessed_sales.csv\", index=False)"
   ]
  },
  {
   "cell_type": "markdown",
   "id": "0bd7779a",
   "metadata": {},
   "source": [
    "<h2 align=right style=\"line-height:200%;font-family:vazir;color:#0099cc\">\n",
    "<font face=\"vazir\" color=\"#0099cc\">\n",
    "سلول جواب‌ساز\n",
    "</font>\n",
    "</h2>"
   ]
  },
  {
   "cell_type": "code",
   "execution_count": 30,
   "id": "7ec2f811",
   "metadata": {
    "id": "92401efc",
    "outputId": "e7c7656a-9622-4e13-ab45-b14e92ce4d03"
   },
   "outputs": [
    {
     "name": "stdout",
     "output_type": "stream",
     "text": [
      "File Paths:\n",
      "['df_no_canceled_inovice', 'df_no_missing_CustomerId', 'df_no_duplicate', 'df_no_missing_price', 'percentage_cancelled_orders', 'top_cancelling_customers', 'remaining_invoices', '1_preprocessing.ipynb']\n"
     ]
    }
   ],
   "source": [
    "\n",
    "import zipfile\n",
    "import joblib\n",
    "\n",
    "joblib.dump(percentage_cancelled_orders,\"percentage_cancelled_orders\")\n",
    "joblib.dump(top_cancelling_customers,\"top_cancelling_customers\")\n",
    "joblib.dump(remaining_invoices,\"remaining_invoices\")\n",
    "joblib.dump(df_no_missing_CustomerId.head(1000),\"df_no_missing_CustomerId\")\n",
    "joblib.dump(df_no_duplicate.head(1000),\"df_no_duplicate\")\n",
    "joblib.dump(df_no_missing_price.head(1000),\"df_no_missing_price\")\n",
    "joblib.dump(df_no_canceled_inovice.head(1000),\"df_no_canceled_inovice\")\n",
    "\n",
    "def compress(file_names):\n",
    "    print(\"File Paths:\")\n",
    "    print(file_names)\n",
    "    # Select the compression mode ZIP_DEFLATED for compression\n",
    "    # or zipfile.ZIP_STORED to just store the file\n",
    "    compression = zipfile.ZIP_DEFLATED\n",
    "    # create the zip file first parameter path/name, second mode\n",
    "    with zipfile.ZipFile(\"result.zip\", mode=\"w\") as zf:\n",
    "        for file_name in file_names:\n",
    "            # Add file to the zip file\n",
    "            # first parameter file to zip, second filename in zip\n",
    "            zf.write('./' + file_name, file_name, compress_type=compression)\n",
    "\n",
    "file_names = [\"df_no_canceled_inovice\",\"df_no_missing_CustomerId\",\"df_no_duplicate\",\"df_no_missing_price\",\n",
    "              \"percentage_cancelled_orders\",\"top_cancelling_customers\", \"remaining_invoices\" ,\"1_preprocessing.ipynb\"]\n",
    "compress(file_names)"
   ]
  }
 ],
 "metadata": {
  "colab": {
   "name": "preprocessing_answers.ipynb",
   "provenance": []
  },
  "interpreter": {
   "hash": "a1a46404003b1888471f66733c8ff43ecbbd22069e04669a0d47e7a2f84d0bb4"
  },
  "kernelspec": {
   "display_name": "Python 3",
   "language": "python",
   "name": "python3"
  },
  "language_info": {
   "codemirror_mode": {
    "name": "ipython",
    "version": 3
   },
   "file_extension": ".py",
   "mimetype": "text/x-python",
   "name": "python",
   "nbconvert_exporter": "python",
   "pygments_lexer": "ipython3",
   "version": "3.8.15"
  }
 },
 "nbformat": 4,
 "nbformat_minor": 5
}
