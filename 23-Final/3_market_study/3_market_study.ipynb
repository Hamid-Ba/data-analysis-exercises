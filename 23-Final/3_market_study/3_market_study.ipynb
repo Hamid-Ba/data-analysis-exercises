{
 "cells": [
  {
   "cell_type": "markdown",
   "id": "c53c070f",
   "metadata": {
    "id": "9ec2accb"
   },
   "source": [
    "<h1 align=center style=\"line-height:200%;font-family:vazir;color:#0099cc\">\n",
    "<font face=\"vazir\" color=\"#0099cc\">\n",
    "مطالعه بازار‌های هدف\n",
    "</font>\n",
    "</h1>"
   ]
  },
  {
   "cell_type": "markdown",
   "id": "90a6bd9e",
   "metadata": {},
   "source": [
    "   \n",
    "<h2 align=right style=\"line-height:200%;font-family:vazir;color:#0099cc\">\n",
    "<font face=\"vazir\" color=\"#0099cc\">\n",
    "    کتابخانه‌ها\n",
    "</font>\n",
    "</h2>\n",
    "\n",
    "<p dir=rtl style=\"direction: rtl;text-align: right;line-height:200%;font-family:vazir;font-size:medium\">\n",
    "<font face=\"vazir\" size=3>\n",
    "       ابتدا کتاب‌خانه‌های مورد نیاز خود را اضافه کنید.    \n",
    "</font>\n",
    "</p>"
   ]
  },
  {
   "cell_type": "code",
   "execution_count": 1,
   "id": "dc013b6f",
   "metadata": {
    "id": "03fa6dc0"
   },
   "outputs": [],
   "source": [
    "# import libraries\n",
    "import numpy as np\n",
    "import pandas as pd\n",
    "import matplotlib.pyplot as plt\n",
    "import seaborn as sns"
   ]
  },
  {
   "cell_type": "markdown",
   "id": "b2f6750e",
   "metadata": {
    "id": "5967cd63"
   },
   "source": [
    "\n",
    "<h2 align=right style=\"line-height:200%;font-family:vazir;color:#0099cc\">\n",
    "<font face=\"vazir\" color=\"#0099cc\">\n",
    "    خواندن مجموعه داده\n",
    "</font>\n",
    "</h2>\n",
    "\n",
    "<p dir=rtl style=\"direction: rtl;text-align: right;line-height:200%;font-family:vazir;font-size:medium\">\n",
    "<font face=\"vazir\" size=3>\n",
    "    فایل پیش‌پردازش‌شده را بخوانید.\n",
    "</font>\n",
    "</p>"
   ]
  },
  {
   "cell_type": "code",
   "execution_count": 2,
   "id": "1365e327",
   "metadata": {
    "colab": {
     "base_uri": "https://localhost:8080/",
     "height": 289
    },
    "id": "e634fc85",
    "outputId": "53db229c-9736-46d3-eaae-34ee9c68a385",
    "scrolled": true
   },
   "outputs": [],
   "source": [
    "# read the preprocessed dataset\n",
    "df = pd.read_csv(\"./preprocessed_sales.csv\")"
   ]
  },
  {
   "cell_type": "code",
   "execution_count": 3,
   "id": "10920d9e",
   "metadata": {},
   "outputs": [
    {
     "data": {
      "text/html": [
       "<div>\n",
       "<style scoped>\n",
       "    .dataframe tbody tr th:only-of-type {\n",
       "        vertical-align: middle;\n",
       "    }\n",
       "\n",
       "    .dataframe tbody tr th {\n",
       "        vertical-align: top;\n",
       "    }\n",
       "\n",
       "    .dataframe thead th {\n",
       "        text-align: right;\n",
       "    }\n",
       "</style>\n",
       "<table border=\"1\" class=\"dataframe\">\n",
       "  <thead>\n",
       "    <tr style=\"text-align: right;\">\n",
       "      <th></th>\n",
       "      <th>InvoiceNumber</th>\n",
       "      <th>ProductCode</th>\n",
       "      <th>ProductName</th>\n",
       "      <th>Quantity</th>\n",
       "      <th>InvoiceDate</th>\n",
       "      <th>UnitPrice</th>\n",
       "      <th>CustomerId</th>\n",
       "      <th>Country</th>\n",
       "    </tr>\n",
       "  </thead>\n",
       "  <tbody>\n",
       "    <tr>\n",
       "      <th>0</th>\n",
       "      <td>489434</td>\n",
       "      <td>85048</td>\n",
       "      <td>15CM CHRISTMAS GLASS BALL 20 LIGHTS</td>\n",
       "      <td>12</td>\n",
       "      <td>2009-12-01 07:45:00</td>\n",
       "      <td>6.95</td>\n",
       "      <td>13085</td>\n",
       "      <td>United Kingdom</td>\n",
       "    </tr>\n",
       "    <tr>\n",
       "      <th>1</th>\n",
       "      <td>489434</td>\n",
       "      <td>79323P</td>\n",
       "      <td>PINK CHERRY LIGHTS</td>\n",
       "      <td>12</td>\n",
       "      <td>2009-12-01 07:45:00</td>\n",
       "      <td>6.75</td>\n",
       "      <td>13085</td>\n",
       "      <td>United Kingdom</td>\n",
       "    </tr>\n",
       "    <tr>\n",
       "      <th>2</th>\n",
       "      <td>489434</td>\n",
       "      <td>79323W</td>\n",
       "      <td>WHITE CHERRY LIGHTS</td>\n",
       "      <td>12</td>\n",
       "      <td>2009-12-01 07:45:00</td>\n",
       "      <td>6.75</td>\n",
       "      <td>13085</td>\n",
       "      <td>United Kingdom</td>\n",
       "    </tr>\n",
       "    <tr>\n",
       "      <th>3</th>\n",
       "      <td>489434</td>\n",
       "      <td>22041</td>\n",
       "      <td>RECORD FRAME 7\" SINGLE SIZE</td>\n",
       "      <td>48</td>\n",
       "      <td>2009-12-01 07:45:00</td>\n",
       "      <td>2.10</td>\n",
       "      <td>13085</td>\n",
       "      <td>United Kingdom</td>\n",
       "    </tr>\n",
       "    <tr>\n",
       "      <th>4</th>\n",
       "      <td>489434</td>\n",
       "      <td>21232</td>\n",
       "      <td>STRAWBERRY CERAMIC TRINKET BOX</td>\n",
       "      <td>24</td>\n",
       "      <td>2009-12-01 07:45:00</td>\n",
       "      <td>1.25</td>\n",
       "      <td>13085</td>\n",
       "      <td>United Kingdom</td>\n",
       "    </tr>\n",
       "  </tbody>\n",
       "</table>\n",
       "</div>"
      ],
      "text/plain": [
       "   InvoiceNumber ProductCode                          ProductName  Quantity  \\\n",
       "0         489434       85048  15CM CHRISTMAS GLASS BALL 20 LIGHTS        12   \n",
       "1         489434      79323P                   PINK CHERRY LIGHTS        12   \n",
       "2         489434      79323W                  WHITE CHERRY LIGHTS        12   \n",
       "3         489434       22041         RECORD FRAME 7\" SINGLE SIZE         48   \n",
       "4         489434       21232       STRAWBERRY CERAMIC TRINKET BOX        24   \n",
       "\n",
       "           InvoiceDate  UnitPrice  CustomerId         Country  \n",
       "0  2009-12-01 07:45:00       6.95       13085  United Kingdom  \n",
       "1  2009-12-01 07:45:00       6.75       13085  United Kingdom  \n",
       "2  2009-12-01 07:45:00       6.75       13085  United Kingdom  \n",
       "3  2009-12-01 07:45:00       2.10       13085  United Kingdom  \n",
       "4  2009-12-01 07:45:00       1.25       13085  United Kingdom  "
      ]
     },
     "execution_count": 3,
     "metadata": {},
     "output_type": "execute_result"
    }
   ],
   "source": [
    "df.head()"
   ]
  },
  {
   "cell_type": "markdown",
   "id": "6daec673",
   "metadata": {},
   "source": [
    "\n",
    "<h2 align=right style=\"line-height:200%;font-family:vazir;color:#0099cc\">\n",
    "<font face=\"vazir\" color=\"#0099cc\">\n",
    "رسم نمودار پراکندگی میزان فروش و تعداد مشتریان کشورها\n",
    "</font>\n",
    "</h2>\n",
    "\n",
    "<p dir=rtl style=\"direction: rtl;text-align: right;line-height:200%;font-family:vazir;font-size:medium\">\n",
    "<font face=\"vazir\" size=3>\n",
    "در این قسمت بر روی یک نمودار پراکندگی، کشورهای مختلف را نمایش می‌دهید تا میزان فروش و تعداد مشتریان آنها را ببینیم. همانطور که در پایین مشخص شده‌است، کشور‌ها با توجه به میزان فروش و تعداد مشتریان به ۴ گروه تقسیم می‌شوند.\n",
    "<br>\n",
    "با استفاده از چارک‌ سوم هر دو معیار، شما با ۴ گروه از کشورها روبه‌رو می‌شوید.\n",
    "<br>\n",
    "اگر میزان فروش را را SA و چارک سومش را به qSA، تعداد مشتری‌ها را CC و چارک سومش را با qCC نشان دهیم، ۴ گروه از کشورها به شکل زیر تعریف می‌شوند.\n",
    "</font>\n",
    "</p>\n",
    "\n",
    "<div dir=rtl style=\"direction: rtl;text-align: right;line-height:200%;font-family:vazir;font-size:medium\">\n",
    "    <font>\n",
    "        <ol>\n",
    "            <li>\n",
    "                کشور‌هایی که در آن‌ها SA < qSA و CC < qCC\n",
    "            </li>\n",
    "            <li>\n",
    "               کشور‌هایی که در آن‌ها SA < qSA و CC > qCC\n",
    "            </li>\n",
    "            <li>\n",
    "               کشور‌هایی که در آن‌ها SA > qSA و CC < qCC\n",
    "            </li>\n",
    "            <li>\n",
    "               کشور‌هایی که در آن‌ها SA > qSA و CC > qCC\n",
    "            </li>\n",
    "        </ol>\n",
    "  </font>\n",
    "</div>\n",
    "\n",
    "<br>\n",
    "\n",
    "<p dir=rtl style=\"direction: rtl;text-align: right;line-height:200%;font-family:vazir;font-size:medium\">\n",
    "<font face=\"vazir\" size=3>\n",
    "برای رسم نمودار باید مراحل زیر را طی کنید:\n",
    "\n",
    "<ul dir =rtl>\n",
    "  <li>\n",
    "ابتدا سفارشات مربوط به United Kingdom را حذف کنید\n",
    "</li>\n",
    "\n",
    "  <li>\n",
    "به ازای هر کشور، تعداد مشتری و میزان فروش را محاسبه کنید.</li>\n",
    "\n",
    "  <li>\n",
    "چارک سوم را برای میزان فروش و تعداد مشتری به دست آورید.</li>\n",
    "\n",
    "  <li>\n",
    "با استفاده از توضیحات بالا، کشورها را به چهار گروه تقسیم کنید.\n",
    "</li>\n",
    "  <li>\n",
    "در ادامه، با استفاده از اطلاعاتی که به دست آورده‌اید، نمودار زیر را رسم کنید.\n",
    "</li>\n",
    "</ul>\n",
    "\n",
    "</font>\n",
    "</p>\n",
    "\n",
    "<p style=\"text-align:center;\"><img src=\"output.png\"></p>"
   ]
  },
  {
   "cell_type": "markdown",
   "id": "c2cccc5f",
   "metadata": {},
   "source": [
    "\n",
    "\n",
    "<h2 dir=rtl align=right style=\"line-height:200%;font-family:vazir;color:#0099cc\">\n",
    "<font face=\"vazir\" color=\"#0099cc\">\n",
    "ویژگی‌های نمودار\n",
    "</font>\n",
    "</h2>\n",
    "\n",
    "<p dir=rtl style=\"direction: rtl;text-align: right;line-height:200%;font-family:vazir;font-size:medium\">\n",
    "<table dir=rtl align = center>\n",
    "\n",
    "<tr>\n",
    "<th><font face=\"vazir\" size=3>ویژگی</th>\n",
    "<th><font face=\"vazir\" size=3>مقدار</th>\n",
    "</tr>\n",
    "\n",
    "<tr>\n",
    "<td><font face=\"vazir\" size=3>اندازه شکل</td>\n",
    "<td><font face=\"vazir\" size=3>۱۰ در ۱۰ اینچ</td>\n",
    "</tr>\n",
    "\n",
    "<tr>\n",
    "<td><font face=\"vazir\" size=3>رنگ کشورهای گروه اول</td>\n",
    "<td><font face=\"vazir\" size=3>red</td>\n",
    "</tr>\n",
    "\n",
    "<tr>\n",
    "<td><font face=\"vazir\" size=3>رنگ کشورهای گروه دوم</td>\n",
    "<td><font face=\"vazir\" size=3>blue</td>\n",
    "</tr>\n",
    "\n",
    "<tr>\n",
    "<td><font face=\"vazir\" size=3>رنگ کشورهای گروه سوم</td>\n",
    "<td><font face=\"vazir\" size=3>green</td>\n",
    "</tr>\n",
    "\n",
    "<tr>\n",
    "<td><font face=\"vazir\" size=3>رنگ کشورهای گروه چهارم</td>\n",
    "<td><font face=\"vazir\" size=3>cyan</td>\n",
    "</tr>\n",
    "\n",
    "<tr>\n",
    "<td><font face=\"vazir\" size=3>اندازه فونت عنوان صفحه‌محور</td>\n",
    "<td><font face=\"vazir\" size=3>۱۸</td>\n",
    "</tr>\n",
    "\n",
    "<tr>\n",
    "<td><font face=\"vazir\" size=3>اندازه فونت محور افقی و عمودی</td>\n",
    "<td><font face=\"vazir\" size=3>۱۶</td>\n",
    "</tr>\n",
    "\n",
    "<tr>\n",
    "<td><font face=\"vazir\" size=3>اندازه نقاط</td>\n",
    "<td><font face=\"vazir\" size=3>۲۰</td>\n",
    "</tr>\n",
    "\n",
    "<tr>\n",
    "<td><font face=\"vazir\" size=3>استایل</td>\n",
    "<td><font face=\"vazir\" size=3>fivethirtyeight</td>\n",
    "</tr>\n",
    "\n",
    "</table>\n",
    "</p>\n",
    "\n",
    "<h2 dir = rtl align=right style=\"line-height:200%;font-family:vazir;color:#0099cc\">\n",
    "<font face=\"vazir\" color=\"#0099cc\">\n",
    "نکات مربوط به <code>legend</code>\n",
    "</font>\n",
    "</h2>\n",
    "<p dir=rtl align=right style=\"direction: rtl;text-align: right;line-height:200%;font-family:vazir;font-size:medium\">\n",
    "<font face=\"vazir\" size=3>\n",
    "<code>legend</code> این نمودار کمی با نمونه‌هایی که پیش از این دیدید فرق دارد. در اینجا، <code>legend</code> استفاده شده دارای عنوان و قاب می‌باشد. عنوان <code>legend</code> با استفاده از پارامتر  <code>title</code> انتخاب می‌شود. با <code>True</code> کردن پارامتر <code>frameon</code> قاب برای <code>legend</code> نمایش داده می‌شود.\n",
    "<br>\n",
    "برای تغییر اندازه فونت عنوان و رنگ زمینه قاب، از پارامترهای <code>title_fontsize</code> و <code>facecolor</code> استفاده کنید.\n",
    "</font>\n",
    "</p>\n",
    "\n",
    "<p dir=rtl style=\"direction: rtl;text-align: right;line-height:200%;font-family:vazir;font-size:medium\">\n",
    "<font face=\"vazir\" color=\"#0099cc\">\n",
    "ویژگی‌های <code>legend</code>\n",
    "</font>\n",
    "</p>\n",
    "\n",
    "<p dir=rtl style=\"direction: rtl;text-align: right;line-height:200%;font-family:vazir;font-size:medium\">\n",
    "<table dir=rtl align = center>\n",
    "\n",
    "<tr>\n",
    "<th><font face=\"vazir\" size=3>ویژگی</th>\n",
    "<th><font face=\"vazir\" size=3>مقدار</th>\n",
    "</tr>\n",
    "\n",
    "<tr>\n",
    "<td><font face=\"vazir\" size=3>رنگ زمینه قاب</td>\n",
    "<td><font face=\"vazir\" size=3>silver</td>\n",
    "</tr>\n",
    "\n",
    "<tr>\n",
    "<td><font face=\"vazir\" size=3>اندازه فونت عنوان</td>\n",
    "<td><font face=\"vazir\" size=3>۱۶</td>\n",
    "</tr>\n",
    "\n",
    "<tr>\n",
    "<td><font face=\"vazir\" size=3>اندازه فونت متون</td>\n",
    "<td><font face=\"vazir\" size=3>۱۴</td>\n",
    "</tr>\n",
    "\n",
    "</table>\n",
    "</p>"
   ]
  },
  {
   "cell_type": "markdown",
   "id": "ca2f5408",
   "metadata": {},
   "source": [
    "<p dir=rtl align=right style=\"direction: rtl;text-align: right;line-height:200%;font-family:vazir;font-size:medium\">\n",
    "<font face=\"vazir\" size=3>\n",
    "در انتها،‌ کشورهای فرانسه، اسپانیا و هلند را روی نقشه نمایش دهید. یعنی،‌ نام آنها را روی نقاطی که این کشورها را نشان می‌دهند، رسم کنید. موقعیت متون، همان موقعیت نقاط کشورها می‌باشد با این تفاوت که در محور عمودی، موقعیت متن‌ها نیم واحد افزایش یافته است. اندازه فونت این متن‌ها، ۱۵ می‌باشد.\n",
    "\n",
    "</font>\n",
    "</p>"
   ]
  },
  {
   "cell_type": "code",
   "execution_count": 4,
   "id": "d5c95cb2",
   "metadata": {},
   "outputs": [],
   "source": [
    "df = df[df.Country != \"United Kingdom\"]"
   ]
  },
  {
   "cell_type": "code",
   "execution_count": 5,
   "id": "5dcc47c6",
   "metadata": {},
   "outputs": [],
   "source": [
    "df[\"Price\"] = df['UnitPrice'] * df['Quantity']\n",
    "df[\"TotalPrice\"] = df.groupby('InvoiceNumber')['Price'].transform(lambda x : np.sum(x))\n",
    "df.drop_duplicates(subset=[\"InvoiceNumber\"],inplace=True)\n",
    "df.reset_index(drop=True,inplace=True)"
   ]
  },
  {
   "cell_type": "code",
   "execution_count": 6,
   "id": "5298593b",
   "metadata": {},
   "outputs": [],
   "source": [
    "def calc_count_of_customer(countries):\n",
    "    count = 0\n",
    "    for country in countries :\n",
    "        count += 1\n",
    "    return count"
   ]
  },
  {
   "cell_type": "code",
   "execution_count": 7,
   "id": "f32a4aa9",
   "metadata": {},
   "outputs": [],
   "source": [
    "sales_per_country = df.groupby([\"Country\"])[\"TotalPrice\"].sum()\n",
    "customer_per_country = df.groupby([\"Country\"])[\"CustomerId\"].unique().apply(calc_count_of_customer)\n",
    "countries = df.Country.value_counts().sort_index().index.values\n",
    "\n",
    "country_df = pd.DataFrame({\"Country\" : countries , \"Total_Sales\" : sales_per_country\n",
    "                          ,\"Customer_Count\" : customer_per_country})\n",
    "country_df.reset_index(drop=True,inplace=True)"
   ]
  },
  {
   "cell_type": "code",
   "execution_count": 8,
   "id": "b71b20c7",
   "metadata": {},
   "outputs": [],
   "source": [
    "qSA = country_df[\"Total_Sales\"].quantile(0.75)\n",
    "qCC = country_df[\"Customer_Count\"].quantile(0.75)"
   ]
  },
  {
   "cell_type": "markdown",
   "id": "9bd0b8a7",
   "metadata": {},
   "source": [
    "<p dir=rtl style=\"direction: rtl;text-align: right;line-height:200%;font-family:vazir;font-size:medium\">\n",
    "<font face=\"vazir\" size=3>\n",
    "اگر میزان فروش را را SA و چارک سومش را به qSA، تعداد مشتری‌ها را CC و چارک سومش را با qCC نشان دهیم، ۴ گروه از کشورها به شکل زیر تعریف می‌شوند.\n",
    "</font>\n",
    "</p>\n",
    "<div dir=rtl style=\"direction: rtl;text-align: right;line-height:200%;font-family:vazir;font-size:medium\">\n",
    "    <font>\n",
    "        <ol>\n",
    "            <li>\n",
    "                کشور‌هایی که در آن‌ها SA < qSA و CC < qCC\n",
    "            </li>\n",
    "            <li>\n",
    "               کشور‌هایی که در آن‌ها SA < qSA و CC > qCC\n",
    "            </li>\n",
    "            <li>\n",
    "               کشور‌هایی که در آن‌ها SA > qSA و CC < qCC\n",
    "            </li>\n",
    "            <li>\n",
    "               کشور‌هایی که در آن‌ها SA > qSA و CC > qCC\n",
    "            </li>\n",
    "        </ol>\n",
    "  </font>\n",
    "</div>"
   ]
  },
  {
   "cell_type": "code",
   "execution_count": 9,
   "id": "1d6c47c5",
   "metadata": {},
   "outputs": [],
   "source": [
    "SA = country_df[\"Total_Sales\"]\n",
    "CC = country_df[\"Customer_Count\"]\n",
    "first_gr = country_df[(SA < qSA) & (CC < qCC)]\n",
    "second_gr = country_df[(SA < qSA) & (CC > qCC)]\n",
    "third_gr = country_df[(SA > qSA) & (CC < qCC)]\n",
    "forth_gr = country_df[(SA > qSA) & (CC > qCC)]"
   ]
  },
  {
   "cell_type": "code",
   "execution_count": 10,
   "id": "9dac0e5f",
   "metadata": {},
   "outputs": [],
   "source": [
    "spain = country_df[country_df.Country == \"Spain\"]\n",
    "france = country_df[country_df.Country == \"France\"]\n",
    "netherlands = country_df[country_df.Country == \"Netherlands\"]\n",
    "\n",
    "spain_coordinate = (spain[\"Total_Sales\"].values[0], spain[\"Customer_Count\"].values[0])\n",
    "france_coordinate = (france[\"Total_Sales\"].values[0], france[\"Customer_Count\"].values[0])\n",
    "netherlands_coordinate = (netherlands[\"Total_Sales\"].values[0], netherlands[\"Customer_Count\"].values[0])"
   ]
  },
  {
   "cell_type": "code",
   "execution_count": 11,
   "id": "6408ee57",
   "metadata": {},
   "outputs": [
    {
     "data": {
      "image/png": "[encoded data removed]",
      "text/plain": [
       "<Figure size 1000x1000 with 1 Axes>"
      ]
     },
     "execution_count": 11,
     "metadata": {},
     "output_type": "execute_result"
    }
   ],
   "source": [
    "# plot\n",
    "plt.style.use(\"fivethirtyeight\")\n",
    "\n",
    "fig , ax = plt.subplots(figsize=(10,10))\n",
    "\n",
    "ax.scatter(x=first_gr[\"Total_Sales\"], y=first_gr[\"Customer_Count\"], \n",
    "           c=\"red\", s=20, label=\"Highest customer & revenue\")\n",
    "\n",
    "ax.scatter(x=second_gr[\"Total_Sales\"], y=second_gr[\"Customer_Count\"], \n",
    "           c=\"blue\", s=20, label=\"High customer & low revenue\")\n",
    "ax.scatter(x=third_gr[\"Total_Sales\"], y=third_gr[\"Customer_Count\"], \n",
    "           c=\"green\", s=20, label=\"High revenue & low customer\")\n",
    "ax.scatter(x=forth_gr[\"Total_Sales\"], y=forth_gr[\"Customer_Count\"], \n",
    "           c=\"cyan\", s=20, label=\"Low customer & revenue\")\n",
    "\n",
    "ax.set_xlabel(\"Sales amount\", fontsize=16)\n",
    "ax.set_ylabel(\"Number of customers\", fontsize=16)\n",
    "ax.set_title(\"Market Study\", fontsize=18)\n",
    "\n",
    "ax.legend(title=\"Group\" ,frameon=True, title_fontsize=16, \n",
    "          fontsize=14, facecolor=\"silver\")\n",
    "\n",
    "ax.text(spain_coordinate[0], spain_coordinate[1]+0.5, \"Spain\", fontsize=15)\n",
    "ax.text(france_coordinate[0], france_coordinate[1]+0.5, \"France\", fontsize=15)\n",
    "ax.text(netherlands_coordinate[0], netherlands_coordinate[1]+0.5, \"Netherlands\", fontsize=15)\n",
    "\n",
    "\n",
    "fig"
   ]
  },
  {
   "cell_type": "markdown",
   "id": "2cb90593",
   "metadata": {
    "id": "0faed9f7"
   },
   "source": [
    "<h2 align=right style=\"line-height:200%;font-family:vazir;color:#0099cc\">\n",
    "<font face=\"vazir\" color=\"#0099cc\">\n",
    "سلول جواب‌ساز    \n",
    "</font>\n",
    "</h2>\n"
   ]
  },
  {
   "cell_type": "code",
   "execution_count": 12,
   "id": "875124d1",
   "metadata": {
    "id": "FgRTQq_Mf9YI"
   },
   "outputs": [
    {
     "name": "stdout",
     "output_type": "stream",
     "text": [
      "File Paths:\n",
      "['fig', '3_market_study.ipynb']\n"
     ]
    }
   ],
   "source": [
    "\n",
    "import zipfile\n",
    "import joblib\n",
    "\n",
    "joblib.dump(fig,\"fig\")\n",
    "\n",
    "\n",
    "def compress(file_names):\n",
    "    print(\"File Paths:\")\n",
    "    print(file_names)\n",
    "    # Select the compression mode ZIP_DEFLATED for compression\n",
    "    # or zipfile.ZIP_STORED to just store the file\n",
    "    compression = zipfile.ZIP_DEFLATED\n",
    "    # create the zip file first parameter path/name, second mode\n",
    "    with zipfile.ZipFile(\"result.zip\", mode=\"w\") as zf:\n",
    "        for file_name in file_names:\n",
    "            # Add file to the zip file\n",
    "            # first parameter file to zip, second filename in zip\n",
    "            zf.write('./' + file_name, file_name, compress_type=compression)\n",
    "\n",
    "file_names = [\"fig\", \"3_market_study.ipynb\"]\n",
    "compress(file_names)"
   ]
  }
 ],
 "metadata": {
  "colab": {
   "collapsed_sections": [],
   "name": "market_study_answers.ipynb",
   "provenance": []
  },
  "interpreter": {
   "hash": "a1a46404003b1888471f66733c8ff43ecbbd22069e04669a0d47e7a2f84d0bb4"
  },
  "kernelspec": {
   "display_name": "Python 3",
   "language": "python",
   "name": "python3"
  },
  "language_info": {
   "codemirror_mode": {
    "name": "ipython",
    "version": 3
   },
   "file_extension": ".py",
   "mimetype": "text/x-python",
   "name": "python",
   "nbconvert_exporter": "python",
   "pygments_lexer": "ipython3",
   "version": "3.8.15"
  }
 },
 "nbformat": 4,
 "nbformat_minor": 5
}
