{
 "cells": [
  {
   "cell_type": "markdown",
   "metadata": {
    "id": "ddU9LZWUEiAd"
   },
   "source": [
    "<div dir=rtl style=\"direction:rtl;line-height:300%;\">\n",
    "\t<font face=\"XB Zar\" size=5>\n",
    "\t\t<div align=center>\n",
    "\t\t\t<font face=\"vazir\" size=5>\n",
    "                «قشر کتابخوان»\n",
    "\t\t\t</font>\n",
    "\t\t</div>\n",
    "    </font>\n",
    "</div>"
   ]
  },
  {
   "cell_type": "markdown",
   "metadata": {
    "tags": []
   },
   "source": [
    "<br />\n",
    "<div dir=rtl id=\"start\" style=\"direction:rtl;line-height:200%;\">\n",
    "\t<font face=\"vazir\" size=4>\n",
    "        صابر بعد از این که دید همه‌ی دوستاش کتاب می‌خونن و در مورد اونا صحبت می‌کنن، تصمیم گرفت خودش هم چند تا کتاب بخونه تا حرفی برای گفتن داشته باشه.\n",
    "        <br>\n",
    "        از اون جایی که صابر خودش نمی‌دانست کدام کتاب‌ها بهتر هستند تصمیم گرفت تمام اطلاعات سایت goodreads را دانلود کرده و از شما بخواهد آن‌ها را تحلیل کنید.        \n",
    "    </font>\n",
    "</div>"
   ]
  },
  {
   "cell_type": "code",
   "execution_count": 267,
   "metadata": {},
   "outputs": [],
   "source": [
    "import pandas as pd\n",
    "import numpy as np"
   ]
  },
  {
   "cell_type": "markdown",
   "metadata": {},
   "source": [
    "\n",
    "<br />\n",
    "<div dir=rtl id=\"start\" style=\"direction:rtl;line-height:200%;\">\n",
    "\t<font face=\"vazir\" size=4>\n",
    "        برای کمک به صابر ابتدا ۴ دیتاست موجود در فایل زیپ را لود کنید و در متغیر‌های زیر بریزید\n",
    "    </font>\n",
    "</div>"
   ]
  },
  {
   "cell_type": "code",
   "execution_count": 268,
   "metadata": {},
   "outputs": [
    {
     "data": {
      "text/html": [
       "<div>\n",
       "<style scoped>\n",
       "    .dataframe tbody tr th:only-of-type {\n",
       "        vertical-align: middle;\n",
       "    }\n",
       "\n",
       "    .dataframe tbody tr th {\n",
       "        vertical-align: top;\n",
       "    }\n",
       "\n",
       "    .dataframe thead th {\n",
       "        text-align: right;\n",
       "    }\n",
       "</style>\n",
       "<table border=\"1\" class=\"dataframe\">\n",
       "  <thead>\n",
       "    <tr style=\"text-align: right;\">\n",
       "      <th></th>\n",
       "      <th>bookID</th>\n",
       "      <th>title</th>\n",
       "      <th>average_rating</th>\n",
       "      <th>isbn</th>\n",
       "      <th>isbn13</th>\n",
       "      <th>num_pages</th>\n",
       "      <th>ratings_count</th>\n",
       "      <th>text_reviews_count</th>\n",
       "      <th>publication_date</th>\n",
       "      <th>author_id</th>\n",
       "      <th>lang_id</th>\n",
       "      <th>publisher_id</th>\n",
       "    </tr>\n",
       "  </thead>\n",
       "  <tbody>\n",
       "    <tr>\n",
       "      <th>0</th>\n",
       "      <td>1</td>\n",
       "      <td>Harry Potter and the Half-Blood Prince (Harry ...</td>\n",
       "      <td>4.57</td>\n",
       "      <td>439785960</td>\n",
       "      <td>9.780440e+12</td>\n",
       "      <td>652</td>\n",
       "      <td>2095690</td>\n",
       "      <td>27591</td>\n",
       "      <td>9/16/2006</td>\n",
       "      <td>0</td>\n",
       "      <td>0</td>\n",
       "      <td>0</td>\n",
       "    </tr>\n",
       "    <tr>\n",
       "      <th>1</th>\n",
       "      <td>2</td>\n",
       "      <td>Harry Potter and the Order of the Phoenix (Har...</td>\n",
       "      <td>4.49</td>\n",
       "      <td>439358078</td>\n",
       "      <td>9.780440e+12</td>\n",
       "      <td>870</td>\n",
       "      <td>2153167</td>\n",
       "      <td>29221</td>\n",
       "      <td>9/1/2004</td>\n",
       "      <td>0</td>\n",
       "      <td>0</td>\n",
       "      <td>0</td>\n",
       "    </tr>\n",
       "    <tr>\n",
       "      <th>2</th>\n",
       "      <td>4</td>\n",
       "      <td>Harry Potter and the Chamber of Secrets (Harry...</td>\n",
       "      <td>4.42</td>\n",
       "      <td>439554896</td>\n",
       "      <td>9.780440e+12</td>\n",
       "      <td>352</td>\n",
       "      <td>6333</td>\n",
       "      <td>244</td>\n",
       "      <td>11/1/2003</td>\n",
       "      <td>0</td>\n",
       "      <td>0</td>\n",
       "      <td>1</td>\n",
       "    </tr>\n",
       "    <tr>\n",
       "      <th>3</th>\n",
       "      <td>5</td>\n",
       "      <td>Harry Potter and the Prisoner of Azkaban (Harr...</td>\n",
       "      <td>4.56</td>\n",
       "      <td>043965548X</td>\n",
       "      <td>9.780440e+12</td>\n",
       "      <td>435</td>\n",
       "      <td>2339585</td>\n",
       "      <td>36325</td>\n",
       "      <td>5/1/2004</td>\n",
       "      <td>0</td>\n",
       "      <td>0</td>\n",
       "      <td>0</td>\n",
       "    </tr>\n",
       "    <tr>\n",
       "      <th>4</th>\n",
       "      <td>8</td>\n",
       "      <td>Harry Potter Boxed Set  Books 1-5 (Harry Potte...</td>\n",
       "      <td>4.78</td>\n",
       "      <td>439682584</td>\n",
       "      <td>9.780440e+12</td>\n",
       "      <td>2690</td>\n",
       "      <td>41428</td>\n",
       "      <td>164</td>\n",
       "      <td>9/13/2004</td>\n",
       "      <td>0</td>\n",
       "      <td>0</td>\n",
       "      <td>1</td>\n",
       "    </tr>\n",
       "  </tbody>\n",
       "</table>\n",
       "</div>"
      ],
      "text/plain": [
       "   bookID                                              title  average_rating  \\\n",
       "0       1  Harry Potter and the Half-Blood Prince (Harry ...            4.57   \n",
       "1       2  Harry Potter and the Order of the Phoenix (Har...            4.49   \n",
       "2       4  Harry Potter and the Chamber of Secrets (Harry...            4.42   \n",
       "3       5  Harry Potter and the Prisoner of Azkaban (Harr...            4.56   \n",
       "4       8  Harry Potter Boxed Set  Books 1-5 (Harry Potte...            4.78   \n",
       "\n",
       "         isbn        isbn13  num_pages  ratings_count  text_reviews_count  \\\n",
       "0   439785960  9.780440e+12        652        2095690               27591   \n",
       "1   439358078  9.780440e+12        870        2153167               29221   \n",
       "2   439554896  9.780440e+12        352           6333                 244   \n",
       "3  043965548X  9.780440e+12        435        2339585               36325   \n",
       "4   439682584  9.780440e+12       2690          41428                 164   \n",
       "\n",
       "  publication_date  author_id  lang_id  publisher_id  \n",
       "0        9/16/2006          0        0             0  \n",
       "1         9/1/2004          0        0             0  \n",
       "2        11/1/2003          0        0             1  \n",
       "3         5/1/2004          0        0             0  \n",
       "4        9/13/2004          0        0             1  "
      ]
     },
     "execution_count": 268,
     "metadata": {},
     "output_type": "execute_result"
    }
   ],
   "source": [
    "df = pd.read_csv('./books_db.csv')\n",
    "authors = pd.read_csv('./authors.csv')\n",
    "language = pd.read_csv('./language.csv')\n",
    "publisher = pd.read_csv('./publisher.csv')\n",
    "df.head()"
   ]
  },
  {
   "cell_type": "markdown",
   "metadata": {},
   "source": [
    "\n",
    "<br />\n",
    "<div dir=rtl id=\"start\" style=\"direction:rtl;line-height:200%;\">\n",
    "\t<font face=\"vazir\" size=4>\n",
    "        همان‌طور که می‌بینید در دیتاست اصلی (کتاب)، سه متغیر author, lang و publisher تنها به صورت id هستند\n",
    "        <br>\n",
    "        برای استفاده بهتر از کل اطلاعات، سه دیتابیس دیگر را با توجه به شماره نمایه‌ی آن‌ها به این دیتابیس اضافه کنید\n",
    "    </font>\n",
    "</div>"
   ]
  },
  {
   "cell_type": "code",
   "execution_count": 269,
   "metadata": {},
   "outputs": [],
   "source": [
    "#todo: about 3 lines\n",
    "df = pd.merge(df,authors,left_on='author_id',right_index=True,sort=True)\n",
    "df = pd.merge(df,language,left_on='lang_id',right_index=True,sort=True)\n",
    "df = pd.merge(df,publisher,left_on='publisher_id',right_index=True,sort=True)"
   ]
  },
  {
   "cell_type": "code",
   "execution_count": 270,
   "metadata": {},
   "outputs": [],
   "source": [
    "df.sort_index(inplace=True)"
   ]
  },
  {
   "cell_type": "markdown",
   "metadata": {},
   "source": [
    "\n",
    "<br />\n",
    "<div dir=rtl id=\"start\" style=\"direction:rtl;line-height:200%;\">\n",
    "\t<font face=\"vazir\" size=4>\n",
    "        حال که تمام مقادیر اضافه شده‌اند، نیازی به سه ستون id که به عنوان کلید استفاده کردیم نداریم پس آن‌ها را با استفاده از دستور drop حذف می‌کنیم.\n",
    "        <br>\n",
    "        * در فصل بعد نحوه‌ی کار با این دستور را یاد می‌گیرید.\n",
    "    </font>\n",
    "</div>"
   ]
  },
  {
   "cell_type": "code",
   "execution_count": 271,
   "metadata": {},
   "outputs": [],
   "source": [
    "df.drop(columns = ['author_id', 'lang_id', 'publisher_id'], inplace = True)"
   ]
  },
  {
   "cell_type": "markdown",
   "metadata": {},
   "source": [
    "\n",
    "<br />\n",
    "<div dir=rtl id=\"start\" style=\"direction:rtl;line-height:200%;\">\n",
    "\t<font face=\"vazir\" size=4>\n",
    "        نام ستون‌ها را طوری تغییر دهید که جدول نهایی چیزی شبیه به جدول زیر باشد:\n",
    "    </font>\n",
    "</div>\n",
    "\n"
   ]
  },
  {
   "cell_type": "markdown",
   "metadata": {},
   "source": [
    "<table border=\"1\" class=\"dataframe\">\n",
    "       <thead>\n",
    "         <tr style=\"text-align: right;\">\n",
    "           <th></th>\n",
    "           <th>bookID</th>\n",
    "           <th>title</th>\n",
    "           <th>average_rating</th>\n",
    "           <th>isbn</th>\n",
    "           <th>isbn13</th>\n",
    "           <th>num_pages</th>\n",
    "           <th>ratings_count</th>\n",
    "           <th>text_reviews_count</th>\n",
    "           <th>publication_date</th>\n",
    "           <th>author</th>\n",
    "           <th>lang</th>\n",
    "           <th>publisher</th>\n",
    "         </tr>\n",
    "       </thead>\n",
    "       <tbody>\n",
    "         <tr>\n",
    "           <th>0</th>\n",
    "           <td>1</td>\n",
    "           <td>Harry Potter and the Half-Blood Prince (Harry ...</td>\n",
    "           <td>4.57</td>\n",
    "           <td>439785960</td>\n",
    "           <td>9.780440e+12</td>\n",
    "           <td>652</td>\n",
    "           <td>2095690</td>\n",
    "           <td>27591</td>\n",
    "           <td>9/16/2006</td>\n",
    "           <td>J.K. Rowling</td>\n",
    "           <td>eng</td>\n",
    "           <td>Scholastic Inc.</td>\n",
    "           </tr>\n",
    "    </tbody>\n",
    "    </table>\n",
    "           "
   ]
  },
  {
   "cell_type": "code",
   "execution_count": 272,
   "metadata": {},
   "outputs": [],
   "source": [
    "df.rename(columns={'name_x' : 'author' , 'code' : 'lang' , 'name_y' : 'publisher'},inplace=True)"
   ]
  },
  {
   "cell_type": "markdown",
   "metadata": {},
   "source": [
    "\n",
    "<br />\n",
    "<div dir=rtl id=\"start\" style=\"direction:rtl;line-height:200%;\">\n",
    "\t<font face=\"vazir\" size=4>\n",
    "        صابر اول از همه می‌خواد یک انتشاراتی رو انتخاب کنه تا بره کتاباشو از اون‌جا بخره برای این کار احتیاج داره میانگین امتیاز هرکدوم از انتشاراتی‌ها رو بدونه تا بتونه بهترین ها رو فقط انتخاب کنه.\n",
    "        <br>\n",
    "        برای کمک به صابر، میانگین امتیاز کتاب‌های هر انتشاراتی را حساب کرده و در متغیر زیر بر حسب نام انتشاراتی ذخیره کنید.\n",
    "    </font>\n",
    "</div>\n",
    "\n"
   ]
  },
  {
   "cell_type": "code",
   "execution_count": 273,
   "metadata": {},
   "outputs": [
    {
     "data": {
      "text/plain": [
       "publisher\n",
       "18-Oct                           3.650000\n",
       "1st Book Library                 3.580000\n",
       "1st World Library                4.180000\n",
       "A & C Black (Childrens books)    4.400000\n",
       "A Harvest Book/Harcourt  Inc.    4.070000\n",
       "                                   ...   \n",
       "聯經出版事業股份有限公司                     4.400000\n",
       "英文漢聲出版股份有限公司                     4.220000\n",
       "角川書店 (Kadokawa Shoten)           3.815000\n",
       "講談社                              4.283333\n",
       "集英社                              4.237500\n",
       "Name: average_rating, Length: 2290, dtype: float64"
      ]
     },
     "execution_count": 273,
     "metadata": {},
     "output_type": "execute_result"
    }
   ],
   "source": [
    "publisher_rating = df.groupby('publisher')['average_rating'].mean()\n",
    "publisher_rating"
   ]
  },
  {
   "cell_type": "markdown",
   "metadata": {},
   "source": [
    "\n",
    "<br />\n",
    "<div dir=rtl id=\"start\" style=\"direction:rtl;line-height:200%;\">\n",
    "\t<font face=\"vazir\" size=4>\n",
    "        صابر بعد از این که نگاهی به لیست انتشاراتی‌هایی که برایش انتخاب کرده بودید انداخت به این نتیجه رسید حوصله خوندن این همه کتاب رو نداره و بهتره فقط چند تا اطلاعات کلی در مورد هر نویسنده و انتشاراتی داشته باشه و اونا رو طوری جلوی دوستاش بگه که انگار همشونو خونده!\n",
    "        <br>\n",
    "        برای اولین قدم اون می‌خواد بدونه هر نویسنده چند کتاب با تعداد صفحات مشخصی نوشته. چیزی شبیه به جدول زیر:\n",
    "        <br>\n",
    "    </font>\n",
    "</div>\n"
   ]
  },
  {
   "cell_type": "raw",
   "metadata": {},
   "source": [
    "A.B. Yehoshua          250-499          1\n",
    "                       500-749          1\n",
    "A.D.P. Briggs          250-499          1\n",
    "A.E. Cunningham        <250             1\n",
    "A.J. Jacobs            250-499          1"
   ]
  },
  {
   "cell_type": "markdown",
   "metadata": {},
   "source": [
    "\n",
    "<br />\n",
    "<div dir=rtl id=\"start\" style=\"direction:rtl;line-height:200%;\">\n",
    "\t<font face=\"vazir\" size=4>\n",
    "      برای این کار ابتدا ستونی با نام num_pages_grp به دیتا فریم اضافه کنید که در آن تعداد صفحات کتاب را به صورت گسسته و در بازه‌های زیر نشان دهد.\n",
    "    </font>\n",
    "</div>\n",
    "<250<br>\n",
    "250-499<br>\n",
    "500-749<br>\n",
    "750-999<br>\n",
    ">=1000<br>\n",
    "\n",
    "<div dir=rtl id=\"start\" style=\"direction:rtl;line-height:200%;\">\n",
    "\t<font face=\"vazir\" size=4>\n",
    "      راهنمایی: از تابع np.select استفاده کنید.\n",
    "    </font>\n",
    "</div>"
   ]
  },
  {
   "cell_type": "code",
   "execution_count": 274,
   "metadata": {},
   "outputs": [],
   "source": [
    "def group_pages(pages):\n",
    "    pages = int(pages)\n",
    "    if pages < 250 : return '<250'\n",
    "    elif 250<=pages<500 : return '250-499'\n",
    "    elif 500<=pages<750 : return '500-749'\n",
    "    elif 750<=pages<1000 : return '750-999'\n",
    "    else : return '>=1000'"
   ]
  },
  {
   "cell_type": "code",
   "execution_count": 275,
   "metadata": {},
   "outputs": [],
   "source": [
    "df['num_pages_grp']= df['num_pages'].apply(lambda num : group_pages(num))"
   ]
  },
  {
   "cell_type": "code",
   "execution_count": 276,
   "metadata": {},
   "outputs": [
    {
     "data": {
      "text/html": [
       "<div>\n",
       "<style scoped>\n",
       "    .dataframe tbody tr th:only-of-type {\n",
       "        vertical-align: middle;\n",
       "    }\n",
       "\n",
       "    .dataframe tbody tr th {\n",
       "        vertical-align: top;\n",
       "    }\n",
       "\n",
       "    .dataframe thead th {\n",
       "        text-align: right;\n",
       "    }\n",
       "</style>\n",
       "<table border=\"1\" class=\"dataframe\">\n",
       "  <thead>\n",
       "    <tr style=\"text-align: right;\">\n",
       "      <th></th>\n",
       "      <th>bookID</th>\n",
       "      <th>title</th>\n",
       "      <th>average_rating</th>\n",
       "      <th>isbn</th>\n",
       "      <th>isbn13</th>\n",
       "      <th>num_pages</th>\n",
       "      <th>ratings_count</th>\n",
       "      <th>text_reviews_count</th>\n",
       "      <th>publication_date</th>\n",
       "      <th>author</th>\n",
       "      <th>lang</th>\n",
       "      <th>publisher</th>\n",
       "      <th>num_pages_grp</th>\n",
       "    </tr>\n",
       "  </thead>\n",
       "  <tbody>\n",
       "    <tr>\n",
       "      <th>0</th>\n",
       "      <td>1</td>\n",
       "      <td>Harry Potter and the Half-Blood Prince (Harry ...</td>\n",
       "      <td>4.57</td>\n",
       "      <td>439785960</td>\n",
       "      <td>9.780440e+12</td>\n",
       "      <td>652</td>\n",
       "      <td>2095690</td>\n",
       "      <td>27591</td>\n",
       "      <td>9/16/2006</td>\n",
       "      <td>J.K. Rowling</td>\n",
       "      <td>eng</td>\n",
       "      <td>Scholastic Inc.</td>\n",
       "      <td>500-749</td>\n",
       "    </tr>\n",
       "    <tr>\n",
       "      <th>1</th>\n",
       "      <td>2</td>\n",
       "      <td>Harry Potter and the Order of the Phoenix (Har...</td>\n",
       "      <td>4.49</td>\n",
       "      <td>439358078</td>\n",
       "      <td>9.780440e+12</td>\n",
       "      <td>870</td>\n",
       "      <td>2153167</td>\n",
       "      <td>29221</td>\n",
       "      <td>9/1/2004</td>\n",
       "      <td>J.K. Rowling</td>\n",
       "      <td>eng</td>\n",
       "      <td>Scholastic Inc.</td>\n",
       "      <td>750-999</td>\n",
       "    </tr>\n",
       "  </tbody>\n",
       "</table>\n",
       "</div>"
      ],
      "text/plain": [
       "   bookID                                              title  average_rating  \\\n",
       "0       1  Harry Potter and the Half-Blood Prince (Harry ...            4.57   \n",
       "1       2  Harry Potter and the Order of the Phoenix (Har...            4.49   \n",
       "\n",
       "        isbn        isbn13  num_pages  ratings_count  text_reviews_count  \\\n",
       "0  439785960  9.780440e+12        652        2095690               27591   \n",
       "1  439358078  9.780440e+12        870        2153167               29221   \n",
       "\n",
       "  publication_date        author lang        publisher num_pages_grp  \n",
       "0        9/16/2006  J.K. Rowling  eng  Scholastic Inc.       500-749  \n",
       "1         9/1/2004  J.K. Rowling  eng  Scholastic Inc.       750-999  "
      ]
     },
     "execution_count": 276,
     "metadata": {},
     "output_type": "execute_result"
    }
   ],
   "source": [
    "df.head(2)"
   ]
  },
  {
   "cell_type": "markdown",
   "metadata": {},
   "source": [
    "<br />\n",
    "<div dir=rtl id=\"start\" style=\"direction:rtl;line-height:200%;\">\n",
    "\t<font face=\"vazir\" size=4>\n",
    "      مانند جدولی که نشان داده‌شد، تعداد کتاب‌های هر نویسنده برحسب صفحات کتاب را مشخص کنید.\n",
    "    </font>\n",
    "</div>"
   ]
  },
  {
   "cell_type": "code",
   "execution_count": 277,
   "metadata": {},
   "outputs": [],
   "source": [
    "author_page = df.groupby(['author','num_pages_grp'])['num_pages_grp'].agg(['count'])"
   ]
  },
  {
   "cell_type": "markdown",
   "metadata": {},
   "source": [
    "<br />\n",
    "<div dir=rtl id=\"start\" style=\"direction:rtl;line-height:200%;\">\n",
    "\t<font face=\"vazir\" size=4>\n",
    "    تبریک!\n",
    "        <br>\n",
    "        شما با موفقیت به پایان فصل پانداس رسیدید و توانستید به صابر برای کتاب‌خوان شدن کمک کنید.\n",
    "    </font>\n",
    "</div>"
   ]
  },
  {
   "cell_type": "markdown",
   "metadata": {},
   "source": [
    "<br />\n",
    "<div dir=rtl id=\"start\" style=\"direction:rtl;line-height:200%;\">\n",
    "\t<font face=\"vazir\" size=4>\n",
    "        در نهایت برای اطمینان از درست بودن پاسخ‌های خود، کد زیر را اجرا کرده و فایل result.zip را برای داوری ارسال کنید.\n",
    "    </font>\n",
    "</div>"
   ]
  },
  {
   "cell_type": "code",
   "execution_count": 278,
   "metadata": {},
   "outputs": [
    {
     "name": "stdout",
     "output_type": "stream",
     "text": [
      "File Paths:\n",
      "['books_result.csv', 'excersize 3.ipynb', 'publisher_rating.csv', 'author_page.csv']\n"
     ]
    }
   ],
   "source": [
    "import zlib\n",
    "import zipfile\n",
    "\n",
    "\n",
    "def compress(file_names):\n",
    "    print(\"File Paths:\")\n",
    "    print(file_names)\n",
    "    compression = zipfile.ZIP_DEFLATED\n",
    "    with zipfile.ZipFile(\"result.zip\", mode=\"w\") as zf:\n",
    "        for file_name in file_names:\n",
    "            zf.write('./' + file_name, file_name, compress_type=compression)\n",
    "\n",
    "\n",
    "df.to_csv('books_result.csv',index = False)\n",
    "publisher_rating.to_csv('publisher_rating.csv',index = True)\n",
    "author_page.to_csv(\"author_page.csv\", index = True)\n",
    "\n",
    "file_names = [\"books_result.csv\", \"excersize 3.ipynb\",\"publisher_rating.csv\",\"author_page.csv\"]\n",
    "compress(file_names)"
   ]
  },
  {
   "cell_type": "markdown",
   "metadata": {
    "id": "YWBTRJvqdG_u"
   },
   "source": [
    "\n",
    "<br />\n",
    "<div dir=rtl id=\"start\" style=\"direction:rtl;line-height:200%;\">\n",
    "\t<font face=\"vazir\" size\n",
    "        سلاموری ارسال کنید.\n",
    "  </p>\n",
    "</div>"
   ]
  }
 ],
 "metadata": {
  "colab": {
   "collapsed_sections": [],
   "name": "exercise1.ipynb",
   "provenance": []
  },
  "kernelspec": {
   "display_name": "Python 3",
   "language": "python",
   "name": "python3"
  },
  "language_info": {
   "codemirror_mode": {
    "name": "ipython",
    "version": 3
   },
   "file_extension": ".py",
   "mimetype": "text/x-python",
   "name": "python",
   "nbconvert_exporter": "python",
   "pygments_lexer": "ipython3",
   "version": "3.8.15"
  }
 },
 "nbformat": 4,
 "nbformat_minor": 4
}
