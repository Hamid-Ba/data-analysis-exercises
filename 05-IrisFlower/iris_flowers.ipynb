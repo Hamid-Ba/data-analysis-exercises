{
 "cells": [
  {
   "cell_type": "markdown",
   "id": "acc137fd",
   "metadata": {},
   "source": [
    "<h1 align=center style=\"line-height:200%;font-family:vazir;color:#0099cc\">\n",
    "<font face=\"vazir\" color=\"#0099cc\">\n",
    "گل‌های زنبق\n",
    "</font>\n",
    "</h1>"
   ]
  },
  {
   "cell_type": "markdown",
   "id": "267e3517",
   "metadata": {},
   "source": [
    "<h2 align=right style=\"line-height:200%;font-family:vazir;color:#0099cc\">\n",
    "<font face=\"vazir\" color=\"#0099cc\">\n",
    "بخش اول - بارگیری داده\n",
    "</font>\n",
    "</h2>"
   ]
  },
  {
   "cell_type": "markdown",
   "id": "813662f2",
   "metadata": {},
   "source": [
    "<p dir=rtl style=\"direction: rtl;text-align: right;line-height:200%;font-family:vazir;font-size:medium\">\n",
    "<font face=\"vazir\" size=3>\n",
    "ابتدا آرایه‌های مورد نیازمان را بارگیری می‌کنیم. هم‌چنین تعداد نمونه‌های آموزش را <code>n</code> و تعداد نمونه‌های آزمون را <code>m</code> می‌نامیم. \n",
    "</font>\n",
    "</p>"
   ]
  },
  {
   "cell_type": "code",
   "execution_count": 2,
   "id": "cece44e9",
   "metadata": {},
   "outputs": [
    {
     "name": "stdout",
     "output_type": "stream",
     "text": [
      "(120, 4)\n",
      "(120,)\n",
      "(30, 4)\n"
     ]
    }
   ],
   "source": [
    "import numpy as np\n",
    "# شامل مشخصات گل‌های زنبق\n",
    "irises = np.load('irises.npy')\n",
    "# شامل شناسه نوع گل زنبق\n",
    "types = np.load('types.npy')\n",
    "# شامل مشخصات گل‌های زنبق جدید\n",
    "new_irises = np.load('new_irises.npy')\n",
    "print(irises.shape)\n",
    "print(types.shape)\n",
    "print(new_irises.shape)\n",
    "n, m = len(irises), len(new_irises)"
   ]
  },
  {
   "cell_type": "markdown",
   "id": "67d7529f",
   "metadata": {},
   "source": [
    "<h2 align=right style=\"line-height:200%;font-family:vazir;color:#0099cc\">\n",
    "<font face=\"vazir\" color=\"#0099cc\">\n",
    "بخش دوم - محاسبه فاصله‌ها\n",
    "</font>\n",
    "</h2>"
   ]
  },
  {
   "cell_type": "markdown",
   "id": "3cf3695a",
   "metadata": {},
   "source": [
    "<p dir=rtl style=\"direction: rtl;text-align: right;line-height:200%;font-family:vazir;font-size:medium\">\n",
    "<font face=\"vazir\" size=3>\n",
    "    برای تعیین نوع هر کدام از گل‌های زنبق، آرایه <code>new_irises</code> با روش «$k$ نزدیک‌ترین همسایه»، باید فاصله آن را با تک تک گل‌های آرایه <code>irises</code> محاسبه کنیم. بدین منظور سه رویکرد مختلف را آزمایش خواهیم کرد.\n",
    "    <br>\n",
    "ابتدا با کمک دو حلقه در تابع <code>calc_two_loops</code>، مجذور فاصله‌ها را محاسبه کرده و برمی‌گردانیم. برای این منظور کافیست عبارتی را جلوی تساوی قرار دهید که برابر با مجذور فاصله دو نقطه <code>new_points[i]</code> و <code>points[j]</code> است (چون جذر گرفتن تاثیری بر فاصله نسبی نقطه‌ها ندارد، به مجذور فاصله اکتفا می‌کنیم). روش‌های مختلفی برای این کار وجود دارد اما پیشنهاد می‌کنیم از توابع مجذور و مجموع نامپای در این بخش استفاده کنید.\n",
    "</font>\n",
    "</p>"
   ]
  },
  {
   "cell_type": "code",
   "execution_count": 28,
   "id": "39b745a5",
   "metadata": {},
   "outputs": [],
   "source": [
    "def calc_two_loops(new_points, points):\n",
    "    m, n = len(new_points), len(points)\n",
    "    d = np.zeros((m, n))\n",
    "    for i in range(m):\n",
    "        for j in range(n):\n",
    "            d[i, j] =  np.sum(np.square(new_irises[i] - irises[j]))\n",
    "    return d"
   ]
  },
  {
   "cell_type": "markdown",
   "id": "0a51f012",
   "metadata": {},
   "source": [
    "<p dir=rtl style=\"direction: rtl;text-align: right;line-height:200%;font-family:vazir;font-size:medium\">\n",
    "<font face=\"vazir\" size=3>\n",
    "در ادامه، همین کار را به کمک یک حلقه در تابع <code>calc_one_loop</code> انجام می‌دهیم. این بار جلوی تساوی، عبارتی را بنویسید که سطر <code>i</code>ام آرایه مجذور فاصله‌ها را نتیجه دهد.\n",
    "</font>\n",
    "</p>"
   ]
  },
  {
   "cell_type": "code",
   "execution_count": 41,
   "id": "c2527d8c",
   "metadata": {},
   "outputs": [
    {
     "name": "stdout",
     "output_type": "stream",
     "text": [
      "(120, 4)\n",
      "(30, 4)\n",
      "[5.  3.6 1.4 0.2]\n",
      "[25.   12.96  1.96  0.04]\n"
     ]
    }
   ],
   "source": [
    "# np.sum(np.square(new_irises[i] - irises.sum()))\n",
    "print(irises.shape)\n",
    "print(new_irises.shape)\n",
    "\n",
    "print(new_irises[0])\n",
    "print(new_irises[0] ** 2)"
   ]
  },
  {
   "cell_type": "code",
   "execution_count": 32,
   "id": "021a9f1c",
   "metadata": {},
   "outputs": [],
   "source": [
    "def calc_one_loop(new_points, points):\n",
    "    m, n = len(new_points), len(points)    \n",
    "    d = np.zeros((m, n))\n",
    "    for i in range(m):\n",
    "        d[i] = np.sum(np.square(new_irises[i] - irises[i]))\n",
    "    return d"
   ]
  },
  {
   "cell_type": "markdown",
   "id": "c3353550",
   "metadata": {},
   "source": [
    "<p dir=rtl style=\"direction: rtl;text-align: right;line-height:200%;font-family:vazir;font-size:medium\">\n",
    "<font face=\"vazir\" size=3>\n",
    "        در نهایت همین کار را بدون حلقه در تابع <code>calc_no_loop</code> انجام می‌دهیم. این بار جلوی <code>return</code>، عبارتی را در یک خط بنویسید که حاصل آن کل آرایه مجذور فاصله‌ها باشد!\n",
    "        <br>\n",
    "    <b>راهنمایی ۱:</b> در این بخش و بخش پیشین باید از خاصیت پخش آرایه‌ها استفاده کنید. بدین منظور همچنین می‌توانید آرایه‌ها را بازآرایی کنید.\n",
    "    <br>\n",
    "     این تابع دو ماتریس نمونه‌های آموزش (زنبق‌ها) و نمونه‌های آزمون (زنبق‌های جدید) را به عنوان ورودی می‌گیرد و یک ماتریس شامل مجذور فاصله‌های آن‌ها با ابعاد \n",
    "    <code>(تعداد نمونه آموزش ,تعداد نمونه آزمون)</code> یا همان\n",
    "    <code>(m, n)</code> \n",
    "    خروجی می‌دهد.\n",
    "    نمونه‌ی ورودی و خروجی این تابع و ابعاد آن در شکل زیر قابل مشاهده است. به عنوان مثال سطر اول ماتریس خروجی شامل مقادیر مجذور فاصله‌ی نمونه‌ی اول زنبق جدید (<code>new_irises[0]</code>) با هرکدام از زنبق‌ها (<code>irises</code>) خواهد بود.\n",
    "</font>\n",
    "</p>\n",
    "\n",
    "<p style=\"text-align:center;\"><img src=\"fig.png\"></p>\n",
    "\n",
    "<p dir=rtl style=\"direction: rtl;text-align: right;line-height:200%;font-family:vazir;font-size:medium\">\n",
    "<font face=\"vazir\" size=3>\n",
    "ممکن است ساختن آرایه فاصله‌ها بدون حلقه، پیچیده به نظر برسد. اما استفاده از خاصیت پخش آرایه‌ها به جای استفاده از حلقه هم باعث سریع‌تر شدن کد و هم کوتاه‌تر شدن آن می‌شود و خوب است به آن عادت کنید. سریع‌تر شدن کد را می‌توانید با ورودی دادن آرایه‌های بزرگ آزمایش کنید.        \n",
    "    </font></p>\n",
    "\n",
    "<p dir=rtl style=\"direction: rtl;text-align: right;line-height:200%;font-family:vazir;font-size:medium\">\n",
    "<font face=\"vazir\" size=3>\n",
    "<b>راهنمایی ۲:</b> یک راه‌حل ممکن این است که ماتریس زنبق‌های جدید را به گونه‌ای بازآرایی کنیم که به شکل ۳۰ آرایه‌ با ابعاد ۱ در ۴ در بیاید و سپس از خاصیت پخش آرایه‌ها استفاده کنیم. پس از آن کافیست به ترتیب به محاسبه‌ی فاصله‌ها، مجذور فاصله‌ها و در نهایت مجموع بپردازیم. توجه داشته باشید که تمام این موارد باید در یک خط کد انجام شوند.\n",
    "    \n",
    "</font>\n",
    "</p>"
   ]
  },
  {
   "cell_type": "code",
   "execution_count": 50,
   "id": "f3e881e6",
   "metadata": {},
   "outputs": [],
   "source": [
    "def calc_no_loop(new_points, points):\n",
    "    return None"
   ]
  },
  {
   "cell_type": "markdown",
   "id": "4a1eaa36",
   "metadata": {},
   "source": [
    "<p dir=rtl style=\"direction: rtl;text-align: right;line-height:200%;font-family:vazir;font-size:medium\">\n",
    "<font face=\"vazir\" size=3>\n",
    "محاسبه‌ی آرایه فاصله‌ها به سه روش فوق، نباید تفاوتی در نتیجه حاصل کند. از این رو کد زیر را اجرا کنید تا از برابر بودن خروجی سه تابع فوق اطمینان حاصل کنید. از این به بعد از آرایه ‍<code>d</code> به عنوان آرایه فاصله‌ها استفاده می‌کنیم.\n",
    "</font>\n",
    "</p>"
   ]
  },
  {
   "cell_type": "code",
   "execution_count": null,
   "id": "6b3eda6e",
   "metadata": {},
   "outputs": [],
   "source": [
    "d2 = calc_two_loops(new_irises, irises)\n",
    "d1 = calc_one_loop(new_irises, irises)\n",
    "d = calc_no_loop(new_irises, irises)\n",
    "\n",
    "if np.allclose(d, d1, 1e-5) and np.allclose(d, d2, 1e-5):\n",
    "    print('Fine!')\n",
    "else:\n",
    "    print('There is something wrong!')"
   ]
  },
  {
   "cell_type": "markdown",
   "id": "f1a35b10",
   "metadata": {},
   "source": [
    "<h2 dir = rtl align=right style=\"line-height:200%;font-family:vazir;color:#0099cc\">\n",
    "<font face=\"vazir\" color=\"#0099cc\">\n",
    "بخش سوم - پیدا کردن $k$ نزدیک‌ترین همسایه\n",
    "</font>\n",
    "</h2>"
   ]
  },
  {
   "cell_type": "markdown",
   "id": "da6315e4",
   "metadata": {},
   "source": [
    "<p dir=rtl style=\"direction: rtl;text-align: right;line-height:200%;font-family:vazir;font-size:medium\">\n",
    "<font face=\"vazir\" size=3>\n",
    "    به کمک توابع پیاده‌سازی شده توانستیم فاصله‌ی هر نمونه‌ی آزمون با هرکدام از نمونه‌های آموزشی را محاسبه کنیم و حاصل را در <code>d</code> ذخیره کردیم. اکنون باید برای هرکدام از نمونه‌های آزمون، $k$ تا از نزدیک‌ترین (کم‌فاصله‌ترین) نمونه‌های آموزشی به آن را پیدا کنیم.\n",
    "    <br>\n",
    "در این بخش قصد داریم ده‌تا از نزدیک‌ترین نمونه‌های آموزشی به هر نمونه‌ی آزمون را گزارش کنیم بنابراین مقدار <code>k</code> را برابر ۱۰ قرار داده‌ایم. حال شما در برابر تساوی عبارتی بنویسید که آرایه‌ای با ابعاد <code>(m, k)</code> را خروجی دهد و در سطر <code>i</code> آن شماره <code>j</code> قرار گیرد اگر <code>irises[j]</code> جزو <code>k</code> تا نزدیک‌ترین نمونه آموزش به <code>new_irises[i]</code> باشد.\n",
    "        <br>\n",
    "    <b>راهنمایی ۱:</b>\n",
    "    به منظور پیدا کردن نزدیک‌ترین همسایگان (کم‌ترین فاصله‌ها) می‌توان هم از <code>sort</code> و هم <code>partition</code> کمک گرفت و نتیجه نهایی هر دو صحیح خواهد بود. اما توجه داشته باشید که استفاده از <code>sort</code> باعث می‌شود مرتب‌سازی بصورت کامل انجام شود، در حالیکه ما فقط به $k$ مورد اول نیاز داریم. در نتیجه استفاده از <code>partition</code> (خصوصاً هنگامیکه آرایه‌ها بزرگ باشند) هزینه‌ی کمتری خواهد داشت. بنابراین در این قسمت باید از تابع <code>np.argpartition</code> استفاده کنید و داوری کد شما نیز طبق آن انجام خواهد شد.\n",
    "    <br>\n",
    "    <b>راهنمایی ۲:</b>\n",
    "    در مورد تابع <code>np.argpartition</code> نامپای و تفاوت آن با تابع <code>np.partition</code> که در این فصل آموختیم، تحقیق کنید. تفاوت این دو همچون تفاوت <code>np.sort</code> و <code>np.argsort</code> است که در درسنامه شرح داده شد.\n",
    "</font>\n",
    "</p>"
   ]
  },
  {
   "cell_type": "code",
   "execution_count": null,
   "id": "e0423a6e",
   "metadata": {},
   "outputs": [],
   "source": [
    "k = 10\n",
    "k_nearest = None # TODO\n",
    "k_nearest"
   ]
  },
  {
   "cell_type": "markdown",
   "id": "32ded472",
   "metadata": {},
   "source": [
    "<h2 dir = rtl align=right style=\"line-height:200%;font-family:vazir;color:#0099cc\">\n",
    "<font face=\"vazir\" color=\"#0099cc\">\n",
    "بخش چهارم - پیدا کردن نوع $k$ نزدیک‌ترین همسایه\n",
    "</font>\n",
    "</h2>"
   ]
  },
  {
   "cell_type": "markdown",
   "id": "34e63fc0",
   "metadata": {},
   "source": [
    "<p dir=rtl style=\"direction: rtl;text-align: right;line-height:200%;font-family:vazir;font-size:medium\">\n",
    "<font face=\"vazir\" size=3>\n",
    "اکنون آرایه <code>k_nearest_types</code> را در یک خط مقداردهی کنید؛ طوری که هم‌شکل <code>k_nearest</code> باشد، اما به جای شماره هر نمونه آموزش، شناسه‌ی نوع (<code>type</code>) آن قرار گیرد.        \n",
    "</font>\n",
    "</p>"
   ]
  },
  {
   "cell_type": "code",
   "execution_count": null,
   "id": "22edbad2",
   "metadata": {},
   "outputs": [],
   "source": [
    "k_nearest_types = None # TODO\n",
    "k_nearest_types"
   ]
  },
  {
   "cell_type": "markdown",
   "id": "7ddb2cdb",
   "metadata": {},
   "source": [
    "<h2 align=right style=\"line-height:200%;font-family:vazir;color:#0099cc\">\n",
    "<font face=\"vazir\" color=\"#0099cc\">\n",
    "بخش پنجم - تعیین نوع گل‌ها\n",
    "</font>\n",
    "</h2>"
   ]
  },
  {
   "cell_type": "markdown",
   "id": "637d0df2",
   "metadata": {},
   "source": [
    "<p dir=rtl style=\"direction: rtl;text-align: right;line-height:200%;font-family:vazir;font-size:medium\">\n",
    "<font face=\"vazir\" size=3>\n",
    "در نهایت، باید آرایه <code>predicted_types</code> به طول <code>m</code> را بسازیم که در خانه <code>predicted_types[i]</code>، پرتکرارترین شناسه در <code>k_nearest_types[i]</code> به عنوان شناسه نوع پیش‌بینی شده برای <code>new_irises[i]</code> قرار می‌گیرد. این کار را به کمک تابع <code>mode</code> که داخل کتابخانه <code>scipy</code> قرار دارد، انجام داده‌ایم.\n",
    "</font>\n",
    "</p>"
   ]
  },
  {
   "cell_type": "code",
   "execution_count": null,
   "id": "63421504",
   "metadata": {},
   "outputs": [],
   "source": [
    "from scipy import stats"
   ]
  },
  {
   "cell_type": "code",
   "execution_count": null,
   "id": "56f71418",
   "metadata": {},
   "outputs": [],
   "source": [
    "predicted_types = stats.mode(k_nearest_types, axis=1).mode.reshape(m)\n",
    "predicted_types"
   ]
  },
  {
   "cell_type": "markdown",
   "id": "1237953f",
   "metadata": {},
   "source": [
    "<p dir=rtl style=\"direction: rtl;text-align: right;line-height:200%;font-family:vazir;font-size:medium\">\n",
    "<font face=\"vazir\" size=3>\n",
    "در این قسمت، آرایه <code>new_types</code> بارگیری شده است که حاوی جواب‌های درست است. از روی آن، دقت دسته‌بندی‌ را محاسبه و در متغیر <code>accuracy</code> ذخیره کنید. دقت دسته‌بندی برابر با تعداد پیش‌بینی‌های درست تقسیم بر تعداد نمونه‌های آزمون است. اگر مراحل کار را درست انجام داده باشید، دقت باید برابر ۱ باشد (یعنی دسته‌بند همه نوع گل‌ها را درست پیش‌بینی می‌کند).\n",
    "</font>\n",
    "</p>"
   ]
  },
  {
   "cell_type": "code",
   "execution_count": null,
   "id": "6c855388",
   "metadata": {},
   "outputs": [],
   "source": [
    "new_types = np.load('new_types.npy')\n",
    "accuracy = None # TODO\n",
    "print('Accuracy:', accuracy)"
   ]
  },
  {
   "cell_type": "markdown",
   "id": "d6351c78",
   "metadata": {},
   "source": [
    "<p dir=rtl style=\"direction: rtl;text-align: right;line-height:200%;font-family:vazir;font-size:medium\">\n",
    "<font face=\"vazir\" size=3>\n",
    "    به کمک سلول زیر، کد خود را به همراه جواب‌تان فشرده کرده و فایل <code>result.zip</code> را درون سامانه بارگذاری کنید.\n",
    "</font>\n",
    "</p>"
   ]
  },
  {
   "cell_type": "markdown",
   "id": "18b1bc75",
   "metadata": {},
   "source": [
    "<h2 align=right style=\"line-height:200%;font-family:vazir;color:#0099cc\">\n",
    "<font face=\"vazir\" color=\"#0099cc\">\n",
    "<b>سلول جواب‌ساز</b>\n",
    "</font>\n",
    "</h2>"
   ]
  },
  {
   "cell_type": "code",
   "execution_count": null,
   "id": "76ccca15",
   "metadata": {},
   "outputs": [],
   "source": [
    "import zipfile\n",
    "from inspect import getsource\n",
    "\n",
    "np.savez(\"answers.npz\", k_nearest = k_nearest, k_nearest_types = k_nearest_types, predicted_types = predicted_types)\n",
    "\n",
    "def compress(file_names):\n",
    "    print(\"File Paths:\")\n",
    "    print(file_names)\n",
    "    # Select the compression mode ZIP_DEFLATED for compression\n",
    "    # or zipfile.ZIP_STORED to just store the file\n",
    "    compression = zipfile.ZIP_DEFLATED\n",
    "    # create the zip file first parameter path/name, second mode\n",
    "    with zipfile.ZipFile(\"result.zip\", mode=\"w\") as zf:\n",
    "        for file_name in file_names:\n",
    "            # Add file to the zip file\n",
    "            # first parameter file to zip, second filename in zip\n",
    "            zf.write('./' + file_name, file_name, compress_type=compression)\n",
    "\n",
    "imp = 'import numpy as np\\n'\n",
    "%save calc_two_loops imp + getsource(calc_two_loops)\n",
    "%save calc_one_loop imp + getsource(calc_one_loop)\n",
    "%save calc_no_loop imp + getsource(calc_no_loop)\n",
    "\n",
    "file_names = [\"calc_two_loops.py\", \"calc_one_loop.py\", \"calc_no_loop.py\",\n",
    "              \"answers.npz\", \"iris_flowers.ipynb\"]\n",
    "compress(file_names)"
   ]
  }
 ],
 "metadata": {
  "interpreter": {
   "hash": "a1a46404003b1888471f66733c8ff43ecbbd22069e04669a0d47e7a2f84d0bb4"
  },
  "kernelspec": {
   "display_name": "Python 3 (ipykernel)",
   "language": "python",
   "name": "python3"
  },
  "language_info": {
   "codemirror_mode": {
    "name": "ipython",
    "version": 3
   },
   "file_extension": ".py",
   "mimetype": "text/x-python",
   "name": "python",
   "nbconvert_exporter": "python",
   "pygments_lexer": "ipython3",
   "version": "3.10.9"
  }
 },
 "nbformat": 4,
 "nbformat_minor": 5
}
