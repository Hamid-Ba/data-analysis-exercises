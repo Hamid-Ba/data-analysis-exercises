{
 "cells": [
  {
   "cell_type": "markdown",
   "source": [
    "<h1 align=center style=\"line-height:200%;font-family:vazir;color:#0099cc\">\n",
    "<font face=\"vazir\" color=\"#0099cc\">\n",
    "مصطفی، خودکفا\n",
    "</font>\n",
    "</h1>\n"
   ],
   "metadata": {
    "id": "rizeAPn-pe_s"
   }
  },
  {
   "cell_type": "markdown",
   "source": [
    "<p dir=rtl style=\"direction: rtl;text-align: right;line-height:200%;font-family:vazir;font-size:medium\">\n",
    "<font face=\"vazir\" size=3>\n",
    "با مصطفی در فصل پانداس آشنا شدید. او در کار الماس فروشی حسابی متخصص شده و اطلاعات دقیق‌تر و کامل‌تری از الماس‌های پدرش را هم اکنون در اختیار دارد.\n",
    "<br>\n",
    "پس از دیدن نمونه‌هایی از مصورسازی در روزنامه‌ها، حالا علاقه‌مند به این موضوع شده و می‌خواهد با نمودار‌هایی، اطلاعات الماس‌هایش را به شکلی خلاصه و مفید نشان دهد.\n",
    "</font>\n",
    "</p>\n"
   ],
   "metadata": {
    "id": "30vPDJVPSS7M"
   }
  },
  {
   "cell_type": "markdown",
   "source": [
    "<p dir=rtl style=\"direction: rtl;text-align: right;line-height:200%;font-family:vazir;font-size:medium\">\n",
    "<font face=\"vazir\" size=3>\n",
    "در این تمرین هم از مت‌پلات و هم از سیبورن استفاده می‌کنیم.\n",
    "</font>\n",
    "</p>\n"
   ],
   "metadata": {}
  },
  {
   "cell_type": "code",
   "execution_count": null,
   "source": [
    "import pandas as pd\n",
    "import matplotlib.pyplot as plt\n",
    "import seaborn as sns"
   ],
   "outputs": [],
   "metadata": {
    "id": "N-yLpau-zRUn"
   }
  },
  {
   "cell_type": "markdown",
   "source": [
    "\n",
    "\n",
    "\n",
    "<p dir=rtl style=\"direction: rtl;text-align: right;line-height:200%;font-family:vazir;font-size:medium\">\n",
    "<font face=\"vazir\" size=3>\n",
    "اطلاعات الماس‌ها در فایل <code>diamonds.csv</code> ذخیره شده است. با کتابخانه پانداس آن را در متغیر <code>df</code> می‌ریزیم.\n",
    "</font>\n",
    "</p>\n",
    "\n"
   ],
   "metadata": {
    "id": "eHt3PRb_SljP"
   }
  },
  {
   "cell_type": "code",
   "execution_count": null,
   "source": [
    "df = pd.read_csv('diamonds.csv',index_col=0)\n",
    "df.head()"
   ],
   "outputs": [],
   "metadata": {
    "id": "xKj8TbtizYMB"
   }
  },
  {
   "cell_type": "markdown",
   "source": [
    "<p dir=rtl style=\"direction: rtl;text-align: right;line-height:200%;font-family:vazir;font-size:medium\">\n",
    "<font face=\"vazir\" size=3>\n",
    "در دیتافریم بالا، اطلاعات بیشتری از الماس‌ها ذخیره شده است. متغیرهای <code>depth</code> و <code>table</code> بر اساس طول و عرض و ارتفاع یک الماس محاسبه می‌شوند. برای آشنایی با آنها می‌توانید به\n",
    " این لینک \n",
    " <a href=\"https://www.diamonds.pro/education/diamond-depth-and-table/\">این لینک</a>\n",
    " مراجعه کنید.\n",
    "<br>\n",
    "متغیر <code>clarity</code> شفافیت یا پاکی الماس را با کد خاص نشان می‌دهید. برای آشنایی با این کد‌ها می‌توانید به \n",
    " <a href=\"https://www.bluenile.com/education/diamonds/clarity\">این لینک</a>\n",
    "مراجعه کنید.\n",
    "</font>\n",
    "</p>\n"
   ],
   "metadata": {}
  },
  {
   "cell_type": "markdown",
   "source": [
    "<h2 align=right style=\"line-height:200%;font-family:vazir;color:#0099cc\">\n",
    "<font face=\"vazir\" color=\"#0099cc\">\n",
    "کار با استایل‌ها\n",
    "</font>\n",
    "</h2>\n",
    "\n",
    "<p dir=rtl style=\"direction: rtl;text-align: right;line-height:200%;font-family:vazir;font-size:medium\">\n",
    "<font face=\"vazir\" size=3>\n",
    "با استفاده از تابع <code>plt.style.use</code> می‌توان استایل مت‌پلات را عوض کرد. هنگام تغییر استایل، تنظیمات بسیاری از جمله رنگ زمینه، رنگ خطوط، رنگ و فونت نوشته‌ها و تنظیمات دیگری عوض می‌شوند و راه خوبی است تا بدون تغییر بسیاری از مقادیر پیش‌فرض، رنگ و لعاب اشکال خود را تغییر دهید. \n",
    "برای استفاده از این قابلیت، باید قبل از کشیدن نمودار‌ها، استایل را تغییر دهید. پس از آن هر نموداری که می‌کشید با آن استایل کشیده می‌شود تا وقتی که استایل را عوض کنید.\n",
    "</font>\n",
    "</p>\n",
    "\n"
   ],
   "metadata": {
    "id": "tZ-PYtmJTneC"
   }
  },
  {
   "cell_type": "markdown",
   "source": [
    "\n",
    "<h2 dir=rtl align=right style=\"line-height:200%;font-family:vazir;color:#0099cc\">\n",
    "<font face=\"vazir\" color=\"#0099cc\">\n",
    "قدم اول\n",
    "</font>\n",
    "</h2>\n",
    "<p dir=rtl align=right style=\"direction: rtl;text-align: right;line-height:200%;font-family:vazir;font-size:medium\">\n",
    "<font face=\"vazir\" size=3>\n",
    "<ul dir=rtl>\n",
    "  <li>\n",
    "استایل را برابر را <code>dark_background</code> قرار دهید.\n",
    "</li>\n",
    "\n",
    "  <li>\n",
    "با مت‌پلات، یک شکل شامل یک صفحه نمودار بسازید و اندازه طول و عرض آن را برابر با ۱۰ اینچ قرار دهید.\n",
    "</li>\n",
    "\n",
    "  <li>\n",
    "با استفاده از تابع <code>barplot</code> سیبورن، بر روی صفحه محوری که در قدم دوم ساختید، یک نمودار میله‌ای بکشید. ورودی‌های این نمودار یک دیتافریم، متغیر محور ,<code>y</code>، متغیر محور x و متغیر <code>hue</code> می‌باشد. متغیر <code>hue</code> میله‌ها را بر اساس یک متغیر دوم تقسیم می‌کند.  \n",
    "\n",
    "</li>\n",
    "\n",
    "  <li>\n",
    "شما باید با توجه به شکل داده شده، پارامتر‌های <code>x</code> و <code>y</code> و <code>hue</code> را مقداردهی کنید.\n",
    "\n",
    "</li>\n",
    "\n",
    "<br>\n",
    "خروجی به شکل زیر می‌باشد:\n",
    "</font>\n",
    "</p>\n",
    "\n",
    "\n"
   ],
   "metadata": {
    "id": "XLUVmEP7bRPA"
   }
  },
  {
   "cell_type": "markdown",
   "source": [
    "<img src=\"fig1.png\" />"
   ],
   "metadata": {}
  },
  {
   "cell_type": "markdown",
   "source": [
    "\n",
    "\n",
    "\n",
    "\n",
    "<h2 align=right style=\"line-height:200%;font-family:vazir;color:#0099cc\">\n",
    "<font face=\"vazir\" color=\"#0099cc\">\n",
    "توضیح نمودار\n",
    "</font>\n",
    "</h2>\n",
    "<p dir=rtl style=\"direction: rtl;text-align: right;line-height:200%;font-family:vazir;font-size:medium\">\n",
    "<font face=\"vazir\" size=3>\n",
    "در این نمودار، برای هر نوع برش الماس، قیمت آن مشخص شده است. خط سیاهی که در بالای هر میله قرار دارد، بازه اطمینان آن مقدار را نشان می‌دهد زیرا برش‌های متعددی از یک نوع می‌باشند و سیبورن مقدار متوسط آن را لحاظ می‌کند و با آن خط سیاه، میزان پراکندگی این مقادیر مشخص می‌شود. همچنین در هر برش، داده‌ها بر اساس رنگ هم تقسیم شده‌اند. این‌ کار با کمک متغیر <code>hue</code> مشخص شده است.\n",
    "</font>\n",
    "</p>\n"
   ],
   "metadata": {
    "id": "ghYjKB-zcV8G"
   }
  },
  {
   "cell_type": "code",
   "execution_count": null,
   "source": [
    "plt.style.use('dark_background')\n",
    "\n",
    "fig1 , axes1 = None # to do"
   ],
   "outputs": [],
   "metadata": {
    "colab": {
     "base_uri": "https://localhost:8080/",
     "height": 626
    },
    "id": "aSuFamftzhju",
    "outputId": "3751cbcb-f058-4196-8431-bd3c4bdb0a9b"
   }
  },
  {
   "cell_type": "markdown",
   "source": [
    "\n",
    "\n",
    "<h2 align=right style=\"line-height:200%;font-family:vazir;color:#0099cc\">\n",
    "<font face=\"vazir\" color=\"#0099cc\">\n",
    "کار با نمودار جعبه‌ای\n",
    "</font>\n",
    "</h2>\n",
    "<p dir=rtl style=\"direction: rtl;text-align: right;line-height:200%;font-family:vazir;font-size:medium\">\n",
    "<font face=\"vazir\" size=3>\n",
    "نمودار جعبه‌ای یکی از روشهای قدیمی برای نمایش توزیع داده و شناسایی داده های پرت می‌باشد. احتمالا نحوه رسم دستی آنرا از دوران تحصیل خود به خاطر دارید. برای رسم این نمودار به چارک اول و سوم و میانه داده نیاز است. حد بالا و پایین با ضرب یک فاکتور در فاصله میان دو چارک محاسبه می‌شود و فاکتور انتخابی، بستگی به نوع مسئله و نحوه پخش داده‌های پرت بستگی دارد.\n",
    "</font>\n",
    "</p>\n",
    "\n"
   ],
   "metadata": {
    "id": "oKGtf0Cgl3-F"
   }
  },
  {
   "cell_type": "markdown",
   "source": [
    "![Screenshot 2021-07-29 183538.png](data:image/png;base64,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)"
   ],
   "metadata": {
    "id": "oZUf2Psil5Q0"
   }
  },
  {
   "cell_type": "markdown",
   "source": [
    "\n",
    "\n",
    "\n",
    "  <h2 align=right style=\"line-height:200%;font-family:vazir;color:#0099cc\">\n",
    "<font face=\"vazir\" color=\"#0099cc\">\n",
    "قدم دوم</font>\n",
    "</h2>\n",
    "<p dir=rtl style=\"direction: rtl;text-align: right;line-height:200%;font-family:vazir;font-size:medium\">\n",
    "<font face=\"vazir\" size=3>\n",
    "  <ul dir=rtl>\n",
    "  <li>\n",
    "  استایل را برابر را <code>ggplot</code> قرار دهید.\n",
    "  </li>\n",
    "\n",
    "  <li>\n",
    "  با مت‌پلات، یک شکل شامل یک صفحه نمودار بسازید و اندازه طول و عرض آن را برابر با ۱۰ اینچ قرار دهید.\n",
    "  </li>\n",
    "\n",
    "  <li>\n",
    "  با استفاده از تابع <code>boxplot</code> سیبورن، یک سری نمودار جعبه‌ای تولید کنید و بر روی صفحه محوری که در قسمت قبل ساخته‌اید رسم کنید. این‌ بار از ویژگی <code>hue</code> استفاده نمی‌کنیم و فقط دو متغیر را بررسی می کنیم.\n",
    "\n",
    "  </li>\n",
    "  <br>\n",
    "  خروجی به شکل زیر می‌باشد:\n",
    "</font>\n",
    "</p>\n"
   ],
   "metadata": {
    "id": "JqF2ctV6gZ6w"
   }
  },
  {
   "cell_type": "markdown",
   "source": [
    "<img src=\"fig2.png\" />"
   ],
   "metadata": {}
  },
  {
   "cell_type": "code",
   "execution_count": null,
   "source": [
    "\n",
    "fig2 , axes2 = None # todo"
   ],
   "outputs": [],
   "metadata": {
    "colab": {
     "base_uri": "https://localhost:8080/",
     "height": 626
    },
    "id": "Q08I5VP21Hmk",
    "outputId": "3d116256-73ac-41cb-8b4d-348245c66f0b"
   }
  },
  {
   "cell_type": "markdown",
   "source": [
    "\n",
    "\n",
    "  <h2 align=right style=\"line-height:200%;font-family:vazir;color:#0099cc\">\n",
    "<font face=\"vazir\" color=\"#0099cc\">\n",
    "توضیح نمودار</font>\n",
    "</h2>\n",
    "<p dir=rtl style=\"direction: rtl;text-align: right;line-height:200%;font-family:vazir;font-size:medium\">\n",
    "<font face=\"vazir\" size=3>\n",
    "این‌ بار با استفاده از نمودار جعبه‌ای رابطه بین شفافیت الماس و قیمت الماس مشخص شده است. برای هر نوع شفافیت یک نمودار جعبه‌ای کشیده شده است. بدون سیبورن، رسیدن به این شکل کار آسانی نیست.\n",
    "\n",
    "</font>\n",
    "</p>\n",
    "\n",
    "\n"
   ],
   "metadata": {
    "id": "jGi2tPzJmmKR"
   }
  },
  {
   "cell_type": "markdown",
   "source": [
    "<h2 align=right style=\"line-height:200%;font-family:vazir;color:#0099cc\">\n",
    "<font face=\"vazir\" color=\"#0099cc\">\n",
    "<b>سلول جواب‌ساز</b>\n",
    "</font>\n",
    "</h2>\n",
    "\n"
   ],
   "metadata": {}
  },
  {
   "cell_type": "code",
   "execution_count": null,
   "source": [
    "import zlib\n",
    "import zipfile\n",
    "import joblib\n",
    "\n",
    "joblib.dump(fig1,\"fig1\")\n",
    "joblib.dump(fig2,\"fig2\")\n",
    "\n",
    "def compress(file_names):\n",
    "    print(\"File Paths:\")\n",
    "    print(file_names)\n",
    "    # Select the compression mode ZIP_DEFLATED for compression\n",
    "    # or zipfile.ZIP_STORED to just store the file\n",
    "    compression = zipfile.ZIP_DEFLATED\n",
    "    # create the zip file first parameter path/name, second mode\n",
    "    with zipfile.ZipFile(\"result.zip\", mode=\"w\") as zf:\n",
    "        for file_name in file_names:\n",
    "            # Add file to the zip file\n",
    "            # first parameter file to zip, second filename in zip\n",
    "            zf.write('./' + file_name, file_name, compress_type=compression)\n",
    "\n",
    "\n",
    "file_names = [\"fig1\",\"fig2\",\"mostafa_independent.ipynb\"]\n",
    "compress(file_names)"
   ],
   "outputs": [],
   "metadata": {
    "id": "fbSahX6Rpckd"
   }
  }
 ],
 "metadata": {
  "colab": {
   "collapsed_sections": [],
   "name": "mostafa.ipynb",
   "provenance": []
  },
  "interpreter": {
   "hash": "a1a46404003b1888471f66733c8ff43ecbbd22069e04669a0d47e7a2f84d0bb4"
  },
  "kernelspec": {
   "name": "python3",
   "display_name": "Python 3.7.4 64-bit ('qenv': venv)"
  },
  "language_info": {
   "codemirror_mode": {
    "name": "ipython",
    "version": 3
   },
   "file_extension": ".py",
   "mimetype": "text/x-python",
   "name": "python",
   "nbconvert_exporter": "python",
   "pygments_lexer": "ipython3",
   "version": "3.7.4"
  }
 },
 "nbformat": 4,
 "nbformat_minor": 4
}