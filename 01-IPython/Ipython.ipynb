{
 "cells": [
  {
   "cell_type": "markdown",
   "metadata": {},
   "source": [
    "\n",
    "<h1 align=center style=\"line-height:200%;font-family:vazir;color:#0099cc\">\n",
    "<font face=\"vazir\" color=\"#0099cc\">\n",
    "تمرین پایتون تعاملی\n",
    "</font>\n",
    "</h1>\n",
    "\n"
   ]
  },
  {
   "cell_type": "markdown",
   "metadata": {},
   "source": [
    "\n",
    "<p dir=rtl style=\"direction: rtl;text-align: right;line-height:200%;font-family:vazir;font-size:medium\">\n",
    "<font face=\"vazir\" size=3>\n",
    "در این تمرین می‌خواهیم عملیاتی ساده انجام دهیم تا با نت‌بوک و ویژگی‌های آن بهتر آشنا شوید.\n",
    "<br>\n",
    "در پایتون تابعی به نام <code>any</code> وجود دارد که یک <code>Iterator</code> را می‌گیرد و اگر حداقل یک مقدار <code>True</code> داشته باشد پاسخ <code>True</code> تولید می‌کند (یعنی فقط وقتی <code>False</code> تولید می‌کند که تمام مقادیر آن False باشند).\n",
    "<br>\n",
    "مثال‌هایی از این تابع را در سلول زیر می‌بینید:\n",
    "\n",
    "</font>\n",
    "</p>\n"
   ]
  },
  {
   "cell_type": "code",
   "execution_count": 1,
   "metadata": {},
   "outputs": [
    {
     "name": "stdout",
     "output_type": "stream",
     "text": [
      "False\n",
      "True\n",
      "True\n"
     ]
    }
   ],
   "source": [
    "print(any([0,False]))\n",
    "print(any([1,2,3]))\n",
    "print(any([\"salaam\"]))"
   ]
  },
  {
   "cell_type": "markdown",
   "metadata": {},
   "source": [
    "\n",
    "<h2 align=right style=\"line-height:200%;font-family:vazir;color:#0099cc\">\n",
    "<font face=\"vazir\" color=\"#0099cc\">\n",
    "قسمت اول\n",
    "</font>\n",
    "</h2>\n",
    "<p dir=rtl style=\"direction: rtl;text-align: right;line-height:200%;font-family:vazir;font-size:medium\">\n",
    "<font face=\"vazir\" size=3>\n",
    "در سلول زیر تابعی بنویسد که کار تابع <code>any</code> را انجام دهد. تابع شما باید یک لیست را بگیرد و اگر در لیست حداقل یک مقدار <code>True</code> وجود داشته باشد پاسخ <code>True</code> را برگرداند. دقت کنید که تابع باید خروجی را <code>return</code> کند (چاپ نکند).\n",
    "\n",
    "</font>\n",
    "</p>\n"
   ]
  },
  {
   "cell_type": "code",
   "execution_count": 4,
   "metadata": {},
   "outputs": [],
   "source": [
    "def my_any(x):\n",
    "    for element in x:\n",
    "        if element : return True\n",
    "    return False"
   ]
  },
  {
   "cell_type": "markdown",
   "metadata": {},
   "source": [
    "\n",
    "<p dir=rtl style=\"direction: rtl;text-align: right;line-height:200%;font-family:vazir;font-size:medium\">\n",
    "<font face=\"vazir\" size=3>\n",
    "دستورات جادویی دارای آرگومان‌های بسیار کاربردی‌‌ی می‌باشند که برای مشاهده آنها، می‌توان از ویژگی <code>introspection</code> استفاده کرد:\n",
    "\n",
    "</font>\n",
    "</p>\n",
    "\n"
   ]
  },
  {
   "cell_type": "code",
   "execution_count": 8,
   "metadata": {},
   "outputs": [
    {
     "data": {
      "text/plain": [
       "\u001b[0;31mDocstring:\u001b[0m\n",
       "Time execution of a Python statement or expression\n",
       "\n",
       "Usage, in line mode:\n",
       "  %timeit [-n<N> -r<R> [-t|-c] -q -p<P> -o] statement\n",
       "or in cell mode:\n",
       "  %%timeit [-n<N> -r<R> [-t|-c] -q -p<P> -o] setup_code\n",
       "  code\n",
       "  code...\n",
       "\n",
       "Time execution of a Python statement or expression using the timeit\n",
       "module.  This function can be used both as a line and cell magic:\n",
       "\n",
       "- In line mode you can time a single-line statement (though multiple\n",
       "  ones can be chained with using semicolons).\n",
       "\n",
       "- In cell mode, the statement in the first line is used as setup code\n",
       "  (executed but not timed) and the body of the cell is timed.  The cell\n",
       "  body has access to any variables created in the setup code.\n",
       "\n",
       "Options:\n",
       "-n<N>: execute the given statement <N> times in a loop. If <N> is not\n",
       "provided, <N> is determined so as to get sufficient accuracy.\n",
       "\n",
       "-r<R>: number of repeats <R>, each consisting of <N> loops, and take the\n",
       "best result.\n",
       "Default: 7\n",
       "\n",
       "-t: use time.time to measure the time, which is the default on Unix.\n",
       "This function measures wall time.\n",
       "\n",
       "-c: use time.clock to measure the time, which is the default on\n",
       "Windows and measures wall time. On Unix, resource.getrusage is used\n",
       "instead and returns the CPU user time.\n",
       "\n",
       "-p<P>: use a precision of <P> digits to display the timing result.\n",
       "Default: 3\n",
       "\n",
       "-q: Quiet, do not print result.\n",
       "\n",
       "-o: return a TimeitResult that can be stored in a variable to inspect\n",
       "    the result in more details.\n",
       "\n",
       ".. versionchanged:: 7.3\n",
       "    User variables are no longer expanded,\n",
       "    the magic line is always left unmodified.\n",
       "\n",
       "Examples\n",
       "--------\n",
       "::\n",
       "\n",
       "  In [1]: %timeit pass\n",
       "  8.26 ns ± 0.12 ns per loop (mean ± std. dev. of 7 runs, 100000000 loops each)\n",
       "\n",
       "  In [2]: u = None\n",
       "\n",
       "  In [3]: %timeit u is None\n",
       "  29.9 ns ± 0.643 ns per loop (mean ± std. dev. of 7 runs, 10000000 loops each)\n",
       "\n",
       "  In [4]: %timeit -r 4 u == None\n",
       "\n",
       "  In [5]: import time\n",
       "\n",
       "  In [6]: %timeit -n1 time.sleep(2)\n",
       "\n",
       "The times reported by %timeit will be slightly higher than those\n",
       "reported by the timeit.py script when variables are accessed. This is\n",
       "due to the fact that %timeit executes the statement in the namespace\n",
       "of the shell, compared with timeit.py, which uses a single setup\n",
       "statement to import function or create variables. Generally, the bias\n",
       "does not matter as long as results from timeit.py are not mixed with\n",
       "those from %timeit.\n",
       "\u001b[0;31mFile:\u001b[0m      ~/Documents/MLProjects/Quera/ML1/env/lib/python3.10/site-packages/IPython/core/magics/execution.py"
      ]
     },
     "metadata": {},
     "output_type": "display_data"
    }
   ],
   "source": [
    "%timeit?"
   ]
  },
  {
   "cell_type": "markdown",
   "metadata": {},
   "source": [
    "\n",
    "<p dir=rtl style=\"direction: rtl;text-align: right;line-height:200%;font-family:vazir;font-size:medium\">\n",
    "<font face=\"vazir\" size=3>\n",
    "توضیحات بسیار مفید و کاربردی در رابطه با <code>timeit</code> را در سلول بالا مشاهده می‌کنید. مثال‌هایی هم برای آشنایی بیشتر آمده است. اگر دقت کنید می‌بینید که با تنظیم <code dir=ltr>-o</code> می‌توان خروجی دستور جادویی <code>timeit</code> را در متغیری ذخیره کرد و از آن اطلاعات بیشتری \n",
    "استخراج کرد. یا می‌توان با این ویژگی خروجی را در متغیری ریخت و در جایی ذخیره کرد.\n",
    "\n",
    "\n",
    "</font>\n",
    "</p>\n"
   ]
  },
  {
   "cell_type": "markdown",
   "metadata": {},
   "source": [
    "\n",
    "<h2 align=right style=\"line-height:200%;font-family:vazir;color:#0099cc\">\n",
    "<font face=\"vazir\" color=\"#0099cc\">\n",
    "سوال دوم\n",
    "</font>\n",
    "</h2>\n",
    "<p dir=rtl style=\"direction: rtl;text-align: right;line-height:200%;font-family:vazir;font-size:medium\">\n",
    "<font face=\"vazir\" size=3>\n",
    "با استفاده از دستور <code>timeit</code> و با استفاده از آرگومان <code dir=ltr>-o</code> سرعت اجرای تابع <code>my_any</code> و تابع <code>any</code> را مقایسه کنید. برای این کار می‌توانید از هر ورودی استفاده کنید.  \n",
    "<br>\n",
    "در متغیر <code>a</code> سرعت اجرای تابع <code>my_any</code> و در متغیر <code>b</code> سرعت اجرای تابع <code>any</code>  را قرار دهید.\n",
    "\n",
    "</font>\n",
    "</p>\n",
    "\n"
   ]
  },
  {
   "cell_type": "code",
   "execution_count": 12,
   "metadata": {},
   "outputs": [
    {
     "name": "stdout",
     "output_type": "stream",
     "text": [
      "9.76 ns ± 0.0549 ns per loop (mean ± std. dev. of 7 runs, 100,000,000 loops each)\n"
     ]
    }
   ],
   "source": [
    "a = %timeit -o my_any"
   ]
  },
  {
   "cell_type": "code",
   "execution_count": 13,
   "metadata": {},
   "outputs": [
    {
     "name": "stdout",
     "output_type": "stream",
     "text": [
      "14.5 ns ± 0.0929 ns per loop (mean ± std. dev. of 7 runs, 100,000,000 loops each)\n"
     ]
    }
   ],
   "source": [
    "b = %timeit -o any"
   ]
  },
  {
   "cell_type": "markdown",
   "metadata": {},
   "source": [
    "<p dir=rtl style=\"direction: rtl;text-align: right;line-height:200%;font-family:vazir;font-size:medium\">\n",
    "<font face=\"vazir\" size=3>\n",
    "می‌توانید با استفاده از قابلیت <code>introspection</code> توضیحات و سورس کد تابع را ببینید:\n",
    "</font>\n",
    "</p>"
   ]
  },
  {
   "cell_type": "code",
   "execution_count": 14,
   "metadata": {},
   "outputs": [
    {
     "data": {
      "text/plain": [
       "\u001b[0;31mSignature:\u001b[0m \u001b[0mmy_any\u001b[0m\u001b[0;34m(\u001b[0m\u001b[0mx\u001b[0m\u001b[0;34m)\u001b[0m\u001b[0;34m\u001b[0m\u001b[0;34m\u001b[0m\u001b[0m\n",
       "\u001b[0;31mDocstring:\u001b[0m <no docstring>\n",
       "\u001b[0;31mSource:\u001b[0m   \n",
       "\u001b[0;32mdef\u001b[0m \u001b[0mmy_any\u001b[0m\u001b[0;34m(\u001b[0m\u001b[0mx\u001b[0m\u001b[0;34m)\u001b[0m\u001b[0;34m:\u001b[0m\u001b[0;34m\u001b[0m\n",
       "\u001b[0;34m\u001b[0m    \u001b[0;32mfor\u001b[0m \u001b[0melement\u001b[0m \u001b[0;32min\u001b[0m \u001b[0mx\u001b[0m\u001b[0;34m:\u001b[0m\u001b[0;34m\u001b[0m\n",
       "\u001b[0;34m\u001b[0m        \u001b[0;32mif\u001b[0m \u001b[0melement\u001b[0m \u001b[0;34m:\u001b[0m \u001b[0;32mreturn\u001b[0m \u001b[0;32mTrue\u001b[0m\u001b[0;34m\u001b[0m\n",
       "\u001b[0;34m\u001b[0m    \u001b[0;32mreturn\u001b[0m \u001b[0;32mFalse\u001b[0m\u001b[0;34m\u001b[0m\u001b[0;34m\u001b[0m\u001b[0m\n",
       "\u001b[0;31mFile:\u001b[0m      /var/folders/_x/_pft10gn3h16mvd6mbmz9kkh0000gn/T/ipykernel_9927/969588027.py\n",
       "\u001b[0;31mType:\u001b[0m      function"
      ]
     },
     "metadata": {},
     "output_type": "display_data"
    }
   ],
   "source": [
    "??my_any"
   ]
  },
  {
   "cell_type": "code",
   "execution_count": 15,
   "metadata": {},
   "outputs": [
    {
     "data": {
      "text/plain": [
       "\u001b[0;31mSignature:\u001b[0m \u001b[0many\u001b[0m\u001b[0;34m(\u001b[0m\u001b[0miterable\u001b[0m\u001b[0;34m,\u001b[0m \u001b[0;34m/\u001b[0m\u001b[0;34m)\u001b[0m\u001b[0;34m\u001b[0m\u001b[0;34m\u001b[0m\u001b[0m\n",
       "\u001b[0;31mDocstring:\u001b[0m\n",
       "Return True if bool(x) is True for any x in the iterable.\n",
       "\n",
       "If the iterable is empty, return False.\n",
       "\u001b[0;31mType:\u001b[0m      builtin_function_or_method"
      ]
     },
     "metadata": {},
     "output_type": "display_data"
    }
   ],
   "source": [
    "??any"
   ]
  },
  {
   "cell_type": "markdown",
   "metadata": {},
   "source": [
    "<p dir=rtl style=\"direction: rtl;text-align: right;line-height:200%;font-family:vazir;font-size:medium\">\n",
    "<font face=\"vazir\" size=3>\n",
    "با استفاده از دستور جادویی <code>save</code> تابع خود را در قالب فایل <code dir=ltr>.py</code> ذخیره کنید تا در سلول جواب‌ساز، در فایل <code>result.zip</code> قرار بگیرد.\n",
    "</font>\n",
    "</p>\n"
   ]
  },
  {
   "cell_type": "code",
   "execution_count": 16,
   "metadata": {},
   "outputs": [
    {
     "name": "stdout",
     "output_type": "stream",
     "text": [
      "The following commands were written to file `my_any.py`:\n",
      "def my_any(x):\n",
      "    for element in x:\n",
      "        if element : return True\n",
      "    return False\n",
      "\n"
     ]
    }
   ],
   "source": [
    "from inspect import getsource\n",
    "\n",
    "%save my_any getsource(my_any)"
   ]
  },
  {
   "cell_type": "markdown",
   "metadata": {},
   "source": [
    "\n",
    "<p dir=rtl style=\"direction: rtl;text-align: right;line-height:200%;font-family:vazir;font-size:medium\">\n",
    "<font face=\"vazir\" size=3>\n",
    "یادتان نرود که با <code>introspection</code> می‌توانید اطلاعات اضافی در مورد هر چیزی به دست بی‌آورید!\n",
    "\n",
    "</font>\n",
    "</p>\n"
   ]
  },
  {
   "cell_type": "code",
   "execution_count": 17,
   "metadata": {},
   "outputs": [
    {
     "data": {
      "text/plain": [
       "\u001b[0;31mDocstring:\u001b[0m\n",
       "Save a set of lines or a macro to a given filename.\n",
       "\n",
       "Usage:\n",
       "  %save [options] filename [history]\n",
       "\n",
       "Options:\n",
       "\n",
       "  -r: use 'raw' input.  By default, the 'processed' history is used,\n",
       "  so that magics are loaded in their transformed version to valid\n",
       "  Python.  If this option is given, the raw input as typed as the\n",
       "  command line is used instead.\n",
       "  \n",
       "  -f: force overwrite.  If file exists, %save will prompt for overwrite\n",
       "  unless -f is given.\n",
       "\n",
       "  -a: append to the file instead of overwriting it.\n",
       "\n",
       "The history argument uses the same syntax as %history for input ranges,\n",
       "then saves the lines to the filename you specify.\n",
       "\n",
       "If no ranges are specified, saves history of the current session up to\n",
       "this point.\n",
       "\n",
       "It adds a '.py' extension to the file if you don't do so yourself, and\n",
       "it asks for confirmation before overwriting existing files.\n",
       "\n",
       "If `-r` option is used, the default extension is `.ipy`.\n",
       "\u001b[0;31mFile:\u001b[0m      ~/Documents/MLProjects/Quera/ML1/env/lib/python3.10/site-packages/IPython/core/magics/code.py"
      ]
     },
     "metadata": {},
     "output_type": "display_data"
    }
   ],
   "source": [
    "%save?"
   ]
  },
  {
   "cell_type": "markdown",
   "metadata": {},
   "source": [
    "<h2 align=right style=\"line-height:200%;font-family:vazir;color:#0099cc\">\n",
    "<font face=\"vazir\" color=\"#0099cc\">\n",
    "<b>سلول جواب‌ساز</b>\n",
    "</font>\n",
    "</h2>\n"
   ]
  },
  {
   "cell_type": "code",
   "execution_count": 18,
   "metadata": {},
   "outputs": [
    {
     "name": "stdout",
     "output_type": "stream",
     "text": [
      "File Paths:\n",
      "['my_any.py', 'Ipython.ipynb', 'a', 'b']\n"
     ]
    }
   ],
   "source": [
    "import zlib\n",
    "import zipfile \n",
    "import joblib\n",
    "joblib.dump(a,\"a\")\n",
    "joblib.dump(b,\"b\")\n",
    "\n",
    "\n",
    "def compress(file_names):\n",
    "    print(\"File Paths:\")\n",
    "    print(file_names)\n",
    "    # Select the compression mode ZIP_DEFLATED for compression\n",
    "    # or zipfile.ZIP_STORED to just store the file\n",
    "    compression = zipfile.ZIP_DEFLATED\n",
    "    # create the zip file first parameter path/name, second mode\n",
    "    with zipfile.ZipFile(\"result.zip\", mode=\"w\") as zf:\n",
    "        for file_name in file_names:\n",
    "            # Add file to the zip file\n",
    "            # first parameter file to zip, second filename in zip\n",
    "            zf.write('./' + file_name, file_name, compress_type=compression)\n",
    "\n",
    "\n",
    "file_names = ['my_any.py', 'Ipython.ipynb', 'a', 'b']\n",
    "compress(file_names)"
   ]
  },
  {
   "cell_type": "code",
   "execution_count": null,
   "metadata": {},
   "outputs": [],
   "source": []
  }
 ],
 "metadata": {
  "interpreter": {
   "hash": "243856ee5aa5cfcf7c7fc5e27ace1f0d0cf471c324fa5d741db742eb1bed0a33"
  },
  "kernelspec": {
   "display_name": "Python 3 (ipykernel)",
   "language": "python",
   "name": "python3"
  },
  "language_info": {
   "codemirror_mode": {
    "name": "ipython",
    "version": 3
   },
   "file_extension": ".py",
   "mimetype": "text/x-python",
   "name": "python",
   "nbconvert_exporter": "python",
   "pygments_lexer": "ipython3",
   "version": "3.10.9"
  },
  "varInspector": {
   "cols": {
    "lenName": "25",
    "lenType": 16,
    "lenVar": "200"
   },
   "kernels_config": {
    "python": {
     "delete_cmd_postfix": "",
     "delete_cmd_prefix": "del ",
     "library": "var_list.py",
     "varRefreshCmd": "print(var_dic_list())"
    },
    "r": {
     "delete_cmd_postfix": ") ",
     "delete_cmd_prefix": "rm(",
     "library": "var_list.r",
     "varRefreshCmd": "cat(var_dic_list()) "
    }
   },
   "types_to_exclude": [
    "module",
    "function",
    "builtin_function_or_method",
    "instance",
    "_Feature"
   ],
   "window_display": false
  }
 },
 "nbformat": 4,
 "nbformat_minor": 4
}
