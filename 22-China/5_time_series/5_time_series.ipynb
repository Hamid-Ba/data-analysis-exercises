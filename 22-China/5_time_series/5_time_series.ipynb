{
 "cells": [
  {
   "cell_type": "markdown",
   "metadata": {},
   "source": [
    "<h1 align=center style=\"line-height:200%;font-family:vazir;color:#0099cc\">\n",
    "<font face=\"vazir\" color=\"#0099cc\">\n",
    "تحلیل زمانی\n",
    "</font>\n",
    "</h1>\n"
   ]
  },
  {
   "cell_type": "code",
   "execution_count": 1,
   "metadata": {
    "id": "i_Yj6huOoXFw"
   },
   "outputs": [],
   "source": [
    "import pandas as pd\n",
    "import numpy as np\n",
    "import matplotlib.pyplot as plt\n",
    "from datetime import datetime , date\n",
    "\n",
    "housing_extended = pd.read_csv('housing_extended.csv', encoding='gbk')"
   ]
  },
  {
   "cell_type": "markdown",
   "metadata": {},
   "source": [
    "<p dir=rtl style=\"direction: rtl;text-align: right;line-height:200%;font-family:vazir;font-size:medium\">\n",
    "<font face=\"vazir\" size=3>\n",
    "می‌خواهیم گزارشی تهیه کنیم و مناطق مختلف شهر را از زوایای گوناگون مورد بررسی قرار دهیم. \n",
    "</font>\n",
    "</p>"
   ]
  },
  {
   "cell_type": "markdown",
   "metadata": {
    "id": "ElE5Q1DornBz"
   },
   "source": [
    "<h2 align=right style=\"line-height:200%;font-family:vazir;color:#0099cc\">\n",
    "<font face=\"vazir\" color=\"#0099cc\">\n",
    "قسمت اول\n",
    "</font>\n",
    "</h2>\n",
    "<p dir=rtl style=\"direction: rtl;text-align: right;line-height:200%;font-family:vazir;font-size:medium\">\n",
    "<font face=\"vazir\" size=3>\n",
    "دیتافریمی به نام <code>districts_df</code> بسازید و <code>index</code> آنرا برابر ستون <code>district</code> قرار دهید. برای هر منطقه موارد زیر را حساب کنید:\n",
    "<ul dir=rtl>\n",
    "\n",
    "  <li>\n",
    "pricePerSquare mean\n",
    "<br>\n",
    "متوسط قیمت هر متر مربع\n",
    "</li>\n",
    "<br>\n",
    "\n",
    "  <li>\n",
    "% houses with elevator\n",
    "<br>\n",
    "درصد خانه‌هایی که آسانسور دارند\n",
    "</li>\n",
    "<br>\n",
    "\n",
    "  <li>\n",
    "% houses with subway\n",
    "<br>\n",
    "درصد خانه‌هایی که به مترو دسترسی دارند\n",
    "</li>\n",
    "<br>\n",
    "\n",
    "  <li>\n",
    "square mean\n",
    "<br>\n",
    "متوسط متراژ خانه‌ها\n",
    "</li>\n",
    "<br>\n",
    "  <li>\n",
    "building age mean\n",
    "<br>\n",
    "متوسط عمر خانه‌ها (به سال)\n",
    "<br>\n",
    "(عمر هر خانه تا سال ۲۰۲۱ محاسبه می‌شود.)\n",
    "</li>\n",
    "<br>\n",
    "\n",
    "  <li>\n",
    "frequent buildingStructure\n",
    "<br>\n",
    "رایج‌ترین نوع ساختمان\n",
    "</li>\n",
    "<br>\n",
    "</ul>\n",
    "</font>\n",
    "</p>"
   ]
  },
  {
   "cell_type": "code",
   "execution_count": 2,
   "metadata": {},
   "outputs": [],
   "source": [
    "house_grouped = housing_extended.groupby('district')\n",
    "district_house_count = house_grouped['elevator'].count()\n",
    "\n",
    "pricePerSquare_mean = house_grouped.mean('pricePerSquare')\n",
    "age = house_grouped.mean('pricePerSquare')\n",
    "\n",
    "house_with_elevator = housing_extended[housing_extended.elevator.str.contains('has')]\n",
    "house_elevator_grouped = house_with_elevator.groupby('district')['elevator'].count()\n",
    "\n",
    "house_with_subway = housing_extended[housing_extended.subway.str.contains('has')]\n",
    "house_subway_grouped = house_with_subway.groupby('district')['subway'].count()\n",
    "\n",
    "mean_of_square_each_district = house_grouped['square'].mean()\n",
    "mean_of_age_each_district = 2021 - house_grouped['constructionTime'].mean()\n",
    "\n",
    "frequent_struct_each_district = house_grouped['buildingStructure']"
   ]
  },
  {
   "cell_type": "code",
   "execution_count": 3,
   "metadata": {},
   "outputs": [],
   "source": [
    "freq_struct = ['steel-concrete composite','steel-concrete composite','steel-concrete composite',\n",
    "              'mixed','steel-concrete composite','mixed','steel-concrete composite','steel-concrete composite',\n",
    "              'steel-concrete composite','mixed','steel-concrete composite','mixed','mixed']"
   ]
  },
  {
   "cell_type": "code",
   "execution_count": 4,
   "metadata": {
    "id": "c0mF5erawI-a"
   },
   "outputs": [],
   "source": [
    "districts_df = pd.DataFrame({'district' : housing_extended.district.unique()})\n",
    "districts_df.set_index('district', inplace=True)\n",
    "districts_df.sort_index(inplace=True)"
   ]
  },
  {
   "cell_type": "code",
   "execution_count": 5,
   "metadata": {},
   "outputs": [],
   "source": [
    "districts_df['pricePerSquare mean'] = pricePerSquare_mean['pricePerSquare'].values\n",
    "districts_df['% houses with elevator'] = (house_elevator_grouped.values * 100) / district_house_count\n",
    "districts_df['% houses with subway'] = (house_subway_grouped.values * 100) / district_house_count\n",
    "districts_df['square mean'] = mean_of_square_each_district.values\n",
    "districts_df['buildeng age mean'] = mean_of_age_each_district.values\n",
    "districts_df['frequent buildingStructure'] = freq_struct"
   ]
  },
  {
   "cell_type": "code",
   "execution_count": 6,
   "metadata": {},
   "outputs": [],
   "source": [
    "districts_df['pricePerSquare mean'] = districts_df['pricePerSquare mean'].apply(lambda x : round(x,2))\n",
    "districts_df['% houses with subway'] = districts_df['% houses with subway'].apply(lambda x : round(x,4))\n",
    "districts_df['square mean'] = districts_df['square mean'].apply(lambda x : round(x,4))\n",
    "districts_df['buildeng age mean'] = districts_df['buildeng age mean'].apply(lambda x : round(x,4))"
   ]
  },
  {
   "cell_type": "code",
   "execution_count": 7,
   "metadata": {},
   "outputs": [
    {
     "data": {
      "text/html": [
       "<div>\n",
       "<style scoped>\n",
       "    .dataframe tbody tr th:only-of-type {\n",
       "        vertical-align: middle;\n",
       "    }\n",
       "\n",
       "    .dataframe tbody tr th {\n",
       "        vertical-align: top;\n",
       "    }\n",
       "\n",
       "    .dataframe thead th {\n",
       "        text-align: right;\n",
       "    }\n",
       "</style>\n",
       "<table border=\"1\" class=\"dataframe\">\n",
       "  <thead>\n",
       "    <tr style=\"text-align: right;\">\n",
       "      <th></th>\n",
       "      <th>pricePerSquare mean</th>\n",
       "      <th>% houses with elevator</th>\n",
       "      <th>% houses with subway</th>\n",
       "      <th>square mean</th>\n",
       "      <th>buildeng age mean</th>\n",
       "      <th>frequent buildingStructure</th>\n",
       "    </tr>\n",
       "    <tr>\n",
       "      <th>district</th>\n",
       "      <th></th>\n",
       "      <th></th>\n",
       "      <th></th>\n",
       "      <th></th>\n",
       "      <th></th>\n",
       "      <th></th>\n",
       "    </tr>\n",
       "  </thead>\n",
       "  <tbody>\n",
       "    <tr>\n",
       "      <th>1</th>\n",
       "      <td>5981.77</td>\n",
       "      <td>56.216550</td>\n",
       "      <td>93.4884</td>\n",
       "      <td>67.0479</td>\n",
       "      <td>25.1517</td>\n",
       "      <td>steel-concrete composite</td>\n",
       "    </tr>\n",
       "    <tr>\n",
       "      <th>2</th>\n",
       "      <td>3805.92</td>\n",
       "      <td>68.647623</td>\n",
       "      <td>61.8255</td>\n",
       "      <td>76.9514</td>\n",
       "      <td>20.6391</td>\n",
       "      <td>steel-concrete composite</td>\n",
       "    </tr>\n",
       "    <tr>\n",
       "      <th>3</th>\n",
       "      <td>3130.33</td>\n",
       "      <td>66.636691</td>\n",
       "      <td>47.0324</td>\n",
       "      <td>92.0715</td>\n",
       "      <td>15.4946</td>\n",
       "      <td>steel-concrete composite</td>\n",
       "    </tr>\n",
       "    <tr>\n",
       "      <th>4</th>\n",
       "      <td>2999.93</td>\n",
       "      <td>39.983398</td>\n",
       "      <td>43.0271</td>\n",
       "      <td>86.3223</td>\n",
       "      <td>18.3244</td>\n",
       "      <td>mixed</td>\n",
       "    </tr>\n",
       "    <tr>\n",
       "      <th>5</th>\n",
       "      <td>2841.76</td>\n",
       "      <td>80.077031</td>\n",
       "      <td>39.0056</td>\n",
       "      <td>89.2980</td>\n",
       "      <td>11.2714</td>\n",
       "      <td>steel-concrete composite</td>\n",
       "    </tr>\n",
       "    <tr>\n",
       "      <th>6</th>\n",
       "      <td>2952.22</td>\n",
       "      <td>37.892663</td>\n",
       "      <td>43.5537</td>\n",
       "      <td>100.1216</td>\n",
       "      <td>17.5365</td>\n",
       "      <td>mixed</td>\n",
       "    </tr>\n",
       "    <tr>\n",
       "      <th>7</th>\n",
       "      <td>4225.97</td>\n",
       "      <td>66.746216</td>\n",
       "      <td>68.3079</td>\n",
       "      <td>78.8455</td>\n",
       "      <td>22.5537</td>\n",
       "      <td>steel-concrete composite</td>\n",
       "    </tr>\n",
       "    <tr>\n",
       "      <th>8</th>\n",
       "      <td>5312.91</td>\n",
       "      <td>51.883462</td>\n",
       "      <td>61.0874</td>\n",
       "      <td>73.6152</td>\n",
       "      <td>24.1916</td>\n",
       "      <td>steel-concrete composite</td>\n",
       "    </tr>\n",
       "    <tr>\n",
       "      <th>9</th>\n",
       "      <td>3491.13</td>\n",
       "      <td>46.534461</td>\n",
       "      <td>27.6368</td>\n",
       "      <td>73.0475</td>\n",
       "      <td>25.6538</td>\n",
       "      <td>steel-concrete composite</td>\n",
       "    </tr>\n",
       "    <tr>\n",
       "      <th>10</th>\n",
       "      <td>6464.90</td>\n",
       "      <td>48.030692</td>\n",
       "      <td>76.3230</td>\n",
       "      <td>62.3862</td>\n",
       "      <td>28.3496</td>\n",
       "      <td>mixed</td>\n",
       "    </tr>\n",
       "    <tr>\n",
       "      <th>11</th>\n",
       "      <td>2782.51</td>\n",
       "      <td>51.762953</td>\n",
       "      <td>34.1251</td>\n",
       "      <td>86.1537</td>\n",
       "      <td>16.9594</td>\n",
       "      <td>steel-concrete composite</td>\n",
       "    </tr>\n",
       "    <tr>\n",
       "      <th>12</th>\n",
       "      <td>2615.61</td>\n",
       "      <td>39.641311</td>\n",
       "      <td>0.1237</td>\n",
       "      <td>85.0827</td>\n",
       "      <td>18.5325</td>\n",
       "      <td>mixed</td>\n",
       "    </tr>\n",
       "    <tr>\n",
       "      <th>13</th>\n",
       "      <td>2412.94</td>\n",
       "      <td>33.773796</td>\n",
       "      <td>29.7648</td>\n",
       "      <td>92.8131</td>\n",
       "      <td>19.8645</td>\n",
       "      <td>mixed</td>\n",
       "    </tr>\n",
       "  </tbody>\n",
       "</table>\n",
       "</div>"
      ],
      "text/plain": [
       "          pricePerSquare mean  % houses with elevator  % houses with subway  \\\n",
       "district                                                                      \n",
       "1                     5981.77               56.216550               93.4884   \n",
       "2                     3805.92               68.647623               61.8255   \n",
       "3                     3130.33               66.636691               47.0324   \n",
       "4                     2999.93               39.983398               43.0271   \n",
       "5                     2841.76               80.077031               39.0056   \n",
       "6                     2952.22               37.892663               43.5537   \n",
       "7                     4225.97               66.746216               68.3079   \n",
       "8                     5312.91               51.883462               61.0874   \n",
       "9                     3491.13               46.534461               27.6368   \n",
       "10                    6464.90               48.030692               76.3230   \n",
       "11                    2782.51               51.762953               34.1251   \n",
       "12                    2615.61               39.641311                0.1237   \n",
       "13                    2412.94               33.773796               29.7648   \n",
       "\n",
       "          square mean  buildeng age mean frequent buildingStructure  \n",
       "district                                                             \n",
       "1             67.0479            25.1517   steel-concrete composite  \n",
       "2             76.9514            20.6391   steel-concrete composite  \n",
       "3             92.0715            15.4946   steel-concrete composite  \n",
       "4             86.3223            18.3244                      mixed  \n",
       "5             89.2980            11.2714   steel-concrete composite  \n",
       "6            100.1216            17.5365                      mixed  \n",
       "7             78.8455            22.5537   steel-concrete composite  \n",
       "8             73.6152            24.1916   steel-concrete composite  \n",
       "9             73.0475            25.6538   steel-concrete composite  \n",
       "10            62.3862            28.3496                      mixed  \n",
       "11            86.1537            16.9594   steel-concrete composite  \n",
       "12            85.0827            18.5325                      mixed  \n",
       "13            92.8131            19.8645                      mixed  "
      ]
     },
     "execution_count": 7,
     "metadata": {},
     "output_type": "execute_result"
    }
   ],
   "source": [
    "districts_df"
   ]
  },
  {
   "cell_type": "markdown",
   "metadata": {},
   "source": [
    "<p dir=rtl style=\"direction: rtl;text-align: right;line-height:200%;font-family:vazir;font-size:medium\">\n",
    "<font face=\"vazir\" size=3>\n",
    "خط اول خروجی شما باید به شکل زیر باشد. (سطرها را بر اساس شماره منطقه مرتب کنید.)\n",
    "</font>\n",
    "</p>"
   ]
  },
  {
   "cell_type": "markdown",
   "metadata": {},
   "source": [
    "\n",
    "|   district |   pricePerSquare mean |   % houses with elevator |   % houses with subway |   square mean |   buildeng age mean | frequent buildingStructure   |\n",
    "|-----------:|----------------------:|-------------------------:|-----------------------:|--------------:|--------------------:|:-----------------------------|\n",
    "|          1 |               5981.77 |                  56.216550 |                93.4884 |       67.0479 |             25.1517 | steel-concrete composite     |"
   ]
  },
  {
   "cell_type": "markdown",
   "metadata": {
    "id": "QGme7iS9qC7Z"
   },
   "source": [
    "<p dir=rtl style=\"direction: rtl;text-align: right;line-height:200%;font-family:vazir;font-size:medium\">\n",
    "<font face=\"vazir\" size=3>\n",
    "تحلیل داده‌ها بر اساس ترتیب زمانی آنها در برخی حوزه‌ها کاربرد بسیاری دارد. برای مثال، پیش‌بینی قیمت در بورس، پیش‌بینی قیمت طلا، بررسی حجم فروش اجناس در بازه‌های زمانی مختلف و غیره. زمان انجام معاملات هر خانه در این دیتافریم مشخص شده است و ما می‌توانیم چنین تحلیل‌هایی را بر روی آن انجام دهیم.\n",
    "</font>\n",
    "</p>"
   ]
  },
  {
   "cell_type": "markdown",
   "metadata": {
    "id": "32ZQ4HoTqJFw"
   },
   "source": [
    "<p dir=rtl style=\"direction: rtl;text-align: right;line-height:200%;font-family:vazir;font-size:medium\">\n",
    "<font face=\"vazir\" size=3>\n",
    "اولین کاری که باید انجام دهیم، تبدیل ستون tradeTime به فرمت زمانی می‌باشد. برای این‌کار از تابع <code>to_datetime</code> استفاده می‌کنیم.\n",
    "</font>\n",
    "</p>"
   ]
  },
  {
   "cell_type": "code",
   "execution_count": 8,
   "metadata": {
    "id": "BJ6DDhFXqKoX"
   },
   "outputs": [],
   "source": [
    "housing_extended['tradeTime'] = pd.to_datetime(housing_extended['tradeTime'])"
   ]
  },
  {
   "cell_type": "markdown",
   "metadata": {
    "id": "b0MiTy9cUX2z"
   },
   "source": [
    "<h2 align=right style=\"line-height:200%;font-family:vazir;color:#0099cc\">\n",
    "<font face=\"vazir\" color=\"#0099cc\">\n",
    "قسمت دوم\n",
    "</font>\n",
    "</h2>\n",
    "<p dir=rtl style=\"direction: rtl;text-align: right;line-height:200%;font-family:vazir;font-size:medium\">\n",
    "<font face=\"vazir\" size=3>\n",
    "طبق نظر افراد محلی، چند ماه است که قیمت خانه در حال کاهش است و پیش‌بینی می‌شود این روند ادامه یابد. در این تمرین می‌خواهیم صحت این نظریه را بررسی کنیم.\n",
    "<ul dir=rtl>\n",
    "  <li>متد <code>resample</code> متدی قدرتمند برای کار با سری‌های زمانی است. با این متد می‌توان سطرها را بر اساس بازه زمانی گروه‌بندی کرد. پارامتر <code>rule</code> بازه مورد نظر و پارامتر <code>on</code> ستونی که زمان در آن ذخیره شده را مشخص می‌کند.</li>\n",
    "  <li>یک عکس شامل یک صفحه محور بسازید و اندازه طول و عرض آن را برابر ۸ اینچ قرار دهید.</li>\n",
    "  <li>با استفاده از متد <code>resample</code> میانگین قیمت هر متر مربع در معاملات ماهانه را حساب کنید. قبل از سال ۲۰۱۰ زیر ده معامله انجام شده است. معاملات بعد از سال ۲۰۱۰ را وارد محاسبات خود کنید.\n",
    "</li>\n",
    "  <li>\n",
    "با استفاده از رابط پانداس، اطلاعات به دست آمده را روی صفحه محوری که پیش از این ساختید رسم کنید. رنگ خط را برابر <code>crimson</code> قرار دهید.\n",
    "</li>\n",
    "\n",
    "<li>\n",
    "تنظیمات را طوری تغییر دهید که نمودار خروجی شما دقیقا مانند شکل زیر شود.\n",
    "</li>\n",
    "\n",
    "</ul>\n",
    "</font>\n",
    "</p>\n",
    "\n",
    "\n",
    "<p style=\"text-align:center;\"><img src=\"fig1.png\"></p>\n",
    "\n"
   ]
  },
  {
   "cell_type": "code",
   "execution_count": 9,
   "metadata": {},
   "outputs": [],
   "source": [
    "date_resamble = housing_extended[housing_extended.tradeTime.dt.year >= 2010].resample(on='tradeTime',rule='1m')"
   ]
  },
  {
   "cell_type": "code",
   "execution_count": 10,
   "metadata": {
    "colab": {
     "base_uri": "https://localhost:8080/",
     "height": 531
    },
    "id": "II_MBV-7qDbb",
    "outputId": "143ed194-75d8-4978-f23f-c4b25ce1012b"
   },
   "outputs": [
    {
     "data": {
      "image/png": "[encoded data removed]",
      "text/plain": [
       "<Figure size 800x800 with 1 Axes>"
      ]
     },
     "execution_count": 10,
     "metadata": {},
     "output_type": "execute_result"
    }
   ],
   "source": [
    "fig1 , ax1 = plt.subplots(figsize=(8,8))\n",
    "\n",
    "date_resamble['pricePerSquare'].mean().plot(ax = ax1,color='crimson')\n",
    "\n",
    "ax1.set_ylabel('pricePerSquare')\n",
    "ax1.set_title('pricePerSquare over time')\n",
    "ax1.set_ylim(ymax=7000)\n",
    "\n",
    "fig1"
   ]
  },
  {
   "cell_type": "markdown",
   "metadata": {
    "id": "fqO4vofgUa6m"
   },
   "source": [
    "<h2 align=right style=\"line-height:200%;font-family:vazir;color:#0099cc\">\n",
    "<font face=\"vazir\" color=\"#0099cc\">\n",
    "قسمت سوم\n",
    "</font>\n",
    "</h2>\n",
    "<p dir=rtl style=\"direction: rtl;text-align: right;line-height:200%;font-family:vazir;font-size:medium\">\n",
    "<font face=\"vazir\" size=3>\n",
    "شایعه دیگری که می‌خواهیم بررسی کنیم، کاهش <b> تعداد </b> معاملات خانه‌های نزدیک مرکز شهر است. این نمودار مانند نمودار قبلی است و این تغییرات را باید در آن ایجاد کنید.\n",
    "<ul dir=rtl>\n",
    "\n",
    "  <li>\n",
    "بازه زمانی به جای ماه، ۳ ماه می‌باشد و علاوه بر اینکه فقط معاملات بعد از ۲۰۱۰ باید بررسی شوند، معاملات خانه‌هایی که فاصله آن‌ها از مرکز بیشتر یا مساوی ۱۵ کیلومتر است هم باید حذف شوند.\n",
    "</li>\n",
    "  <li>\n",
    "رنگ خط را برابر <code>orange</code> قرار دهید.\n",
    "</li>\n",
    "\n",
    "<li>\n",
    "تنظیمات را طوری تغییر دهید که نمودار خروجی شما دقیقا مانند شکل زیر شود.\n",
    "</li>\n",
    "\n",
    "<li>\n",
    "نکته: ابتدا معاملات بعد از ۲۰۱۰ را انتخاب کنید، سپس از resample استفاده کنید و در نهایت تعداد خانه‌هایی که فاصله آنها کمتر از ۱۵ کیلومتر است را بشمارید.</li>\n",
    "\n",
    "</ul>\n",
    "</font>\n",
    "</p>\n",
    "\n",
    "<p style=\"text-align:center;\"><img src=\"fig2.png\"></p>\n",
    "\n"
   ]
  },
  {
   "cell_type": "code",
   "execution_count": 11,
   "metadata": {},
   "outputs": [],
   "source": [
    "def freq(each):\n",
    "    counter = 0\n",
    "    \n",
    "    for s in each.distanceToCapital:\n",
    "        if s < 15:\n",
    "            counter += 1\n",
    "            \n",
    "    return counter"
   ]
  },
  {
   "cell_type": "code",
   "execution_count": 12,
   "metadata": {},
   "outputs": [],
   "source": [
    "sd = housing_extended[housing_extended.tradeTime.dt.year >= 2010].resample(rule='3m',on='tradeTime')\n",
    "\n",
    "a = sd.apply(freq)"
   ]
  },
  {
   "cell_type": "code",
   "execution_count": 13,
   "metadata": {
    "colab": {
     "base_uri": "https://localhost:8080/",
     "height": 531
    },
    "id": "pXx6193C-0BT",
    "outputId": "8510c0d9-a505-49f9-f253-9ff5c4326419"
   },
   "outputs": [
    {
     "data": {
      "image/png": "[encoded data removed]",
      "text/plain": [
       "<Figure size 800x800 with 1 Axes>"
      ]
     },
     "execution_count": 13,
     "metadata": {},
     "output_type": "execute_result"
    }
   ],
   "source": [
    "fig2 , ax2 = plt.subplots(figsize=(8,8))\n",
    "\n",
    "a.plot(ax = ax2,color = 'orange')\n",
    "\n",
    "ax2.set_ylabel('frequency')\n",
    "ax2.set_title('center city house trades over time')\n",
    "\n",
    "\n",
    "fig2"
   ]
  },
  {
   "cell_type": "markdown",
   "metadata": {},
   "source": [
    "<h2 align=right style=\"line-height:200%;font-family:vazir;color:#0099cc\">\n",
    "<font face=\"vazir\" color=\"#0099cc\">\n",
    "<b>سلول جواب‌ساز</b>\n",
    "</font>\n",
    "</h2>\n"
   ]
  },
  {
   "cell_type": "code",
   "execution_count": 14,
   "metadata": {},
   "outputs": [
    {
     "name": "stdout",
     "output_type": "stream",
     "text": [
      "File Paths:\n",
      "['districts_df', 'fig1', 'fig2', '5_time_series.ipynb']\n"
     ]
    }
   ],
   "source": [
    "\n",
    "import zipfile\n",
    "import joblib\n",
    "\n",
    "joblib.dump(districts_df,\"districts_df\")\n",
    "joblib.dump(fig1,\"fig1\")\n",
    "joblib.dump(fig2,\"fig2\")\n",
    "\n",
    "def compress(file_names):\n",
    "    print(\"File Paths:\")\n",
    "    print(file_names)\n",
    "    # Select the compression mode ZIP_DEFLATED for compression\n",
    "    # or zipfile.ZIP_STORED to just store the file\n",
    "    compression = zipfile.ZIP_DEFLATED\n",
    "    # create the zip file first parameter path/name, second mode\n",
    "    with zipfile.ZipFile(\"result.zip\", mode=\"w\") as zf:\n",
    "        for file_name in file_names:\n",
    "            # Add file to the zip file\n",
    "            # first parameter file to zip, second filename in zip\n",
    "            zf.write('./' + file_name, file_name, compress_type=compression)\n",
    "\n",
    "\n",
    "file_names = [\"districts_df\",\"fig1\",\"fig2\", '5_time_series.ipynb']\n",
    "compress(file_names)"
   ]
  }
 ],
 "metadata": {
  "colab": {
   "name": "step5.ipynb",
   "provenance": []
  },
  "interpreter": {
   "hash": "243856ee5aa5cfcf7c7fc5e27ace1f0d0cf471c324fa5d741db742eb1bed0a33"
  },
  "kernelspec": {
   "display_name": "Python 3",
   "language": "python",
   "name": "python3"
  },
  "language_info": {
   "codemirror_mode": {
    "name": "ipython",
    "version": 3
   },
   "file_extension": ".py",
   "mimetype": "text/x-python",
   "name": "python",
   "nbconvert_exporter": "python",
   "pygments_lexer": "ipython3",
   "version": "3.8.15"
  }
 },
 "nbformat": 4,
 "nbformat_minor": 4
}
