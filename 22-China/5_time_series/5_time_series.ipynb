{
 "cells": [
  {
   "cell_type": "markdown",
   "metadata": {},
   "source": [
    "<h1 align=center style=\"line-height:200%;font-family:vazir;color:#0099cc\">\n",
    "<font face=\"vazir\" color=\"#0099cc\">\n",
    "تحلیل زمانی\n",
    "</font>\n",
    "</h1>\n"
   ]
  },
  {
   "cell_type": "code",
   "execution_count": null,
   "metadata": {
    "id": "i_Yj6huOoXFw"
   },
   "outputs": [],
   "source": [
    "import pandas as pd\n",
    "import matplotlib.pyplot as plt\n",
    "\n",
    "housing_extended = pd.read_csv('housing_extended.csv', encoding='gbk')"
   ]
  },
  {
   "cell_type": "markdown",
   "metadata": {},
   "source": [
    "<p dir=rtl style=\"direction: rtl;text-align: right;line-height:200%;font-family:vazir;font-size:medium\">\n",
    "<font face=\"vazir\" size=3>\n",
    "می‌خواهیم گزارشی تهیه کنیم و مناطق مختلف شهر را از زوایای گوناگون مورد بررسی قرار دهیم. \n",
    "</font>\n",
    "</p>"
   ]
  },
  {
   "cell_type": "markdown",
   "metadata": {
    "id": "ElE5Q1DornBz"
   },
   "source": [
    "<h2 align=right style=\"line-height:200%;font-family:vazir;color:#0099cc\">\n",
    "<font face=\"vazir\" color=\"#0099cc\">\n",
    "قسمت اول\n",
    "</font>\n",
    "</h2>\n",
    "<p dir=rtl style=\"direction: rtl;text-align: right;line-height:200%;font-family:vazir;font-size:medium\">\n",
    "<font face=\"vazir\" size=3>\n",
    "دیتافریمی به نام <code>districts_df</code> بسازید و <code>index</code> آنرا برابر ستون <code>district</code> قرار دهید. برای هر منطقه موارد زیر را حساب کنید:\n",
    "<ul dir=rtl>\n",
    "\n",
    "  <li>\n",
    "pricePerSquare mean\n",
    "<br>\n",
    "متوسط قیمت هر متر مربع\n",
    "</li>\n",
    "<br>\n",
    "\n",
    "  <li>\n",
    "% houses with elevator\n",
    "<br>\n",
    "درصد خانه‌هایی که آسانسور دارند\n",
    "</li>\n",
    "<br>\n",
    "\n",
    "  <li>\n",
    "% houses with subway\n",
    "<br>\n",
    "درصد خانه‌هایی که به مترو دسترسی دارند\n",
    "</li>\n",
    "<br>\n",
    "\n",
    "  <li>\n",
    "square mean\n",
    "<br>\n",
    "متوسط متراژ خانه‌ها\n",
    "</li>\n",
    "<br>\n",
    "  <li>\n",
    "building age mean\n",
    "<br>\n",
    "متوسط عمر خانه‌ها (به سال)\n",
    "<br>\n",
    "(عمر هر خانه تا سال ۲۰۲۱ محاسبه می‌شود.)\n",
    "</li>\n",
    "<br>\n",
    "\n",
    "  <li>\n",
    "frequent buildingStructure\n",
    "<br>\n",
    "رایج‌ترین نوع ساختمان\n",
    "</li>\n",
    "<br>\n",
    "</ul>\n",
    "</font>\n",
    "</p>"
   ]
  },
  {
   "cell_type": "code",
   "execution_count": null,
   "metadata": {
    "id": "c0mF5erawI-a"
   },
   "outputs": [],
   "source": [
    "districts_df = None # to do"
   ]
  },
  {
   "cell_type": "code",
   "execution_count": null,
   "metadata": {
    "colab": {
     "base_uri": "https://localhost:8080/"
    },
    "id": "aGHuSPrlJPYB",
    "outputId": "b4ac0fed-52a7-4c03-db0e-e14bcc13c6d1"
   },
   "outputs": [],
   "source": [
    "\n",
    "districts_df.set_index('district', inplace=True)"
   ]
  },
  {
   "cell_type": "markdown",
   "metadata": {},
   "source": [
    "<p dir=rtl style=\"direction: rtl;text-align: right;line-height:200%;font-family:vazir;font-size:medium\">\n",
    "<font face=\"vazir\" size=3>\n",
    "خط اول خروجی شما باید به شکل زیر باشد. (سطرها را بر اساس شماره منطقه مرتب کنید.)\n",
    "</font>\n",
    "</p>"
   ]
  },
  {
   "cell_type": "markdown",
   "metadata": {},
   "source": [
    "\n",
    "|   district |   pricePerSquare mean |   % houses with elevator |   % houses with subway |   square mean |   buildeng age mean | frequent buildingStructure   |\n",
    "|-----------:|----------------------:|-------------------------:|-----------------------:|--------------:|--------------------:|:-----------------------------|\n",
    "|          1 |               5981.77 |                  56.216550 |                93.4884 |       67.0479 |             25.1517 | steel-concrete composite     |"
   ]
  },
  {
   "cell_type": "markdown",
   "metadata": {
    "id": "QGme7iS9qC7Z"
   },
   "source": [
    "<p dir=rtl style=\"direction: rtl;text-align: right;line-height:200%;font-family:vazir;font-size:medium\">\n",
    "<font face=\"vazir\" size=3>\n",
    "تحلیل داده‌ها بر اساس ترتیب زمانی آنها در برخی حوزه‌ها کاربرد بسیاری دارد. برای مثال، پیش‌بینی قیمت در بورس، پیش‌بینی قیمت طلا، بررسی حجم فروش اجناس در بازه‌های زمانی مختلف و غیره. زمان انجام معاملات هر خانه در این دیتافریم مشخص شده است و ما می‌توانیم چنین تحلیل‌هایی را بر روی آن انجام دهیم.\n",
    "</font>\n",
    "</p>"
   ]
  },
  {
   "cell_type": "markdown",
   "metadata": {
    "id": "32ZQ4HoTqJFw"
   },
   "source": [
    "<p dir=rtl style=\"direction: rtl;text-align: right;line-height:200%;font-family:vazir;font-size:medium\">\n",
    "<font face=\"vazir\" size=3>\n",
    "اولین کاری که باید انجام دهیم، تبدیل ستون tradeTime به فرمت زمانی می‌باشد. برای این‌کار از تابع <code>to_datetime</code> استفاده می‌کنیم.\n",
    "</font>\n",
    "</p>"
   ]
  },
  {
   "cell_type": "code",
   "execution_count": null,
   "metadata": {
    "id": "BJ6DDhFXqKoX"
   },
   "outputs": [],
   "source": [
    "housing_extended['tradeTime'] = pd.to_datetime(housing_extended['tradeTime'])"
   ]
  },
  {
   "cell_type": "markdown",
   "metadata": {
    "id": "b0MiTy9cUX2z"
   },
   "source": [
    "<h2 align=right style=\"line-height:200%;font-family:vazir;color:#0099cc\">\n",
    "<font face=\"vazir\" color=\"#0099cc\">\n",
    "قسمت دوم\n",
    "</font>\n",
    "</h2>\n",
    "<p dir=rtl style=\"direction: rtl;text-align: right;line-height:200%;font-family:vazir;font-size:medium\">\n",
    "<font face=\"vazir\" size=3>\n",
    "طبق نظر افراد محلی، چند ماه است که قیمت خانه در حال کاهش است و پیش‌بینی می‌شود این روند ادامه یابد. در این تمرین می‌خواهیم صحت این نظریه را بررسی کنیم.\n",
    "<ul dir=rtl>\n",
    "  <li>متد <code>resample</code> متدی قدرتمند برای کار با سری‌های زمانی است. با این متد می‌توان سطرها را بر اساس بازه زمانی گروه‌بندی کرد. پارامتر <code>rule</code> بازه مورد نظر و پارامتر <code>on</code> ستونی که زمان در آن ذخیره شده را مشخص می‌کند.</li>\n",
    "  <li>یک عکس شامل یک صفحه محور بسازید و اندازه طول و عرض آن را برابر ۸ اینچ قرار دهید.</li>\n",
    "  <li>با استفاده از متد <code>resample</code> میانگین قیمت هر متر مربع در معاملات ماهانه را حساب کنید. قبل از سال ۲۰۱۰ زیر ده معامله انجام شده است. معاملات بعد از سال ۲۰۱۰ را وارد محاسبات خود کنید.\n",
    "</li>\n",
    "  <li>\n",
    "با استفاده از رابط پانداس، اطلاعات به دست آمده را روی صفحه محوری که پیش از این ساختید رسم کنید. رنگ خط را برابر <code>crimson</code> قرار دهید.\n",
    "</li>\n",
    "\n",
    "<li>\n",
    "تنظیمات را طوری تغییر دهید که نمودار خروجی شما دقیقا مانند شکل زیر شود.\n",
    "</li>\n",
    "\n",
    "</ul>\n",
    "</font>\n",
    "</p>\n",
    "\n",
    "\n",
    "<p style=\"text-align:center;\"><img src=\"fig1.png\"></p>\n",
    "\n"
   ]
  },
  {
   "cell_type": "code",
   "execution_count": null,
   "metadata": {
    "colab": {
     "base_uri": "https://localhost:8080/",
     "height": 531
    },
    "id": "II_MBV-7qDbb",
    "outputId": "143ed194-75d8-4978-f23f-c4b25ce1012b"
   },
   "outputs": [],
   "source": [
    "fig1 , ax1 = None"
   ]
  },
  {
   "cell_type": "markdown",
   "metadata": {
    "id": "fqO4vofgUa6m"
   },
   "source": [
    "<h2 align=right style=\"line-height:200%;font-family:vazir;color:#0099cc\">\n",
    "<font face=\"vazir\" color=\"#0099cc\">\n",
    "قسمت سوم\n",
    "</font>\n",
    "</h2>\n",
    "<p dir=rtl style=\"direction: rtl;text-align: right;line-height:200%;font-family:vazir;font-size:medium\">\n",
    "<font face=\"vazir\" size=3>\n",
    "شایعه دیگری که می‌خواهیم بررسی کنیم، کاهش <b> تعداد </b> معاملات خانه‌های نزدیک مرکز شهر است. این نمودار مانند نمودار قبلی است و این تغییرات را باید در آن ایجاد کنید.\n",
    "<ul dir=rtl>\n",
    "\n",
    "  <li>\n",
    "بازه زمانی به جای ماه، ۳ ماه می‌باشد و علاوه بر اینکه فقط معاملات بعد از ۲۰۱۰ باید بررسی شوند، معاملات خانه‌هایی که فاصله آن‌ها از مرکز بیشتر یا مساوی ۱۵ کیلومتر است هم باید حذف شوند.\n",
    "</li>\n",
    "  <li>\n",
    "رنگ خط را برابر <code>orange</code> قرار دهید.\n",
    "</li>\n",
    "\n",
    "<li>\n",
    "تنظیمات را طوری تغییر دهید که نمودار خروجی شما دقیقا مانند شکل زیر شود.\n",
    "</li>\n",
    "\n",
    "<li>\n",
    "نکته: ابتدا معاملات بعد از ۲۰۱۰ را انتخاب کنید، سپس از resample استفاده کنید و در نهایت تعداد خانه‌هایی که فاصله آنها کمتر از ۱۵ کیلومتر است را بشمارید.</li>\n",
    "\n",
    "</ul>\n",
    "</font>\n",
    "</p>\n",
    "\n",
    "<p style=\"text-align:center;\"><img src=\"fig2.png\"></p>\n",
    "\n"
   ]
  },
  {
   "cell_type": "code",
   "execution_count": null,
   "metadata": {
    "colab": {
     "base_uri": "https://localhost:8080/",
     "height": 531
    },
    "id": "pXx6193C-0BT",
    "outputId": "8510c0d9-a505-49f9-f253-9ff5c4326419"
   },
   "outputs": [],
   "source": [
    "\n",
    "fig2 , ax2 = None"
   ]
  },
  {
   "cell_type": "markdown",
   "metadata": {},
   "source": [
    "<h2 align=right style=\"line-height:200%;font-family:vazir;color:#0099cc\">\n",
    "<font face=\"vazir\" color=\"#0099cc\">\n",
    "<b>سلول جواب‌ساز</b>\n",
    "</font>\n",
    "</h2>\n"
   ]
  },
  {
   "cell_type": "code",
   "execution_count": null,
   "metadata": {},
   "outputs": [],
   "source": [
    "\n",
    "import zipfile\n",
    "import joblib\n",
    "\n",
    "joblib.dump(districts_df,\"districts_df\")\n",
    "joblib.dump(fig1,\"fig1\")\n",
    "joblib.dump(fig2,\"fig2\")\n",
    "\n",
    "def compress(file_names):\n",
    "    print(\"File Paths:\")\n",
    "    print(file_names)\n",
    "    # Select the compression mode ZIP_DEFLATED for compression\n",
    "    # or zipfile.ZIP_STORED to just store the file\n",
    "    compression = zipfile.ZIP_DEFLATED\n",
    "    # create the zip file first parameter path/name, second mode\n",
    "    with zipfile.ZipFile(\"result.zip\", mode=\"w\") as zf:\n",
    "        for file_name in file_names:\n",
    "            # Add file to the zip file\n",
    "            # first parameter file to zip, second filename in zip\n",
    "            zf.write('./' + file_name, file_name, compress_type=compression)\n",
    "\n",
    "\n",
    "file_names = [\"districts_df\",\"fig1\",\"fig2\", '5_time_series.ipynb']\n",
    "compress(file_names)"
   ]
  }
 ],
 "metadata": {
  "colab": {
   "name": "step5.ipynb",
   "provenance": []
  },
  "interpreter": {
   "hash": "243856ee5aa5cfcf7c7fc5e27ace1f0d0cf471c324fa5d741db742eb1bed0a33"
  },
  "kernelspec": {
   "display_name": "Python 3.7.4 64-bit",
   "name": "python3"
  },
  "language_info": {
   "codemirror_mode": {
    "name": "ipython",
    "version": 3
   },
   "file_extension": ".py",
   "mimetype": "text/x-python",
   "name": "python",
   "nbconvert_exporter": "python",
   "pygments_lexer": "ipython3",
   "version": "3.7.4"
  }
 },
 "nbformat": 4,
 "nbformat_minor": 4
}
