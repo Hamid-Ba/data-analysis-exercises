{
 "metadata": {
  "language_info": {
   "codemirror_mode": {
    "name": "ipython",
    "version": 3
   },
   "file_extension": ".py",
   "mimetype": "text/x-python",
   "name": "python",
   "nbconvert_exporter": "python",
   "pygments_lexer": "ipython3",
   "version": "3.7.4"
  },
  "orig_nbformat": 4,
  "kernelspec": {
   "name": "python3",
   "display_name": "Python 3.7.4 64-bit ('qenv': venv)"
  },
  "interpreter": {
   "hash": "a1a46404003b1888471f66733c8ff43ecbbd22069e04669a0d47e7a2f84d0bb4"
  }
 },
 "nbformat": 4,
 "nbformat_minor": 2,
 "cells": [
  {
   "cell_type": "markdown",
   "source": [
    "\n",
    "<h1 align=center style=\"line-height:200%;font-family:vazir;color:#0099cc\">\n",
    "<font face=\"vazir\" color=\"#0099cc\">\n",
    "آب رفته به جوی باز‌می‌گردد\n",
    "\n",
    "</font>\n",
    "</h1>\n"
   ],
   "metadata": {}
  },
  {
   "cell_type": "markdown",
   "source": [
    "\n",
    "<p dir=rtl style=\"direction: rtl;text-align: right;line-height:200%;font-family:vazir;font-size:medium\">\n",
    "<font face=\"vazir\" size=3>\n",
    "روزی از روز‌ها، نازنین‌زهرا در حال حذف فایلهای اضافی روی لپ‌تاپش بود و فولدری تحت عنوان plot را حذف کرد. فردای آنروز اَرشیا، برادر نازنین‌زهرا سراغ او آمد و گفت در فولدری به اسم plot ، کدی قرار داده‌ بود که میزان دویدن هفتگی او را رسم می‌کرد و حالا می‌خواهد تغییری کوچک در کد ایجاد کند.\n",
    "نازنین‌زهرا که فهمید خرابکاری کرده، به اَرشیا گفت که فایلها را جابجا کرده و این فایل نوت‌بوک را تا فردا پیدا می‌کند. حالا در رفع این مصیبت وارده به نازنین‌زهرا کمک کنید.\n",
    "\n",
    "</font>\n",
    "</p>\n"
   ],
   "metadata": {}
  },
  {
   "cell_type": "markdown",
   "source": [
    "<div dir=rtl style=\"line-height:200%;font-family:vazir;font-size:medium\">\n",
    "<p style=\"direction: rtl;text-align: right;\">\n",
    "<font face=\"vazir\" size=3>\n",
    "آناهیتا عکس نمودار را پیدا کرد و بر روی میز یونس هم یادداشت‌هایی قرار داشت که معلوم بود یونس در رسم نمودار از آنها استفاده کرده است. حالا با کمک عکس نمودار و یادداشت‌های یونس، کدی بنویسید که نمودار داخل عکس را رسم کند.\n",
    "\n",
    "</p>\n",
    "</div>\n",
    "\n"
   ],
   "metadata": {}
  },
  {
   "cell_type": "markdown",
   "source": [
    "\n",
    "\n",
    "<h2 align=right style=\"line-height:200%;font-family:vazir;color:#0099cc\">\n",
    "<font face=\"vazir\" color=\"#0099cc\">\n",
    "یادداشت‌های ارشیا\n",
    "</font>\n",
    "</h2>\n",
    "<p dir=rtl style=\"direction: rtl;text-align: right;line-height:200%;font-family:vazir;font-size:medium\">\n",
    "<font face=\"vazir\" size=3>\n",
    "هفته قبل بهتر از هفته‌های دیگه بود و از شنبه تا جمعه به ترتیب ۴۵، ۴۰، ۳۵، ۴۰، ۲۵، ۳۵ و ۱۵ دقیقه دویدم. یه نمودار بکشم که بتونم هفته‌های مختلف رو با هم مقایسه کنم!\n",
    "<br>\n",
    "اندازه نمودار رو هشت در شش اینچ بذارم که برای دیدن اطلاعات نیاز به عینک نباشه.\n",
    "<br>\n",
    "اندازه فونت عنوان صفحه‌محور ۱۸ و رنگ فونتش هم <code>mediumvioletred</code> باشه.\n",
    "<br>\n",
    "نوع مارکر p با سایز ۱۲ و رنگ <code>orange</code> برای داخل مارکرها انگار گزینه معقولیه. خط بین مارکر‌ها رو از جنس <code>dashed</code>   با ضخامت ۲ و رنگ <code>oldlace</code> انتخاب می‌کنم (رنگ زمینه شکل رو هم <code>oldlace</code> می‌ذارم که جاهایی که خط کشیده شده، انگار هیچی نیست و پشت صفحه محور داره دیده میشه!)\n",
    "<br>\n",
    "رنگ زمینه صفحه محور و عناوین محور افقی و عمودی رو <code>blueviolet</code> قرار میدم تا تعداد رنگ‌ها خیلی زیاد نشه. اندازه فونت عناوین محور‌ها رو هم ۱۶ می‌ذارم تا راحت خونده بشن.\n",
    "<br>\n",
    "رنگ روزای هفته رو همون رنگ عنوان صفحه‌محور می‌ذارم.\n",
    "بریم که داشته باشیم یه نمودار خوشگل!\n",
    "</font>\n",
    "</p>\n"
   ],
   "metadata": {}
  },
  {
   "cell_type": "markdown",
   "source": [
    "\n",
    "<h2 align=right style=\"line-height:200%;font-family:vazir;color:#0099cc\">\n",
    "<font face=\"vazir\" color=\"#0099cc\">\n",
    "عکس نمودار\n",
    "</font>\n",
    "</h2>\n",
    "<div dir=rtl style=\"line-height:200%;font-family:vazir;font-size:medium\">\n",
    "<p style=\"direction: rtl;text-align: right;\">\n",
    "<font face=\"vazir\" size=3>\n",
    "<p style=\"text-align:center;\"><img src=\"output.png\"></p>\n",
    "</font>\n",
    "</p>\n",
    "</div>\n"
   ],
   "metadata": {}
  },
  {
   "cell_type": "markdown",
   "source": [
    "\n",
    "<div dir=rtl style=\"line-height:200%;font-family:vazir;font-size:medium\">\n",
    "<p style=\"direction: rtl;text-align: right;\">\n",
    "<font face=\"vazir\" size=3>\n",
    "با توجه به عکس نمودار و یاد‌داشت‌های اَرشیا، کدی بنویسید که دقیقا این نمودار را تولید کند.\n",
    "</font>\n",
    "</p>\n",
    "</div>\n"
   ],
   "metadata": {}
  },
  {
   "cell_type": "code",
   "execution_count": null,
   "source": [
    "import matplotlib.pyplot as plt\n",
    "fig , ax = None # to do"
   ],
   "outputs": [],
   "metadata": {}
  },
  {
   "cell_type": "markdown",
   "source": [
    "\n",
    "<h2 align=right style=\"line-height:200%;font-family:vazir;color:#0099cc\">\n",
    "<font face=\"vazir\" color=\"#0099cc\">\n",
    "سلول جواب‌ساز\n",
    "</font>\n",
    "</h2>\n"
   ],
   "metadata": {}
  },
  {
   "cell_type": "code",
   "execution_count": null,
   "source": [
    "import zlib\n",
    "import zipfile\n",
    "import joblib\n",
    "\n",
    "joblib.dump(fig,\"fig\")\n",
    "joblib.dump(fig,\"fig_t\")\n",
    "\n",
    "def compress(file_names):\n",
    "    print(\"File Paths:\")\n",
    "    print(file_names)\n",
    "    # Select the compression mode ZIP_DEFLATED for compression\n",
    "    # or zipfile.ZIP_STORED to just store the file\n",
    "    compression = zipfile.ZIP_DEFLATED\n",
    "    # create the zip file first parameter path/name, second mode\n",
    "    with zipfile.ZipFile(\"result.zip\", mode=\"w\") as zf:\n",
    "        for file_name in file_names:\n",
    "            # Add file to the zip file\n",
    "            # first parameter file to zip, second filename in zip\n",
    "            zf.write('./' + file_name, file_name, compress_type=compression)\n",
    "\n",
    "\n",
    "file_names = [\"fig\", \"What_is_done_can_be_undone.ipynb\"]\n",
    "compress(file_names)"
   ],
   "outputs": [],
   "metadata": {}
  }
 ]
}